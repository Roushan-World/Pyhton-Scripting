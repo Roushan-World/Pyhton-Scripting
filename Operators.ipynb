{
 "cells": [
  {
   "cell_type": "code",
   "execution_count": 2,
   "id": "9448c35c",
   "metadata": {},
   "outputs": [
    {
     "name": "stdout",
     "output_type": "stream",
     "text": [
      "Enter the pi number\n",
      "3.14\n",
      "Enter the golden ratio\n",
      "1.618\n",
      "Sum of 3.14 and 1.618 is 4.758.\n"
     ]
    }
   ],
   "source": [
    "a=float(input(\"Enter the pi number\\n\"))\n",
    "b=float(input(\"Enter the golden ratio\\n\"))\n",
    "total=a+b\n",
    "print(\"Sum of {} and {} is {}.\".format(a,b,total))"
   ]
  },
  {
   "cell_type": "code",
   "execution_count": 5,
   "id": "7d37b320",
   "metadata": {},
   "outputs": [
    {
     "name": "stdout",
     "output_type": "stream",
     "text": [
      "Enter your favourite fruit:\n",
      "Apple\n",
      "Enter your  favouite food:\n",
      "Biryani\n",
      "I like Apple and Biryani.\n",
      "I like Apple and Biryani.\n",
      "I like Biryani and Apple.\n"
     ]
    }
   ],
   "source": [
    "x=input(\"Enter your favourite fruit:\\n\")\n",
    "y=input(\"Enter your  favouite food:\\n\")\n",
    "print('I like {} and {} .'.format(x,y))\n",
    "print(\"I like {0} and {1}.\".format(x,y))\n",
    "print(\"I like {1} and {0}.\".format(x,y))"
   ]
  },
  {
   "cell_type": "code",
   "execution_count": 1,
   "id": "c6f1ed8b",
   "metadata": {},
   "outputs": [
    {
     "name": "stdout",
     "output_type": "stream",
     "text": [
      "Enter your Favourite player:\n",
      "Dhoni\n",
      "Enter your Favourite game:\n",
      "Cricket\n",
      "I like Dhoni and Cricket. \n",
      "I like Dhoni and Cricket. \n",
      "I like Cricket and Dhoni. \n"
     ]
    }
   ],
   "source": [
    "xx2=input(\"Enter your Favourite player:\\n\")\n",
    "xy2=input(\"Enter your Favourite game:\\n\")\n",
    "print('I like {} and {}. ' .format(xx2,xy2))\n",
    "print('I like {0} and {1}. ' .format(xx2,xy2))\n",
    "print('I like {1} and {0}. ' .format(xx2,xy2))"
   ]
  },
  {
   "cell_type": "code",
   "execution_count": 2,
   "id": "345618ea",
   "metadata": {},
   "outputs": [
    {
     "name": "stdout",
     "output_type": "stream",
     "text": [
      "Enter your favourite player\n",
      "Rohit Sharma\n",
      "Enter your favourite game\n",
      "Cricket\n",
      "I like Rohit Sharma and Cricket.\n",
      "I like Rohit Sharma and Cricket.\n",
      "I like Cricket and Rohit Sharma.\n"
     ]
    }
   ],
   "source": [
    "u=input(\"Enter your favourite player\\n\")\n",
    "v=input(\"Enter your favourite game\\n\")\n",
    "print(\"I like {} and {}.\" .format(u,v))\n",
    "print(\"I like {0} and {1}.\" .format(u,v))\n",
    "print(\"I like {1} and {0}.\" .format(u,v))"
   ]
  },
  {
   "cell_type": "code",
   "execution_count": 3,
   "id": "c2997f74",
   "metadata": {},
   "outputs": [
    {
     "name": "stdout",
     "output_type": "stream",
     "text": [
      "Enter your favouraite game:\n",
      "Valorant\n",
      "Enter your favouraite character:\n",
      "viper\n",
      "I like Valorant and viper.\n",
      "I like Valorant and viper.\n",
      "I like viper and Valorant.\n"
     ]
    }
   ],
   "source": [
    "x2= input(\"Enter your favouraite game:\\n\")\n",
    "y2= input(\"Enter your favouraite character:\\n\")\n",
    "print ('I like {} and {}.'.format(x2,y2))\n",
    "print ('I like {0} and {1}.'.format(x2,y2))\n",
    "print ('I like {1} and {0}.'.format(x2,y2))"
   ]
  },
  {
   "cell_type": "markdown",
   "id": "0e4277a5",
   "metadata": {},
   "source": [
    "# Comparison Operators"
   ]
  },
  {
   "cell_type": "markdown",
   "id": "9d32261a",
   "metadata": {},
   "source": [
    "* The operators such as <,>,<=,>=,==, and != compare the certain two operators \n",
    "* and returns True or False statements."
   ]
  },
  {
   "cell_type": "code",
   "execution_count": 11,
   "id": "c0617c09",
   "metadata": {},
   "outputs": [
    {
     "name": "stdout",
     "output_type": "stream",
     "text": [
      "a<b False\n",
      "a>b True\n",
      "a<=b False\n",
      "a>=b True\n",
      "a==b False\n",
      "a!=b True\n"
     ]
    }
   ],
   "source": [
    "a= 3.14\n",
    "b= 1.618\n",
    "print(\"a<b\", a<b)\n",
    "print(\"a>b\",a>b)\n",
    "print(\"a<=b\",a<=b)\n",
    "print(\"a>=b\",a>=b)\n",
    "print(\"a==b\",a==b)\n",
    "print(\"a!=b\", a!=b)"
   ]
  },
  {
   "cell_type": "markdown",
   "id": "5f8ed81d",
   "metadata": {},
   "source": [
    "# Logical Operators"
   ]
  },
  {
   "cell_type": "markdown",
   "id": "5342c84f",
   "metadata": {},
   "source": [
    "* The Operators including and, or, not are utilised to bring two conditions together and access them. \n",
    "* The output returns \"True\" or \"False\""
   ]
  },
  {
   "cell_type": "code",
   "execution_count": 20,
   "id": "37c186ec",
   "metadata": {},
   "outputs": [
    {
     "name": "stdout",
     "output_type": "stream",
     "text": [
      "True\n",
      "False\n",
      "True\n",
      "False\n",
      "False\n"
     ]
    }
   ],
   "source": [
    "a=3.148\n",
    "b=1.618\n",
    "c=12\n",
    "d=3.14\n",
    "print(a>b and c>a)\n",
    "print(b>c and d>a)\n",
    "print(b<c or d>a)\n",
    "print( a==d)\n",
    "print(a==b)"
   ]
  },
  {
   "cell_type": "markdown",
   "id": "9c6b476f",
   "metadata": {},
   "source": [
    "# Assignment Operators"
   ]
  },
  {
   "cell_type": "markdown",
   "id": "a46a8b57",
   "metadata": {},
   "source": [
    "* The Operators including =,+=, -=, /=, %=, //=, *=, ^=,<<=,>>= \n",
    "* are employed to evaluate a value of a variables."
   ]
  },
  {
   "cell_type": "code",
   "execution_count": 21,
   "id": "b5cb731c",
   "metadata": {},
   "outputs": [
    {
     "name": "stdout",
     "output_type": "stream",
     "text": [
      "8.14\n"
     ]
    }
   ],
   "source": [
    "x= 3.14\n",
    "x+=5\n",
    "print(x)"
   ]
  },
  {
   "cell_type": "code",
   "execution_count": 22,
   "id": "e7a13819",
   "metadata": {},
   "outputs": [
    {
     "name": "stdout",
     "output_type": "stream",
     "text": [
      "-1.8599999999999999\n"
     ]
    }
   ],
   "source": [
    "x=3.14\n",
    "x-=5\n",
    "print(x)"
   ]
  },
  {
   "cell_type": "code",
   "execution_count": 23,
   "id": "5d339596",
   "metadata": {},
   "outputs": [
    {
     "name": "stdout",
     "output_type": "stream",
     "text": [
      "15.700000000000001\n"
     ]
    }
   ],
   "source": [
    "x= 3.14\n",
    "x*=5\n",
    "print(x)"
   ]
  },
  {
   "cell_type": "code",
   "execution_count": 24,
   "id": "a55c56b1",
   "metadata": {},
   "outputs": [
    {
     "name": "stdout",
     "output_type": "stream",
     "text": [
      "0.628\n"
     ]
    }
   ],
   "source": [
    "x= 3.14\n",
    "x/=5\n",
    "print(x)"
   ]
  },
  {
   "cell_type": "code",
   "execution_count": 25,
   "id": "1556019b",
   "metadata": {},
   "outputs": [
    {
     "name": "stdout",
     "output_type": "stream",
     "text": [
      "3.14\n"
     ]
    }
   ],
   "source": [
    "x= 3.14\n",
    "x%=5\n",
    "print(x)"
   ]
  },
  {
   "cell_type": "code",
   "execution_count": 26,
   "id": "1a44288f",
   "metadata": {},
   "outputs": [
    {
     "name": "stdout",
     "output_type": "stream",
     "text": [
      "8.14\n"
     ]
    }
   ],
   "source": [
    "x= 3.14\n",
    "x+=5\n",
    "print(x)"
   ]
  },
  {
   "cell_type": "code",
   "execution_count": 27,
   "id": "dc02b00f",
   "metadata": {},
   "outputs": [
    {
     "name": "stdout",
     "output_type": "stream",
     "text": [
      "0.0\n"
     ]
    }
   ],
   "source": [
    "x= 3.14\n",
    "x//=5\n",
    "print(x)"
   ]
  },
  {
   "cell_type": "code",
   "execution_count": 29,
   "id": "f943fa53",
   "metadata": {},
   "outputs": [
    {
     "name": "stdout",
     "output_type": "stream",
     "text": [
      "15.700000000000001\n"
     ]
    }
   ],
   "source": [
    "x= 3.14\n",
    "x*=5\n",
    "print(x)"
   ]
  },
  {
   "cell_type": "markdown",
   "id": "6a117e66",
   "metadata": {},
   "source": [
    "# Identity Operators"
   ]
  },
  {
   "cell_type": "markdown",
   "id": "c8430143",
   "metadata": {},
   "source": [
    "* The operators \"is\" or \"is not\" are employed to control if the operands or objects \n",
    "* to the left and right of these operators are referring to a value stored \n",
    "* in the same memory location and return True or False."
   ]
  },
  {
   "cell_type": "code",
   "execution_count": 38,
   "id": "7e0fc2f6",
   "metadata": {},
   "outputs": [
    {
     "name": "stdout",
     "output_type": "stream",
     "text": [
      "False\n",
      "True\n",
      "False\n",
      "True\n",
      "False\n",
      "True\n"
     ]
    }
   ],
   "source": [
    "a=3.14\n",
    "b=1.618\n",
    "print (a is b)\n",
    "print (a is not b)\n",
    "\n",
    "msg1=\"Hello, Python!\"\n",
    "msg2= \"Hello, World!\"\n",
    "print(msg1 is msg2)\n",
    "print( msg1 is not msg2)\n",
    "\n",
    "list1=[3.14, 1.618]\n",
    "list2=[3.14, 1.618]\n",
    "print(list1 is list2)\n",
    "print( list1 is not list2)\n"
   ]
  },
  {
   "cell_type": "markdown",
   "id": "b15b137c",
   "metadata": {},
   "source": [
    "#  Membership operators"
   ]
  },
  {
   "cell_type": "markdown",
   "id": "3b6e8e52",
   "metadata": {},
   "source": [
    "* These operators including in and not in are employed to check if the certain value \n",
    "* is available in the sequence of values and return True or False"
   ]
  },
  {
   "cell_type": "code",
   "execution_count": 43,
   "id": "9a8fd02e",
   "metadata": {},
   "outputs": [
    {
     "name": "stdout",
     "output_type": "stream",
     "text": [
      "False\n",
      "False\n",
      "4 False\n"
     ]
    }
   ],
   "source": [
    "nlis= [4,6,10,\"Hello\",\"World\",'Python',{'name':'xyz'},{1,2,3},[1,2,3]]\n",
    "print(5 in nlis)\n",
    "print(4  not in nlis)\n",
    "print(4,5 in nlis)\n"
   ]
  },
  {
   "cell_type": "code",
   "execution_count": null,
   "id": "56a7d64c",
   "metadata": {
    "collapsed": true
   },
   "outputs": [],
   "source": []
  }
 ],
 "metadata": {
  "kernelspec": {
   "display_name": "Python 3 (ipykernel)",
   "language": "python",
   "name": "python3"
  },
  "language_info": {
   "codemirror_mode": {
    "name": "ipython",
    "version": 3
   },
   "file_extension": ".py",
   "mimetype": "text/x-python",
   "name": "python",
   "nbconvert_exporter": "python",
   "pygments_lexer": "ipython3",
   "version": "3.9.7"
  }
 },
 "nbformat": 4,
 "nbformat_minor": 5
}
