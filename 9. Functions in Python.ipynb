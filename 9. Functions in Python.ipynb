{
 "cells": [
  {
   "cell_type": "markdown",
   "id": "23d6a59e",
   "metadata": {},
   "source": [
    "# 9. Functions in Python"
   ]
  },
  {
   "cell_type": "markdown",
   "id": "b9094df2",
   "metadata": {},
   "source": [
    "* A Function is a group of related statement that performs a specific task.\n",
    "* Functions helps break our programs into smaller and module chunks.\n",
    "* There are two types of module.\n",
    "* 1. Pre-defined functions.\n",
    "* 2. User-defined functions.\n",
    "* In python a function is defined using the def keyword followed by the functions name and \n",
    "* Parenthesis().\n",
    "* Keyword def that marks the start of the function header.\n",
    "* Functions naming follow the same rule of writing identifiers in Python.\n",
    "* A colon (:) marks the end of the function header.\n",
    "* An optional return statement to return a value from the functions."
   ]
  },
  {
   "cell_type": "code",
   "execution_count": 1,
   "id": "a9eecb51",
   "metadata": {},
   "outputs": [
    {
     "name": "stdout",
     "output_type": "stream",
     "text": [
      "If you make the above operations with 10, the result will be 2,18,1.25,2,1,80.\n"
     ]
    },
    {
     "data": {
      "text/plain": [
       "(2, 18, 1.25, 2, 1, 80)"
      ]
     },
     "execution_count": 1,
     "metadata": {},
     "output_type": "execute_result"
    }
   ],
   "source": [
    "# Take a functions sample\n",
    "# Mathematical operations in a functions\n",
    "\n",
    "def process(x):\n",
    "    y1=x-8\n",
    "    y2=x+8\n",
    "    y3=x/8\n",
    "    y4=x%8\n",
    "    y5=x//8\n",
    "    y6=x*8\n",
    "    print(f\"If you make the above operations with {x}, the result will be {y1},{y2},{y3},{y4},{y5},{y6}.\")\n",
    "    return y1,y2,y3,y4,y5,y6\n",
    "process(10)\n"
   ]
  },
  {
   "cell_type": "code",
   "execution_count": 2,
   "id": "c0b90b85",
   "metadata": {},
   "outputs": [
    {
     "name": "stdout",
     "output_type": "stream",
     "text": [
      "Help on function process in module __main__:\n",
      "\n",
      "process(x)\n",
      "\n"
     ]
    }
   ],
   "source": [
    "help(process)"
   ]
  },
  {
   "cell_type": "code",
   "execution_count": 3,
   "id": "0808e5c1",
   "metadata": {},
   "outputs": [
    {
     "name": "stdout",
     "output_type": "stream",
     "text": [
      "Help on function process in module __main__:\n",
      "\n",
      "process(x)\n",
      "\n"
     ]
    }
   ],
   "source": [
    "\n",
    "help(process)"
   ]
  },
  {
   "cell_type": "code",
   "execution_count": 4,
   "id": "f21c3d2a",
   "metadata": {},
   "outputs": [
    {
     "name": "stdout",
     "output_type": "stream",
     "text": [
      "If you make the above operations with 3.14, the result will be -4.859999999999999,11.14,0.3925,3.14,0.0,25.12.\n"
     ]
    },
    {
     "data": {
      "text/plain": [
       "(-4.859999999999999, 11.14, 0.3925, 3.14, 0.0, 25.12)"
      ]
     },
     "execution_count": 4,
     "metadata": {},
     "output_type": "execute_result"
    }
   ],
   "source": [
    "process(3.14)"
   ]
  },
  {
   "cell_type": "code",
   "execution_count": 5,
   "id": "bd5ad6bb",
   "metadata": {},
   "outputs": [
    {
     "name": "stdout",
     "output_type": "stream",
     "text": [
      "If you make the above operations with 14, the result will be 6,22,1.75,6,1,112.\n"
     ]
    },
    {
     "data": {
      "text/plain": [
       "(6, 22, 1.75, 6, 1, 112)"
      ]
     },
     "execution_count": 5,
     "metadata": {},
     "output_type": "execute_result"
    }
   ],
   "source": [
    "process(14)"
   ]
  },
  {
   "cell_type": "code",
   "execution_count": 6,
   "id": "b3f2ffef",
   "metadata": {},
   "outputs": [
    {
     "name": "stdout",
     "output_type": "stream",
     "text": [
      "If you make the above operations with 50, the result will be 42,58,6.25,2,6,400.\n"
     ]
    },
    {
     "data": {
      "text/plain": [
       "(42, 58, 6.25, 2, 6, 400)"
      ]
     },
     "execution_count": 6,
     "metadata": {},
     "output_type": "execute_result"
    }
   ],
   "source": [
    "process(50)"
   ]
  },
  {
   "cell_type": "code",
   "execution_count": 7,
   "id": "a55a108a",
   "metadata": {},
   "outputs": [
    {
     "data": {
      "text/plain": [
       "59.370000000000005"
      ]
     },
     "execution_count": 7,
     "metadata": {},
     "output_type": "execute_result"
    }
   ],
   "source": [
    "def multi(x,y):\n",
    "    z=2*x+5*y+45\n",
    "    return z\n",
    "multi(3.14,1.618)"
   ]
  },
  {
   "cell_type": "code",
   "execution_count": 8,
   "id": "4b9f2aef",
   "metadata": {},
   "outputs": [
    {
     "data": {
      "text/plain": [
       "165"
      ]
     },
     "execution_count": 8,
     "metadata": {},
     "output_type": "execute_result"
    }
   ],
   "source": [
    "multi(10,20)"
   ]
  },
  {
   "cell_type": "code",
   "execution_count": 9,
   "id": "5030cf6c",
   "metadata": {},
   "outputs": [
    {
     "data": {
      "text/plain": [
       "495"
      ]
     },
     "execution_count": 9,
     "metadata": {},
     "output_type": "execute_result"
    }
   ],
   "source": [
    "multi(100,50)"
   ]
  },
  {
   "cell_type": "code",
   "execution_count": 10,
   "id": "acf8269d",
   "metadata": {},
   "outputs": [
    {
     "name": "stdout",
     "output_type": "stream",
     "text": [
      "The above operation with 20,10 the result will be 30\n"
     ]
    },
    {
     "data": {
      "text/plain": [
       "30"
      ]
     },
     "execution_count": 10,
     "metadata": {},
     "output_type": "execute_result"
    }
   ],
   "source": [
    "#nidhi\n",
    "def add(x,z):\n",
    "    y1=x+z\n",
    "    print (f\"The above operation with {x},{z} the result will be {y1}\")\n",
    "    return y1\n",
    "add (20,10)"
   ]
  },
  {
   "cell_type": "code",
   "execution_count": 11,
   "id": "e7f64756",
   "metadata": {},
   "outputs": [
    {
     "name": "stdout",
     "output_type": "stream",
     "text": [
      "5\n"
     ]
    }
   ],
   "source": [
    "# Write a program to add a numbers using function.\n",
    "\n",
    "def add(a,b):\n",
    "    c=a+b\n",
    "    return c\n",
    "output=add(2,3)\n",
    "print(output)"
   ]
  },
  {
   "cell_type": "code",
   "execution_count": 12,
   "id": "2bc25cb4",
   "metadata": {},
   "outputs": [
    {
     "data": {
      "text/plain": [
       "30"
      ]
     },
     "execution_count": 12,
     "metadata": {},
     "output_type": "execute_result"
    }
   ],
   "source": [
    "def add(a,b):\n",
    "    c=a+b\n",
    "    return c\n",
    "add(10,20)\n"
   ]
  },
  {
   "cell_type": "code",
   "execution_count": 13,
   "id": "29d5c88e",
   "metadata": {},
   "outputs": [
    {
     "data": {
      "text/plain": [
       "54.308"
      ]
     },
     "execution_count": 13,
     "metadata": {},
     "output_type": "execute_result"
    }
   ],
   "source": [
    "def add(x,y,p):\n",
    "    z=x+y+p\n",
    "    return z\n",
    "add(3.14,1.168,50)"
   ]
  },
  {
   "cell_type": "code",
   "execution_count": 14,
   "id": "5c96199c",
   "metadata": {},
   "outputs": [
    {
     "data": {
      "text/plain": [
       "135"
      ]
     },
     "execution_count": 14,
     "metadata": {},
     "output_type": "execute_result"
    }
   ],
   "source": [
    "add(45,45,45)"
   ]
  },
  {
   "cell_type": "code",
   "execution_count": 15,
   "id": "13ad1835",
   "metadata": {},
   "outputs": [
    {
     "name": "stdout",
     "output_type": "stream",
     "text": [
      "The above operation with 20,30,10 the result will be 60\n",
      "60\n"
     ]
    }
   ],
   "source": [
    "#nidhi\n",
    "def add(x,y,z):\n",
    "    y1=x+z+y\n",
    "    print (f\"The above operation with {x},{z},{y} the result will be {y1}\")\n",
    "    return y1\n",
    "output=add (20,10,30)\n",
    "print(output)"
   ]
  },
  {
   "cell_type": "code",
   "execution_count": 16,
   "id": "6441770f",
   "metadata": {},
   "outputs": [
    {
     "name": "stdout",
     "output_type": "stream",
     "text": [
      "60\n"
     ]
    }
   ],
   "source": [
    "# Vivek   # Write a program to add 3 numbers using function.\n",
    "\n",
    "def add(a,b,c):\n",
    "    d=a+b+c\n",
    "    return d\n",
    "output=add(20,10,30)\n",
    "print(output)"
   ]
  },
  {
   "cell_type": "code",
   "execution_count": 17,
   "id": "33baa4fe",
   "metadata": {},
   "outputs": [
    {
     "name": "stdout",
     "output_type": "stream",
     "text": [
      "If you make the above operations with 10, the result will be 35.091846000000004.\n"
     ]
    },
    {
     "data": {
      "text/plain": [
       "35.091846000000004"
      ]
     },
     "execution_count": 17,
     "metadata": {},
     "output_type": "execute_result"
    }
   ],
   "source": [
    "# Define a function\n",
    "def function(x):\n",
    "    \n",
    "    #Take a local variable\n",
    "    y=3.147\n",
    "    z=3*x+1.618*y\n",
    "    print(f'If you make the above operations with {x}, the result will be {z}.')\n",
    "    return z\n",
    "\n",
    "function(10)"
   ]
  },
  {
   "cell_type": "code",
   "execution_count": 18,
   "id": "aa852943",
   "metadata": {},
   "outputs": [
    {
     "name": "stdout",
     "output_type": "stream",
     "text": [
      "If you make the above operations with 10, the result will be 30.\n"
     ]
    },
    {
     "data": {
      "text/plain": [
       "30"
      ]
     },
     "execution_count": 18,
     "metadata": {},
     "output_type": "execute_result"
    }
   ],
   "source": [
    "#  Define a Function \n",
    "def function(x):\n",
    "    \n",
    "    # Take a local variable\n",
    "    y=20\n",
    "    z=x+y\n",
    "    print(f\"If you make the above operations with {x}, the result will be {z}.\")\n",
    "    return z\n",
    "\n",
    "function(10)"
   ]
  },
  {
   "cell_type": "code",
   "execution_count": 19,
   "id": "21451e4d",
   "metadata": {},
   "outputs": [
    {
     "name": "stdout",
     "output_type": "stream",
     "text": [
      "If you make the above operations with 20, the result will be 40.\n"
     ]
    },
    {
     "data": {
      "text/plain": [
       "40"
      ]
     },
     "execution_count": 19,
     "metadata": {},
     "output_type": "execute_result"
    }
   ],
   "source": [
    "function(20)"
   ]
  },
  {
   "cell_type": "code",
   "execution_count": 20,
   "id": "718550ab",
   "metadata": {},
   "outputs": [
    {
     "name": "stdout",
     "output_type": "stream",
     "text": [
      "The above operation with 10,20 the result will be 62.36\n"
     ]
    },
    {
     "data": {
      "text/plain": [
       "62.36"
      ]
     },
     "execution_count": 20,
     "metadata": {},
     "output_type": "execute_result"
    }
   ],
   "source": [
    "#nidhi\n",
    "def fnct2(x1):\n",
    "    y2=20\n",
    "    z1=3*x1+1.618*y2\n",
    "    print (f\"The above operation with {x1},{y2} the result will be {z1}\")\n",
    "    return z1\n",
    "fnct2 (10)"
   ]
  },
  {
   "cell_type": "code",
   "execution_count": 21,
   "id": "74f5c7fa",
   "metadata": {},
   "outputs": [
    {
     "name": "stdout",
     "output_type": "stream",
     "text": [
      "If you make the above operations with 10, the result will be 62.36.\n"
     ]
    },
    {
     "data": {
      "text/plain": [
       "62.36"
      ]
     },
     "execution_count": 21,
     "metadata": {},
     "output_type": "execute_result"
    }
   ],
   "source": [
    "# Vivek # Define a function\n",
    "\n",
    "def function(x):\n",
    "    \n",
    "    # Take a local variable\n",
    "    y=20\n",
    "    z=(x*3)+(y*1.618)\n",
    "    print(f'If you make the above operations with {x}, the result will be {z}.')\n",
    "    return z\n",
    "\n",
    "function(10)"
   ]
  },
  {
   "cell_type": "code",
   "execution_count": 22,
   "id": "408b99e0",
   "metadata": {},
   "outputs": [
    {
     "name": "stdout",
     "output_type": "stream",
     "text": [
      "Hello World\n",
      "Hello Python\n"
     ]
    }
   ],
   "source": [
    "# Define a function with and without return statement\n",
    "def msg1():\n",
    "    print(\"Hello World\")\n",
    "def msg2():\n",
    "    print(\"Hello Python\")\n",
    "    return None\n",
    "    \n",
    "    \n",
    "msg1()\n",
    "msg2()"
   ]
  },
  {
   "cell_type": "markdown",
   "id": "07b8f9be",
   "metadata": {},
   "source": [
    "# Concatenation with function"
   ]
  },
  {
   "cell_type": "code",
   "execution_count": 23,
   "id": "b8e157c7",
   "metadata": {},
   "outputs": [
    {
     "data": {
      "text/plain": [
       "'Hello WorldHi'"
      ]
     },
     "execution_count": 23,
     "metadata": {},
     "output_type": "execute_result"
    }
   ],
   "source": [
    "def string(x,y,z):\n",
    "    return x+y+z\n",
    "\n",
    "string(\"Hello\",\" \"\"World\",\"Hi\")"
   ]
  },
  {
   "cell_type": "code",
   "execution_count": 24,
   "id": "144f9440",
   "metadata": {},
   "outputs": [
    {
     "ename": "TypeError",
     "evalue": "string() missing 1 required positional argument: 'z'",
     "output_type": "error",
     "traceback": [
      "\u001b[1;31m---------------------------------------------------------------------------\u001b[0m",
      "\u001b[1;31mTypeError\u001b[0m                                 Traceback (most recent call last)",
      "\u001b[1;32mC:\\Users\\ROUSHA~1\\AppData\\Local\\Temp/ipykernel_732/312973212.py\u001b[0m in \u001b[0;36m<module>\u001b[1;34m\u001b[0m\n\u001b[1;32m----> 1\u001b[1;33m \u001b[0mstring\u001b[0m\u001b[1;33m(\u001b[0m\u001b[1;34m'xyz'\u001b[0m\u001b[1;33m,\u001b[0m\u001b[1;34m' '\u001b[0m\u001b[1;34m'abc'\u001b[0m\u001b[1;33m)\u001b[0m\u001b[1;33m\u001b[0m\u001b[1;33m\u001b[0m\u001b[0m\n\u001b[0m",
      "\u001b[1;31mTypeError\u001b[0m: string() missing 1 required positional argument: 'z'"
     ]
    }
   ],
   "source": [
    "string('xyz',' ''abc')"
   ]
  },
  {
   "cell_type": "code",
   "execution_count": 25,
   "id": "72cb3a8d",
   "metadata": {},
   "outputs": [
    {
     "data": {
      "text/plain": [
       "10"
      ]
     },
     "execution_count": 25,
     "metadata": {},
     "output_type": "execute_result"
    }
   ],
   "source": [
    "string(3,5,2)"
   ]
  },
  {
   "cell_type": "code",
   "execution_count": 26,
   "id": "adf8eb01",
   "metadata": {},
   "outputs": [
    {
     "data": {
      "text/plain": [
       "63.0"
      ]
     },
     "execution_count": 26,
     "metadata": {},
     "output_type": "execute_result"
    }
   ],
   "source": [
    "string(21.0,21.0,21.0)"
   ]
  },
  {
   "cell_type": "code",
   "execution_count": 27,
   "id": "74d5e364",
   "metadata": {},
   "outputs": [
    {
     "name": "stdout",
     "output_type": "stream",
     "text": [
      "The above operation with 10,20 the result will be 30\n"
     ]
    },
    {
     "data": {
      "text/plain": [
       "30"
      ]
     },
     "execution_count": 27,
     "metadata": {},
     "output_type": "execute_result"
    }
   ],
   "source": [
    "def fnct2(x1):\n",
    "    y2=20\n",
    "    z1=x1+y2\n",
    "    print (f\"The above operation with {x1},{y2} the result will be {z1}\")\n",
    "    return z1\n",
    "fnct2 (10)"
   ]
  },
  {
   "cell_type": "code",
   "execution_count": 28,
   "id": "06b6b5c9",
   "metadata": {},
   "outputs": [
    {
     "name": "stdout",
     "output_type": "stream",
     "text": [
      "Enter your name in lowercaseroushan\n",
      "ROUSHAN\n"
     ]
    }
   ],
   "source": [
    "#1. Define a function that accept your name in lowercase and returns your name as uppercase.\n",
    "def name(text):\n",
    "    z=text.upper()\n",
    "    print(z)\n",
    "    \n",
    "text= input(\"Enter your name in lowercase\")\n",
    "name(text)"
   ]
  },
  {
   "cell_type": "code",
   "execution_count": 29,
   "id": "06376560",
   "metadata": {},
   "outputs": [
    {
     "name": "stdout",
     "output_type": "stream",
     "text": [
      "Enter any number23\n",
      "23 is Odd number\n"
     ]
    }
   ],
   "source": [
    "#2. Define a function that accepts a number and returns whether the number is even or odd.\n",
    "def func(x):\n",
    "    if x%2==0:\n",
    "        print(f'{x} is Even number')\n",
    "    else:\n",
    "        print(f'{x} is Odd number')\n",
    "x=int(input(\"Enter any number\"))\n",
    "func(x)"
   ]
  },
  {
   "cell_type": "code",
   "execution_count": 30,
   "id": "70440473",
   "metadata": {},
   "outputs": [
    {
     "name": "stdout",
     "output_type": "stream",
     "text": [
      "Enter your name in capitalize:vindo\n",
      "Vindo\n"
     ]
    }
   ],
   "source": [
    "#3.Define a function that accept your name in lowercase and returns your name as Capitalize.\n",
    "def name(text):\n",
    "    z=text.capitalize()\n",
    "    print(z)\n",
    "    \n",
    "text=input(\"Enter your name in capitalize:\")\n",
    "name(text)"
   ]
  },
  {
   "cell_type": "code",
   "execution_count": 31,
   "id": "38db77a4",
   "metadata": {},
   "outputs": [
    {
     "name": "stdout",
     "output_type": "stream",
     "text": [
      "Enter your number:23\n",
      "Num is odd\n"
     ]
    }
   ],
   "source": [
    "\n",
    "def v(z):\n",
    "    if z%2==0:\n",
    "        print(\"num is even\")\n",
    "    else:\n",
    "        print(\"Num is odd\")\n",
    "z=int(input(\"Enter your number:\"))    \n",
    "v(z)"
   ]
  },
  {
   "cell_type": "code",
   "execution_count": 32,
   "id": "a4260440",
   "metadata": {},
   "outputs": [
    {
     "name": "stdout",
     "output_type": "stream",
     "text": [
      "Enter a number : 26\n",
      "26 is an Even Number.\n"
     ]
    }
   ],
   "source": [
    "# Vivek\n",
    "# Define a function that accepts a number and returns whether the number is even or odd.\n",
    "\n",
    "\n",
    "def even(x):\n",
    "    if x%2==0:\n",
    "        print(f'{x} is an Even Number.')\n",
    "    else:\n",
    "        print(f'{x} is an Odd Number.')\n",
    "x=int(input(\"Enter a number : \"))\n",
    "even(x)\n"
   ]
  },
  {
   "cell_type": "code",
   "execution_count": null,
   "id": "984dbfb2",
   "metadata": {},
   "outputs": [],
   "source": [
    "# Vivek\n",
    "# Define a function that accepts a number and returns whether the number is even or odd.\n",
    "\n"
   ]
  },
  {
   "cell_type": "code",
   "execution_count": 33,
   "id": "ec176107",
   "metadata": {},
   "outputs": [
    {
     "name": "stdout",
     "output_type": "stream",
     "text": [
      "enter number23\n",
      "23odd no\n"
     ]
    }
   ],
   "source": [
    "def evenodd(x):\n",
    "    if x%2==0:\n",
    "        print(f'{x}even number')\n",
    "    else:\n",
    "        print(f'{x}odd no')\n",
    "x=int(input(\"enter number\"))\n",
    "evenodd(x)"
   ]
  },
  {
   "cell_type": "code",
   "execution_count": 34,
   "id": "c992f24a",
   "metadata": {},
   "outputs": [
    {
     "name": "stdout",
     "output_type": "stream",
     "text": [
      "30 is the greatest number\n"
     ]
    }
   ],
   "source": [
    "# Define a function in python that accept 3 values and returns the maximum number of these three.\n",
    "# 30,22,18\n",
    "def f(x,y,z):\n",
    "    \n",
    "    if x>y and x>z:\n",
    "        print(f'{x} is the greatest number')\n",
    "    elif y>x & y>z:\n",
    "        print(f'{y} is the greatest number')\n",
    "    else:\n",
    "        print(f'{z} is the greatest number')\n",
    "f(30,22,18)"
   ]
  },
  {
   "cell_type": "code",
   "execution_count": 35,
   "id": "bed8b9cd",
   "metadata": {},
   "outputs": [
    {
     "name": "stdout",
     "output_type": "stream",
     "text": [
      "enter number2\n",
      "enter number3\n",
      "enter number4\n",
      "Third number you enterd is a big num\n"
     ]
    }
   ],
   "source": [
    "def num(a,b,c):\n",
    "    if a>=b and a>=c:\n",
    "        print(\"first number you enterd is a big number\")\n",
    "    elif b>=a and b>=c:\n",
    "        print(\"second number you enterd is a big num\")\n",
    "    elif c>=a and c>=b:\n",
    "        print(\"Third number you enterd is a big num\")\n",
    "a=int(input(\"enter number\"))\n",
    "b=int(input(\"enter number\"))\n",
    "c=int(input(\"enter number\"))\n",
    "num(a,b,c)"
   ]
  },
  {
   "cell_type": "code",
   "execution_count": 36,
   "id": "f35222a0",
   "metadata": {},
   "outputs": [
    {
     "name": "stdout",
     "output_type": "stream",
     "text": [
      "30 is the greatest number\n"
     ]
    }
   ],
   "source": [
    "#Siddhant\n",
    "# Define a function to print the greater number out of 3 pre-defined numbers?\n",
    "def f(x,y,z):\n",
    "    \n",
    "# Take a local variable\n",
    "    if x>y and x>z:\n",
    "        print(f'{x} is the greatest number')\n",
    "    elif y>x & y>z:\n",
    "        print(f'{y} is the greatest number')\n",
    "    else:\n",
    "        print(f'{z} is the greatest number')\n",
    "f(30,22,18)"
   ]
  },
  {
   "cell_type": "code",
   "execution_count": null,
   "id": "656e9997",
   "metadata": {},
   "outputs": [],
   "source": [
    "# Define a function that accept roll number and returns \n",
    "# whether the student is present or not.\n",
    "# 23,43,22,56,30,20,11\n",
    "x=[23,43,22,56,30,20,11]\n",
    "def detail(roll):\n",
    "    if roll in x:\n",
    "        \n",
    "        \n",
    "        \n",
    "    \n"
   ]
  },
  {
   "cell_type": "code",
   "execution_count": 37,
   "id": "fe1b06c5",
   "metadata": {},
   "outputs": [
    {
     "name": "stdout",
     "output_type": "stream",
     "text": [
      "enter roll no: 23\n",
      "present\n"
     ]
    }
   ],
   "source": [
    "x=[23,43,22,56,30,20,11]\n",
    "def data(roll):\n",
    "    if roll in x:\n",
    "        print(\"present\")\n",
    "    else:\n",
    "        print(\"absent\")\n",
    "roll=int(input(\"enter roll no: \"))\n",
    "data(roll)"
   ]
  },
  {
   "cell_type": "code",
   "execution_count": 38,
   "id": "8065192d",
   "metadata": {},
   "outputs": [
    {
     "name": "stdout",
     "output_type": "stream",
     "text": [
      "Enter your roll_number25\n",
      "The Student is ABSENT\n"
     ]
    }
   ],
   "source": [
    "# Vivek\n",
    "# Define a function that accept roll number & returns whether the student is present or absent?\n",
    "# 23, 43, 22, 56, 30, 20, 11\n",
    "x=[23, 43, 22, 56, 30, 20, 11]\n",
    "def f(roll_number):\n",
    "    if roll_number in x:\n",
    "        print(\"The Stundent is PRESENT\")\n",
    "    else:\n",
    "        print(\"The Student is ABSENT\")\n",
    "roll_number=int(input(\"Enter your roll_number\"))\n",
    "f(roll_number)"
   ]
  },
  {
   "cell_type": "code",
   "execution_count": 39,
   "id": "2ca9ffdc",
   "metadata": {},
   "outputs": [
    {
     "name": "stdout",
     "output_type": "stream",
     "text": [
      "enter number25\n",
      "Student is absent\n"
     ]
    }
   ],
   "source": [
    "# Define a function that set roll number and returns whether the student is present or not.\n",
    "#23,43,22,56,30,20,11\n",
    "\n",
    "\n",
    "x=[23,43,22,56,30,20,11]\n",
    "def fu(roll):\n",
    "    if roll in x:\n",
    "        print(\"Student is Present\")\n",
    "        \n",
    "    else:\n",
    "        print(\"Student is absent\")\n",
    "roll=input(\"enter number\") \n",
    "fu(roll)"
   ]
  },
  {
   "cell_type": "code",
   "execution_count": 40,
   "id": "c82242dd",
   "metadata": {},
   "outputs": [
    {
     "ename": "SyntaxError",
     "evalue": "f-string: empty expression not allowed (Temp/ipykernel_732/1941780627.py, line 6)",
     "output_type": "error",
     "traceback": [
      "\u001b[1;36m  File \u001b[1;32m\"C:\\Users\\ROUSHA~1\\AppData\\Local\\Temp/ipykernel_732/1941780627.py\"\u001b[1;36m, line \u001b[1;32m6\u001b[0m\n\u001b[1;33m    print(f'Sum is {}, Sub is {}, & Multiply is {}.')\u001b[0m\n\u001b[1;37m                                                    ^\u001b[0m\n\u001b[1;31mSyntaxError\u001b[0m\u001b[1;31m:\u001b[0m f-string: empty expression not allowed\n"
     ]
    }
   ],
   "source": [
    "# Define a function that accept 2 values and returns its sum, substract and multiplication.\n",
    "def result(a,b):\n",
    "    sum= a+b\n",
    "    sub= a-b\n",
    "    mul= a*b\n",
    "    print(f'Sum is {}, Sub is {}, & Multiply is {}.')\n",
    "    "
   ]
  },
  {
   "cell_type": "code",
   "execution_count": 43,
   "id": "67f43f23",
   "metadata": {},
   "outputs": [
    {
     "name": "stdout",
     "output_type": "stream",
     "text": [
      "enter no23\n",
      "enter no23\n",
      "sum is 46, sub is 0, multiplication is 529.\n"
     ]
    }
   ],
   "source": [
    "def result(a,b):\n",
    "    sum= a+b\n",
    "    sub= a-b\n",
    "    mul= a*b\n",
    "    print(f'sum is {sum}, sub is {sub}, multiplication is {mul}.')\n",
    "a=int(input(\"enter no\"))\n",
    "b=int(input(\"enter no\"))\n",
    "result(a,b)"
   ]
  },
  {
   "cell_type": "code",
   "execution_count": 44,
   "id": "ec8a5cf1",
   "metadata": {},
   "outputs": [
    {
     "name": "stdout",
     "output_type": "stream",
     "text": [
      "Enter your first number : 25\n",
      "Enter your first number : 26\n",
      "The addition of 2 values are : 51\n",
      "The substraction of 2 values are : -1\n",
      "The multiplication of 2 values are : 650\n"
     ]
    }
   ],
   "source": [
    "# Vivek\n",
    "#Define a function that accepts 2 values & return its addition, subsctraction & multiplication value?\n",
    "\n",
    "a=int(input(\"Enter your first number : \"))\n",
    "b=int(input(\"Enter your first number : \"))\n",
    "\n",
    "def f(a,b):\n",
    "    u=a+b\n",
    "    v=a-b\n",
    "    w=a*b\n",
    "    print(f\"The addition of 2 values are : {u}\")\n",
    "    print(f\"The substraction of 2 values are : {v}\")\n",
    "    print(f\"The multiplication of 2 values are : {w}\")\n",
    "f(a,b)"
   ]
  },
  {
   "cell_type": "code",
   "execution_count": 45,
   "id": "6916d775",
   "metadata": {},
   "outputs": [
    {
     "name": "stdout",
     "output_type": "stream",
     "text": [
      "enter number23\n",
      "enter number23\n",
      "Sum is 46, & sub is 0 & multipy is 529.\n"
     ]
    }
   ],
   "source": [
    "l1=int(input(\"enter number\")) \n",
    "l2=int(input(\"enter number\")) \n",
    "def c(l1,l2):\n",
    "    x= l1+l2\n",
    "    y=l1-l2\n",
    "    z=l1*l2\n",
    "    print(f'Sum is {x}, & sub is {y} & multipy is {z}.')\n",
    "c(l1,l2)"
   ]
  },
  {
   "cell_type": "code",
   "execution_count": 46,
   "id": "acee59a2",
   "metadata": {},
   "outputs": [
    {
     "name": "stdout",
     "output_type": "stream",
     "text": [
      "30\n"
     ]
    }
   ],
   "source": [
    "# Write a program to find the maximum of three numbers.\n",
    "def max_of_two(x,y):\n",
    "    if x>y:\n",
    "        return x\n",
    "    return y\n",
    "def max_of_three(x,y,z):\n",
    "    return max_of_two(x,max_of_two(y,z))\n",
    "print (max_of_three(10,20,30))"
   ]
  },
  {
   "cell_type": "code",
   "execution_count": 47,
   "id": "393c51d3",
   "metadata": {},
   "outputs": [
    {
     "name": "stdout",
     "output_type": "stream",
     "text": [
      "Enter your first number : 23\n",
      "Enter your first number : 26\n",
      "Enter your first number : 35\n",
      "35 is the greatest number.\n"
     ]
    }
   ],
   "source": [
    "# Vivek\n",
    "# Write a function to find the maximum of 3 mumbers ?\n",
    "\n",
    "x=int(input(\"Enter your first number : \"))\n",
    "y=int(input(\"Enter your first number : \"))\n",
    "z=int(input(\"Enter your first number : \"))\n",
    "\n",
    "def f(x,y,z):\n",
    "    if x>y and x>z:\n",
    "        print(f\"{x} is the greatest number.\")\n",
    "    elif y>x and y>z:\n",
    "        print(f\"{y} is the greatest number.\")\n",
    "    else:\n",
    "        print(f\"{z} is the greatest number.\")\n",
    "f(x,y,z)"
   ]
  },
  {
   "cell_type": "code",
   "execution_count": 48,
   "id": "ec8bad14",
   "metadata": {},
   "outputs": [
    {
     "name": "stdout",
     "output_type": "stream",
     "text": [
      "20\n"
     ]
    }
   ],
   "source": [
    "# Write a program with function to sum all the numbers in a list[8,2,3,0,7]\n",
    "\n",
    "def sum(numbers):\n",
    "    total=0\n",
    "    for x in numbers:\n",
    "        total+=x\n",
    "    return total\n",
    "print(sum((8,2,3,0,7)))"
   ]
  },
  {
   "cell_type": "code",
   "execution_count": 49,
   "id": "709706ed",
   "metadata": {},
   "outputs": [
    {
     "name": "stdout",
     "output_type": "stream",
     "text": [
      "Enter first value25\n",
      "Enter Second value28\n",
      "sum is 53, sub is -3, Multiply is 700\n"
     ]
    }
   ],
   "source": [
    "# Write a program that accept 2 values and returns its sum,subtraction \n",
    "# and mutiplication\n",
    "def result(a,b):\n",
    "    sum=a+b\n",
    "    sub=a-b\n",
    "    mul=a*b\n",
    "    print(f'sum is {sum}, sub is {sub}, Multiply is {mul}')\n",
    "    \n",
    "a=int(input('Enter first value'))\n",
    "b=int(input('Enter Second value'))\n",
    "result(a,b)\n",
    "    "
   ]
  },
  {
   "cell_type": "code",
   "execution_count": 50,
   "id": "28010bf4",
   "metadata": {},
   "outputs": [
    {
     "name": "stdout",
     "output_type": "stream",
     "text": [
      "Enter your first number : 28\n",
      "Enter your first number : 25\n",
      "The addition of 2 values are : 53\n",
      "The substraction of 2 values are : 3\n",
      "The multiplication of 2 values are : 700\n"
     ]
    }
   ],
   "source": [
    "# write a program that accept 2 values and returns its sum , substraction and multiplication.\n",
    "a=int(input(\"Enter your first number : \"))\n",
    "b=int(input(\"Enter your first number : \"))\n",
    "\n",
    "def f(a,b):\n",
    "    u=a+b\n",
    "    v=a-b\n",
    "    w=a*b\n",
    "    print(f\"The addition of 2 values are : {u}\")\n",
    "    print(f\"The substraction of 2 values are : {v}\")\n",
    "    print(f\"The multiplication of 2 values are : {w}\")\n",
    "f(a,b)"
   ]
  },
  {
   "cell_type": "code",
   "execution_count": 51,
   "id": "78eddcc1",
   "metadata": {},
   "outputs": [
    {
     "name": "stdout",
     "output_type": "stream",
     "text": [
      "Enter your first number : 25\n",
      "Enter your first number : 26\n",
      "The addition of 2 values are : 51\n",
      "The substraction of 2 values are : -1\n",
      "The multiplication of 2 values are : 650\n",
      "The multiplication of 2 values are : 0.9615384615384616\n"
     ]
    }
   ],
   "source": [
    "# write a program that accept 2 values and returns its sum , substraction and multiplication.\n",
    "a=int(input(\"Enter your first number : \"))\n",
    "b=int(input(\"Enter your first number : \"))\n",
    "\n",
    "def f(a,b):\n",
    "    u=a+b\n",
    "    v=a-b\n",
    "    w=a*b\n",
    "    x=a/b\n",
    "    print(f\"The addition of 2 values are : {u}\")\n",
    "    print(f\"The substraction of 2 values are : {v}\")\n",
    "    print(f\"The multiplication of 2 values are : {w}\")\n",
    "    print(f\"The multiplication of 2 values are : {x}\")\n",
    "f(a,b)"
   ]
  },
  {
   "cell_type": "code",
   "execution_count": 52,
   "id": "03f694e1",
   "metadata": {},
   "outputs": [
    {
     "name": "stdout",
     "output_type": "stream",
     "text": [
      "sum is 6, sub is 2, mul is 8, div is 2.0\n"
     ]
    }
   ],
   "source": [
    "# Vivek \n",
    "# Alternate way of above program\n",
    "\n",
    "def result(a,b):\n",
    "    sum=a+b\n",
    "    sub=a-b\n",
    "    mul=a*b\n",
    "    div=a/b\n",
    "    print(f'sum is {sum}, sub is {sub}, mul is {mul}, div is {div}')\n",
    "result(4,2)"
   ]
  },
  {
   "cell_type": "code",
   "execution_count": null,
   "id": "e1b6d1e0",
   "metadata": {},
   "outputs": [],
   "source": [
    "# write a program that accept radius and return the area of circle.\n",
    "def area(raduis):\n",
    "    area=3.147*radius*radius\n",
    "    return area\n",
    "\n",
    "radius=int(input('Enter Radius'))\n",
    "print(area(radius))"
   ]
  },
  {
   "cell_type": "code",
   "execution_count": 53,
   "id": "5d85fbfe",
   "metadata": {},
   "outputs": [
    {
     "name": "stdout",
     "output_type": "stream",
     "text": [
      "area 50.24\n"
     ]
    }
   ],
   "source": [
    "def result(a):\n",
    "    area=3.14*a*a\n",
    "    print(f'area {area}')\n",
    "result(4)"
   ]
  },
  {
   "cell_type": "code",
   "execution_count": 54,
   "id": "1d6c52ed",
   "metadata": {},
   "outputs": [
    {
     "name": "stdout",
     "output_type": "stream",
     "text": [
      "Enter the value: \n",
      "5\n",
      "The area of given circle is 78.5\n"
     ]
    }
   ],
   "source": [
    "#best code\n",
    "def radius(value):\n",
    "    Area=3.14*value*value\n",
    "    print(f'The area of given circle is {Area}')\n",
    "radius(int(input(\"Enter the value: \\n\")))"
   ]
  },
  {
   "cell_type": "code",
   "execution_count": 59,
   "id": "d2b0dc59",
   "metadata": {},
   "outputs": [
    {
     "name": "stdout",
     "output_type": "stream",
     "text": [
      "Enter the radius of circle : 10\n",
      "The area of the circle is : 314.7\n"
     ]
    }
   ],
   "source": [
    "# Write a program that accept radius and return the area of circle ?\n",
    "\n",
    "def radius(a):\n",
    "    area=3.147*a*a\n",
    "    print(f'The area of the circle is : {area}')\n",
    "\n",
    "a=int(input(\"Enter the radius of circle : \"))\n",
    "radius(a)"
   ]
  },
  {
   "cell_type": "code",
   "execution_count": 62,
   "id": "8b485c0a",
   "metadata": {},
   "outputs": [
    {
     "name": "stdout",
     "output_type": "stream",
     "text": [
      "Enter Your Name: Vivek\n",
      "Count of vowels in  2\n",
      "Count of consonent in  3\n"
     ]
    }
   ],
   "source": [
    "# Define a function which counts vowel and consonent in your name.\n",
    "def count(val):\n",
    "    vow=0\n",
    "    con=0\n",
    "    for i in range(len(val)):\n",
    "        if val[i] in ['a','e','i','o','u']:\n",
    "            vow=vow+1\n",
    "        else:\n",
    "            con=con+1\n",
    "    print('Count of vowels in ',vow)\n",
    "    print('Count of consonent in ',con)\n",
    "x=input('Enter Your Name: ')\n",
    "count(x)"
   ]
  },
  {
   "cell_type": "code",
   "execution_count": 63,
   "id": "6433cc0e",
   "metadata": {},
   "outputs": [
    {
     "name": "stdout",
     "output_type": "stream",
     "text": [
      "Enter the name : Raj\n",
      "Count of Vowels are : 1\n",
      "Count of Consonents are : 2\n"
     ]
    }
   ],
   "source": [
    "# Write a program with fucntion to count number of Consonents & Vowels in your name?\n",
    "def count(val):\n",
    "    vow=0\n",
    "    con=0\n",
    "    for i in range(len(val)):\n",
    "        if val[i] in ['a','e','i','o','u']:\n",
    "            vow=vow+1\n",
    "        else:\n",
    "            con=con+1\n",
    "    print(f\"Count of Vowels are : {vow}\")\n",
    "    print(f\"Count of Consonents are : {con}\")\n",
    "\n",
    "x=input(\"Enter the name : \")\n",
    "count(x)"
   ]
  },
  {
   "cell_type": "code",
   "execution_count": 64,
   "id": "6a18950b",
   "metadata": {},
   "outputs": [
    {
     "name": "stdout",
     "output_type": "stream",
     "text": [
      "Enter name:Siddhant\n",
      "count of vowels in 2\n",
      "count of vowels in 6\n"
     ]
    }
   ],
   "source": [
    "# Define a function which counts vowel and consonent in your name.\n",
    "# Write a program to check character is vowel or not.\n",
    "def count(val):\n",
    "    vow=0\n",
    "    con=0\n",
    "    for i in range(len(val)):\n",
    "        if val [i] in ['a','e','i','o','u']:\n",
    "            vow=vow+1\n",
    "        else:\n",
    "            con=con+1\n",
    "\n",
    "    print('count of vowels in',vow)\n",
    "    print('count of vowels in',con)\n",
    "count(str(input(\"Enter name:\")))"
   ]
  },
  {
   "cell_type": "code",
   "execution_count": 67,
   "id": "eeb4c72a",
   "metadata": {},
   "outputs": [
    {
     "name": "stdout",
     "output_type": "stream",
     "text": [
      "The Square of given values is: [1, 4, 9, 16, 25, 36, 49, 64, 81, 100, 121, 144, 169, 196, 225, 256, 289, 324, 361, 400, 441, 484, 529, 576, 625, 676, 729, 784, 841, 900]\n"
     ]
    }
   ],
   "source": [
    "# Write a program to create and print a list where the value are square of number b/w 1 to 30. i**2\n",
    "\n",
    "\n",
    "def printvalue():\n",
    "    l=list()\n",
    "    for i in range(1,31):\n",
    "        l.append(i**2)\n",
    "    print('The Square of given values is:',l)\n",
    "    \n",
    "printvalue()"
   ]
  },
  {
   "cell_type": "code",
   "execution_count": null,
   "id": "4b7180f7",
   "metadata": {},
   "outputs": [],
   "source": []
  }
 ],
 "metadata": {
  "kernelspec": {
   "display_name": "Python 3 (ipykernel)",
   "language": "python",
   "name": "python3"
  },
  "language_info": {
   "codemirror_mode": {
    "name": "ipython",
    "version": 3
   },
   "file_extension": ".py",
   "mimetype": "text/x-python",
   "name": "python",
   "nbconvert_exporter": "python",
   "pygments_lexer": "ipython3",
   "version": "3.9.7"
  }
 },
 "nbformat": 4,
 "nbformat_minor": 5
}
