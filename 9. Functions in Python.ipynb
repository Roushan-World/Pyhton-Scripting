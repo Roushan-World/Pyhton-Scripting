{
 "cells": [
  {
   "cell_type": "markdown",
   "id": "23d6a59e",
   "metadata": {},
   "source": [
    "# 9. Functions in Python"
   ]
  },
  {
   "cell_type": "markdown",
   "id": "b9094df2",
   "metadata": {},
   "source": [
    "* A Function is a group of related statement that performs a specific task.\n",
    "* Functions helps break our programs into smaller and module chunks.\n",
    "* There are two types of module.\n",
    "* 1. Pre-defined functions.\n",
    "* 2. User-defined functions.\n",
    "* In python a function is defined using the def keyword followed by the functions name and \n",
    "* Parenthesis().\n",
    "* Keyword def that marks the start of the function header.\n",
    "* Functions naming follow the same rule of writing identifiers in Python.\n",
    "* A colon (:) marks the end of the function header.\n",
    "* An optional return statement to return a value from the functions."
   ]
  },
  {
   "cell_type": "code",
   "execution_count": 1,
   "id": "a9eecb51",
   "metadata": {},
   "outputs": [
    {
     "name": "stdout",
     "output_type": "stream",
     "text": [
      "If you make the above operations with 10, the result will be 2,18,1.25,2,1,80.\n"
     ]
    },
    {
     "data": {
      "text/plain": [
       "(2, 18, 1.25, 2, 1, 80)"
      ]
     },
     "execution_count": 1,
     "metadata": {},
     "output_type": "execute_result"
    }
   ],
   "source": [
    "# Take a functions sample\n",
    "# Mathematical operations in a functions\n",
    "\n",
    "def process(x):\n",
    "    y1=x-8\n",
    "    y2=x+8\n",
    "    y3=x/8\n",
    "    y4=x%8\n",
    "    y5=x//8\n",
    "    y6=x*8\n",
    "    print(f\"If you make the above operations with {x}, the result will be {y1},{y2},{y3},{y4},{y5},{y6}.\")\n",
    "    return y1,y2,y3,y4,y5,y6\n",
    "process(10)\n"
   ]
  },
  {
   "cell_type": "code",
   "execution_count": 2,
   "id": "c0b90b85",
   "metadata": {},
   "outputs": [
    {
     "name": "stdout",
     "output_type": "stream",
     "text": [
      "Help on function process in module __main__:\n",
      "\n",
      "process(x)\n",
      "\n"
     ]
    }
   ],
   "source": [
    "help(process)"
   ]
  },
  {
   "cell_type": "code",
   "execution_count": 3,
   "id": "0808e5c1",
   "metadata": {},
   "outputs": [
    {
     "name": "stdout",
     "output_type": "stream",
     "text": [
      "Help on function process in module __main__:\n",
      "\n",
      "process(x)\n",
      "\n"
     ]
    }
   ],
   "source": [
    "\n",
    "help(process)"
   ]
  },
  {
   "cell_type": "code",
   "execution_count": 4,
   "id": "f21c3d2a",
   "metadata": {},
   "outputs": [
    {
     "name": "stdout",
     "output_type": "stream",
     "text": [
      "If you make the above operations with 3.14, the result will be -4.859999999999999,11.14,0.3925,3.14,0.0,25.12.\n"
     ]
    },
    {
     "data": {
      "text/plain": [
       "(-4.859999999999999, 11.14, 0.3925, 3.14, 0.0, 25.12)"
      ]
     },
     "execution_count": 4,
     "metadata": {},
     "output_type": "execute_result"
    }
   ],
   "source": [
    "process(3.14)"
   ]
  },
  {
   "cell_type": "code",
   "execution_count": 5,
   "id": "bd5ad6bb",
   "metadata": {},
   "outputs": [
    {
     "name": "stdout",
     "output_type": "stream",
     "text": [
      "If you make the above operations with 14, the result will be 6,22,1.75,6,1,112.\n"
     ]
    },
    {
     "data": {
      "text/plain": [
       "(6, 22, 1.75, 6, 1, 112)"
      ]
     },
     "execution_count": 5,
     "metadata": {},
     "output_type": "execute_result"
    }
   ],
   "source": [
    "process(14)"
   ]
  },
  {
   "cell_type": "code",
   "execution_count": 6,
   "id": "b3f2ffef",
   "metadata": {},
   "outputs": [
    {
     "name": "stdout",
     "output_type": "stream",
     "text": [
      "If you make the above operations with 50, the result will be 42,58,6.25,2,6,400.\n"
     ]
    },
    {
     "data": {
      "text/plain": [
       "(42, 58, 6.25, 2, 6, 400)"
      ]
     },
     "execution_count": 6,
     "metadata": {},
     "output_type": "execute_result"
    }
   ],
   "source": [
    "process(50)"
   ]
  },
  {
   "cell_type": "code",
   "execution_count": 7,
   "id": "a55a108a",
   "metadata": {},
   "outputs": [
    {
     "data": {
      "text/plain": [
       "59.370000000000005"
      ]
     },
     "execution_count": 7,
     "metadata": {},
     "output_type": "execute_result"
    }
   ],
   "source": [
    "def multi(x,y):\n",
    "    z=2*x+5*y+45\n",
    "    return z\n",
    "multi(3.14,1.618)"
   ]
  },
  {
   "cell_type": "code",
   "execution_count": 8,
   "id": "4b9f2aef",
   "metadata": {},
   "outputs": [
    {
     "data": {
      "text/plain": [
       "165"
      ]
     },
     "execution_count": 8,
     "metadata": {},
     "output_type": "execute_result"
    }
   ],
   "source": [
    "multi(10,20)"
   ]
  },
  {
   "cell_type": "code",
   "execution_count": 9,
   "id": "5030cf6c",
   "metadata": {},
   "outputs": [
    {
     "data": {
      "text/plain": [
       "495"
      ]
     },
     "execution_count": 9,
     "metadata": {},
     "output_type": "execute_result"
    }
   ],
   "source": [
    "multi(100,50)"
   ]
  },
  {
   "cell_type": "code",
   "execution_count": 10,
   "id": "acf8269d",
   "metadata": {},
   "outputs": [
    {
     "name": "stdout",
     "output_type": "stream",
     "text": [
      "The above operation with 20,10 the result will be 30\n"
     ]
    },
    {
     "data": {
      "text/plain": [
       "30"
      ]
     },
     "execution_count": 10,
     "metadata": {},
     "output_type": "execute_result"
    }
   ],
   "source": [
    "#nidhi\n",
    "def add(x,z):\n",
    "    y1=x+z\n",
    "    print (f\"The above operation with {x},{z} the result will be {y1}\")\n",
    "    return y1\n",
    "add (20,10)"
   ]
  },
  {
   "cell_type": "code",
   "execution_count": 11,
   "id": "e7f64756",
   "metadata": {},
   "outputs": [
    {
     "name": "stdout",
     "output_type": "stream",
     "text": [
      "5\n"
     ]
    }
   ],
   "source": [
    "# Write a program to add a numbers using function.\n",
    "\n",
    "def add(a,b):\n",
    "    c=a+b\n",
    "    return c\n",
    "output=add(2,3)\n",
    "print(output)"
   ]
  },
  {
   "cell_type": "code",
   "execution_count": 12,
   "id": "2bc25cb4",
   "metadata": {},
   "outputs": [
    {
     "data": {
      "text/plain": [
       "30"
      ]
     },
     "execution_count": 12,
     "metadata": {},
     "output_type": "execute_result"
    }
   ],
   "source": [
    "def add(a,b):\n",
    "    c=a+b\n",
    "    return c\n",
    "add(10,20)\n"
   ]
  },
  {
   "cell_type": "code",
   "execution_count": 13,
   "id": "29d5c88e",
   "metadata": {},
   "outputs": [
    {
     "data": {
      "text/plain": [
       "54.308"
      ]
     },
     "execution_count": 13,
     "metadata": {},
     "output_type": "execute_result"
    }
   ],
   "source": [
    "def add(x,y,p):\n",
    "    z=x+y+p\n",
    "    return z\n",
    "add(3.14,1.168,50)"
   ]
  },
  {
   "cell_type": "code",
   "execution_count": 14,
   "id": "5c96199c",
   "metadata": {},
   "outputs": [
    {
     "data": {
      "text/plain": [
       "135"
      ]
     },
     "execution_count": 14,
     "metadata": {},
     "output_type": "execute_result"
    }
   ],
   "source": [
    "add(45,45,45)"
   ]
  },
  {
   "cell_type": "code",
   "execution_count": 15,
   "id": "13ad1835",
   "metadata": {},
   "outputs": [
    {
     "name": "stdout",
     "output_type": "stream",
     "text": [
      "The above operation with 20,30,10 the result will be 60\n",
      "60\n"
     ]
    }
   ],
   "source": [
    "#nidhi\n",
    "def add(x,y,z):\n",
    "    y1=x+z+y\n",
    "    print (f\"The above operation with {x},{z},{y} the result will be {y1}\")\n",
    "    return y1\n",
    "output=add (20,10,30)\n",
    "print(output)"
   ]
  },
  {
   "cell_type": "code",
   "execution_count": 16,
   "id": "6441770f",
   "metadata": {},
   "outputs": [
    {
     "name": "stdout",
     "output_type": "stream",
     "text": [
      "60\n"
     ]
    }
   ],
   "source": [
    "# Vivek   # Write a program to add 3 numbers using function.\n",
    "\n",
    "def add(a,b,c):\n",
    "    d=a+b+c\n",
    "    return d\n",
    "output=add(20,10,30)\n",
    "print(output)"
   ]
  },
  {
   "cell_type": "code",
   "execution_count": 17,
   "id": "33baa4fe",
   "metadata": {},
   "outputs": [
    {
     "name": "stdout",
     "output_type": "stream",
     "text": [
      "If you make the above operations with 10, the result will be 35.091846000000004.\n"
     ]
    },
    {
     "data": {
      "text/plain": [
       "35.091846000000004"
      ]
     },
     "execution_count": 17,
     "metadata": {},
     "output_type": "execute_result"
    }
   ],
   "source": [
    "# Define a function\n",
    "def function(x):\n",
    "    \n",
    "    #Take a local variable\n",
    "    y=3.147\n",
    "    z=3*x+1.618*y\n",
    "    print(f'If you make the above operations with {x}, the result will be {z}.')\n",
    "    return z\n",
    "\n",
    "function(10)"
   ]
  },
  {
   "cell_type": "code",
   "execution_count": 18,
   "id": "aa852943",
   "metadata": {},
   "outputs": [
    {
     "name": "stdout",
     "output_type": "stream",
     "text": [
      "If you make the above operations with 10, the result will be 30.\n"
     ]
    },
    {
     "data": {
      "text/plain": [
       "30"
      ]
     },
     "execution_count": 18,
     "metadata": {},
     "output_type": "execute_result"
    }
   ],
   "source": [
    "#  Define a Function \n",
    "def function(x):\n",
    "    \n",
    "    # Take a local variable\n",
    "    y=20\n",
    "    z=x+y\n",
    "    print(f\"If you make the above operations with {x}, the result will be {z}.\")\n",
    "    return z\n",
    "\n",
    "function(10)"
   ]
  },
  {
   "cell_type": "code",
   "execution_count": 19,
   "id": "21451e4d",
   "metadata": {},
   "outputs": [
    {
     "name": "stdout",
     "output_type": "stream",
     "text": [
      "If you make the above operations with 20, the result will be 40.\n"
     ]
    },
    {
     "data": {
      "text/plain": [
       "40"
      ]
     },
     "execution_count": 19,
     "metadata": {},
     "output_type": "execute_result"
    }
   ],
   "source": [
    "function(20)"
   ]
  },
  {
   "cell_type": "code",
   "execution_count": 20,
   "id": "718550ab",
   "metadata": {},
   "outputs": [
    {
     "name": "stdout",
     "output_type": "stream",
     "text": [
      "The above operation with 10,20 the result will be 62.36\n"
     ]
    },
    {
     "data": {
      "text/plain": [
       "62.36"
      ]
     },
     "execution_count": 20,
     "metadata": {},
     "output_type": "execute_result"
    }
   ],
   "source": [
    "#nidhi\n",
    "def fnct2(x1):\n",
    "    y2=20\n",
    "    z1=3*x1+1.618*y2\n",
    "    print (f\"The above operation with {x1},{y2} the result will be {z1}\")\n",
    "    return z1\n",
    "fnct2 (10)"
   ]
  },
  {
   "cell_type": "code",
   "execution_count": 21,
   "id": "74f5c7fa",
   "metadata": {},
   "outputs": [
    {
     "name": "stdout",
     "output_type": "stream",
     "text": [
      "If you make the above operations with 10, the result will be 62.36.\n"
     ]
    },
    {
     "data": {
      "text/plain": [
       "62.36"
      ]
     },
     "execution_count": 21,
     "metadata": {},
     "output_type": "execute_result"
    }
   ],
   "source": [
    "# Vivek # Define a function\n",
    "\n",
    "def function(x):\n",
    "    \n",
    "    # Take a local variable\n",
    "    y=20\n",
    "    z=(x*3)+(y*1.618)\n",
    "    print(f'If you make the above operations with {x}, the result will be {z}.')\n",
    "    return z\n",
    "\n",
    "function(10)"
   ]
  },
  {
   "cell_type": "code",
   "execution_count": 22,
   "id": "408b99e0",
   "metadata": {},
   "outputs": [
    {
     "name": "stdout",
     "output_type": "stream",
     "text": [
      "Hello World\n",
      "Hello Python\n"
     ]
    }
   ],
   "source": [
    "# Define a function with and without return statement\n",
    "def msg1():\n",
    "    print(\"Hello World\")\n",
    "def msg2():\n",
    "    print(\"Hello Python\")\n",
    "    return None\n",
    "    \n",
    "    \n",
    "msg1()\n",
    "msg2()"
   ]
  },
  {
   "cell_type": "markdown",
   "id": "07b8f9be",
   "metadata": {},
   "source": [
    "# Concatenation with function"
   ]
  },
  {
   "cell_type": "code",
   "execution_count": 23,
   "id": "b8e157c7",
   "metadata": {},
   "outputs": [
    {
     "data": {
      "text/plain": [
       "'Hello WorldHi'"
      ]
     },
     "execution_count": 23,
     "metadata": {},
     "output_type": "execute_result"
    }
   ],
   "source": [
    "def string(x,y,z):\n",
    "    return x+y+z\n",
    "\n",
    "string(\"Hello\",\" \"\"World\",\"Hi\")"
   ]
  },
  {
   "cell_type": "code",
   "execution_count": 24,
   "id": "144f9440",
   "metadata": {},
   "outputs": [
    {
     "ename": "TypeError",
     "evalue": "string() missing 1 required positional argument: 'z'",
     "output_type": "error",
     "traceback": [
      "\u001b[1;31m---------------------------------------------------------------------------\u001b[0m",
      "\u001b[1;31mTypeError\u001b[0m                                 Traceback (most recent call last)",
      "\u001b[1;32mC:\\Users\\ROUSHA~1\\AppData\\Local\\Temp/ipykernel_25380/312973212.py\u001b[0m in \u001b[0;36m<module>\u001b[1;34m\u001b[0m\n\u001b[1;32m----> 1\u001b[1;33m \u001b[0mstring\u001b[0m\u001b[1;33m(\u001b[0m\u001b[1;34m'xyz'\u001b[0m\u001b[1;33m,\u001b[0m\u001b[1;34m' '\u001b[0m\u001b[1;34m'abc'\u001b[0m\u001b[1;33m)\u001b[0m\u001b[1;33m\u001b[0m\u001b[1;33m\u001b[0m\u001b[0m\n\u001b[0m",
      "\u001b[1;31mTypeError\u001b[0m: string() missing 1 required positional argument: 'z'"
     ]
    }
   ],
   "source": [
    "string('xyz',' ''abc')"
   ]
  },
  {
   "cell_type": "code",
   "execution_count": 25,
   "id": "72cb3a8d",
   "metadata": {},
   "outputs": [
    {
     "data": {
      "text/plain": [
       "10"
      ]
     },
     "execution_count": 25,
     "metadata": {},
     "output_type": "execute_result"
    }
   ],
   "source": [
    "string(3,5,2)"
   ]
  },
  {
   "cell_type": "code",
   "execution_count": 26,
   "id": "adf8eb01",
   "metadata": {},
   "outputs": [
    {
     "data": {
      "text/plain": [
       "63.0"
      ]
     },
     "execution_count": 26,
     "metadata": {},
     "output_type": "execute_result"
    }
   ],
   "source": [
    "string(21.0,21.0,21.0)"
   ]
  },
  {
   "cell_type": "code",
   "execution_count": 27,
   "id": "74d5e364",
   "metadata": {},
   "outputs": [
    {
     "name": "stdout",
     "output_type": "stream",
     "text": [
      "The above operation with 10,20 the result will be 30\n"
     ]
    },
    {
     "data": {
      "text/plain": [
       "30"
      ]
     },
     "execution_count": 27,
     "metadata": {},
     "output_type": "execute_result"
    }
   ],
   "source": [
    "def fnct2(x1):\n",
    "    y2=20\n",
    "    z1=x1+y2\n",
    "    print (f\"The above operation with {x1},{y2} the result will be {z1}\")\n",
    "    return z1\n",
    "fnct2 (10)"
   ]
  },
  {
   "cell_type": "code",
   "execution_count": 28,
   "id": "06b6b5c9",
   "metadata": {},
   "outputs": [
    {
     "name": "stdout",
     "output_type": "stream",
     "text": [
      "Enter your name in lowercase\n",
      "\n"
     ]
    }
   ],
   "source": [
    "#1. Define a function that accept your name in lowercase and returns your name as uppercase.\n",
    "def name(text):\n",
    "    z=text.upper()\n",
    "    print(z)\n",
    "    \n",
    "text= input(\"Enter your name in lowercase\")\n",
    "name(text)"
   ]
  },
  {
   "cell_type": "code",
   "execution_count": 30,
   "id": "06376560",
   "metadata": {},
   "outputs": [
    {
     "name": "stdout",
     "output_type": "stream",
     "text": [
      "Enter any number12\n",
      "12 is Even number\n"
     ]
    }
   ],
   "source": [
    "#2. Define a function that accepts a number and returns whether the number is even or odd.\n",
    "def func(x):\n",
    "    if x%2==0:\n",
    "        print(f'{x} is Even number')\n",
    "    else:\n",
    "        print(f'{x} is Odd number')\n",
    "x=int(input(\"Enter any number\"))\n",
    "func(x)"
   ]
  },
  {
   "cell_type": "code",
   "execution_count": 31,
   "id": "70440473",
   "metadata": {},
   "outputs": [
    {
     "name": "stdout",
     "output_type": "stream",
     "text": [
      "Enter your name in capitalize:cat\n",
      "Cat\n"
     ]
    }
   ],
   "source": [
    "#3.Define a function that accept your name in lowercase and returns your name as Capitalize.\n",
    "def name(text):\n",
    "    z=text.capitalize()\n",
    "    print(z)\n",
    "    \n",
    "text=input(\"Enter your name in capitalize:\")\n",
    "name(text)"
   ]
  },
  {
   "cell_type": "code",
   "execution_count": 32,
   "id": "38db77a4",
   "metadata": {},
   "outputs": [
    {
     "name": "stdout",
     "output_type": "stream",
     "text": [
      "Enter your number:12\n",
      "num is even\n"
     ]
    }
   ],
   "source": [
    "\n",
    "def v(z):\n",
    "    if z%2==0:\n",
    "        print(\"num is even\")\n",
    "    else:\n",
    "        print(\"Num is odd\")\n",
    "z=int(input(\"Enter your number:\"))    \n",
    "v(z)"
   ]
  },
  {
   "cell_type": "code",
   "execution_count": 33,
   "id": "a4260440",
   "metadata": {},
   "outputs": [
    {
     "name": "stdout",
     "output_type": "stream",
     "text": [
      "Enter a number : 15\n",
      "15 is an Odd Number.\n"
     ]
    }
   ],
   "source": [
    "# Vivek\n",
    "# Define a function that accepts a number and returns whether the number is even or odd.\n",
    "\n",
    "\n",
    "def even(x):\n",
    "    if x%2==0:\n",
    "        print(f'{x} is an Even Number.')\n",
    "    else:\n",
    "        print(f'{x} is an Odd Number.')\n",
    "x=int(input(\"Enter a number : \"))\n",
    "even(x)"
   ]
  },
  {
   "cell_type": "code",
   "execution_count": 34,
   "id": "984dbfb2",
   "metadata": {},
   "outputs": [],
   "source": [
    "# Vivek\n",
    "# Define a function that accepts a number and returns whether the number is even or odd.\n",
    "\n"
   ]
  },
  {
   "cell_type": "code",
   "execution_count": 35,
   "id": "ec176107",
   "metadata": {},
   "outputs": [
    {
     "name": "stdout",
     "output_type": "stream",
     "text": [
      "enter number12\n",
      "12even number\n"
     ]
    }
   ],
   "source": [
    "def evenodd(x):\n",
    "    if x%2==0:\n",
    "        print(f'{x}even number')\n",
    "    else:\n",
    "        print(f'{x}odd no')\n",
    "x=int(input(\"enter number\"))\n",
    "evenodd(x)"
   ]
  },
  {
   "cell_type": "code",
   "execution_count": 40,
   "id": "c992f24a",
   "metadata": {},
   "outputs": [
    {
     "name": "stdout",
     "output_type": "stream",
     "text": [
      "30 is the greatest number\n"
     ]
    }
   ],
   "source": [
    "# Define a function in python that accept 3 values and returns the maximum number of these three.\n",
    "# 30,22,18\n",
    "def f(x,y,z):\n",
    "    \n",
    "    if x>y and x>z:\n",
    "        print(f'{x} is the greatest number')\n",
    "    elif y>x & y>z:\n",
    "        print(f'{y} is the greatest number')\n",
    "    else:\n",
    "        print(f'{z} is the greatest number')\n",
    "f(30,22,18)"
   ]
  },
  {
   "cell_type": "code",
   "execution_count": 46,
   "id": "bed8b9cd",
   "metadata": {},
   "outputs": [
    {
     "name": "stdout",
     "output_type": "stream",
     "text": [
      "enter number12\n",
      "enter number12\n",
      "enter number12\n",
      "first number you enterd is a big number\n"
     ]
    }
   ],
   "source": [
    "def num(a,b,c):\n",
    "    if a>=b and a>=c:\n",
    "        print(\"first number you enterd is a big number\")\n",
    "    elif b>=a and b>=c:\n",
    "        print(\"second number you enterd is a big num\")\n",
    "    elif c>=a and c>=b:\n",
    "        print(\"Third number you enterd is a big num\")\n",
    "a=int(input(\"enter number\"))\n",
    "b=int(input(\"enter number\"))\n",
    "c=int(input(\"enter number\"))\n",
    "num(a,b,c)"
   ]
  },
  {
   "cell_type": "code",
   "execution_count": 45,
   "id": "f35222a0",
   "metadata": {},
   "outputs": [
    {
     "name": "stdout",
     "output_type": "stream",
     "text": [
      "30 is the greatest number\n"
     ]
    }
   ],
   "source": [
    "#Siddhant\n",
    "# Define a function to print the greater number out of 3 pre-defined numbers?\n",
    "def f(x,y,z):\n",
    "    \n",
    "# Take a local variable\n",
    "    if x>y and x>z:\n",
    "        print(f'{x} is the greatest number')\n",
    "    elif y>x & y>z:\n",
    "        print(f'{y} is the greatest number')\n",
    "    else:\n",
    "        print(f'{z} is the greatest number')\n",
    "f(30,22,18)"
   ]
  },
  {
   "cell_type": "code",
   "execution_count": 47,
   "id": "656e9997",
   "metadata": {},
   "outputs": [
    {
     "ename": "IndentationError",
     "evalue": "expected an indented block (Temp/ipykernel_25380/2311256300.py, line 9)",
     "output_type": "error",
     "traceback": [
      "\u001b[1;36m  File \u001b[1;32m\"C:\\Users\\ROUSHA~1\\AppData\\Local\\Temp/ipykernel_25380/2311256300.py\"\u001b[1;36m, line \u001b[1;32m9\u001b[0m\n\u001b[1;33m    \u001b[0m\n\u001b[1;37m    ^\u001b[0m\n\u001b[1;31mIndentationError\u001b[0m\u001b[1;31m:\u001b[0m expected an indented block\n"
     ]
    }
   ],
   "source": [
    "# Define a function that accept roll number and returns \n",
    "# whether the student is present or not.\n",
    "# 23,43,22,56,30,20,11\n",
    "x=[23,43,22,56,30,20,11]\n",
    "def detail(roll):\n",
    "    if roll in x:\n",
    "        \n",
    "        \n",
    "        \n",
    "    \n"
   ]
  },
  {
   "cell_type": "code",
   "execution_count": 48,
   "id": "fe1b06c5",
   "metadata": {},
   "outputs": [
    {
     "name": "stdout",
     "output_type": "stream",
     "text": [
      "enter roll no: 45\n",
      "absent\n"
     ]
    }
   ],
   "source": [
    "x=[23,43,22,56,30,20,11]\n",
    "def data(roll):\n",
    "    if roll in x:\n",
    "        print(\"present\")\n",
    "    else:\n",
    "        print(\"absent\")\n",
    "roll=int(input(\"enter roll no: \"))\n",
    "data(roll)"
   ]
  },
  {
   "cell_type": "code",
   "execution_count": 50,
   "id": "8065192d",
   "metadata": {},
   "outputs": [
    {
     "name": "stdout",
     "output_type": "stream",
     "text": [
      "Enter your roll_number45\n",
      "The Student is ABSENT\n"
     ]
    }
   ],
   "source": [
    "# Vivek\n",
    "# Define a function that accept roll number & returns whether the student is present or absent?\n",
    "# 23, 43, 22, 56, 30, 20, 11\n",
    "x=[23, 43, 22, 56, 30, 20, 11]\n",
    "def f(roll_number):\n",
    "    if roll_number in x:\n",
    "        print(\"The Stundent is PRESENT\")\n",
    "    else:\n",
    "        print(\"The Student is ABSENT\")\n",
    "roll_number=int(input(\"Enter your roll_number\"))\n",
    "f(roll_number)"
   ]
  },
  {
   "cell_type": "code",
   "execution_count": 51,
   "id": "2ca9ffdc",
   "metadata": {},
   "outputs": [
    {
     "name": "stdout",
     "output_type": "stream",
     "text": [
      "enter number12\n",
      "Student is absent\n"
     ]
    }
   ],
   "source": [
    "# Define a function that set roll number and returns whether the student is present or not.\n",
    "#23,43,22,56,30,20,11\n",
    "\n",
    "\n",
    "x=[23,43,22,56,30,20,11]\n",
    "def fu(roll):\n",
    "    if roll in x:\n",
    "        print(\"Student is Present\")\n",
    "        \n",
    "    else:\n",
    "        print(\"Student is absent\")\n",
    "roll=input(\"enter number\") \n",
    "fu(roll)"
   ]
  },
  {
   "cell_type": "code",
   "execution_count": 52,
   "id": "c82242dd",
   "metadata": {},
   "outputs": [
    {
     "ename": "SyntaxError",
     "evalue": "f-string: empty expression not allowed (Temp/ipykernel_25380/1941780627.py, line 6)",
     "output_type": "error",
     "traceback": [
      "\u001b[1;36m  File \u001b[1;32m\"C:\\Users\\ROUSHA~1\\AppData\\Local\\Temp/ipykernel_25380/1941780627.py\"\u001b[1;36m, line \u001b[1;32m6\u001b[0m\n\u001b[1;33m    print(f'Sum is {}, Sub is {}, & Multiply is {}.')\u001b[0m\n\u001b[1;37m                                                    ^\u001b[0m\n\u001b[1;31mSyntaxError\u001b[0m\u001b[1;31m:\u001b[0m f-string: empty expression not allowed\n"
     ]
    }
   ],
   "source": [
    "# Define a function that accept 2 values and returns its sum, substract and multiplication.\n",
    "def result(a,b):\n",
    "    sum= a+b\n",
    "    sub= a-b\n",
    "    mul= a*b\n",
    "    print(f'Sum is {}, Sub is {}, & Multiply is {}.')\n",
    "    "
   ]
  },
  {
   "cell_type": "code",
   "execution_count": 53,
   "id": "67f43f23",
   "metadata": {},
   "outputs": [
    {
     "name": "stdout",
     "output_type": "stream",
     "text": [
      "enter no12\n",
      "enter no13\n",
      "sum is 25, sub is -1, multiplication is 156.\n"
     ]
    }
   ],
   "source": [
    "def result(a,b):\n",
    "    sum= a+b\n",
    "    sub= a-b\n",
    "    mul= a*b\n",
    "    print(f'sum is {sum}, sub is {sub}, multiplication is {mul}.')\n",
    "a=int(input(\"enter no\"))\n",
    "b=int(input(\"enter no\"))\n",
    "result(a,b)"
   ]
  },
  {
   "cell_type": "code",
   "execution_count": 54,
   "id": "ec8a5cf1",
   "metadata": {},
   "outputs": [
    {
     "name": "stdout",
     "output_type": "stream",
     "text": [
      "Enter your first number : 14\n",
      "Enter your first number : 15\n",
      "The addition of 2 values are : 29\n",
      "The substraction of 2 values are : -1\n",
      "The multiplication of 2 values are : 210\n"
     ]
    }
   ],
   "source": [
    "# Vivek\n",
    "#Define a function that accepts 2 values & return its addition, subsctraction & multiplication value?\n",
    "\n",
    "a=int(input(\"Enter your first number : \"))\n",
    "b=int(input(\"Enter your first number : \"))\n",
    "\n",
    "def f(a,b):\n",
    "    u=a+b\n",
    "    v=a-b\n",
    "    w=a*b\n",
    "    print(f\"The addition of 2 values are : {u}\")\n",
    "    print(f\"The substraction of 2 values are : {v}\")\n",
    "    print(f\"The multiplication of 2 values are : {w}\")\n",
    "f(a,b)"
   ]
  },
  {
   "cell_type": "code",
   "execution_count": 55,
   "id": "6916d775",
   "metadata": {},
   "outputs": [
    {
     "name": "stdout",
     "output_type": "stream",
     "text": [
      "enter number12\n",
      "enter number13\n",
      "Sum is 25, & sub is -1 & multipy is 156.\n"
     ]
    }
   ],
   "source": [
    "l1=int(input(\"enter number\")) \n",
    "l2=int(input(\"enter number\")) \n",
    "def c(l1,l2):\n",
    "    x= l1+l2\n",
    "    y=l1-l2\n",
    "    z=l1*l2\n",
    "    print(f'Sum is {x}, & sub is {y} & multipy is {z}.')\n",
    "c(l1,l2)"
   ]
  },
  {
   "cell_type": "code",
   "execution_count": null,
   "id": "acee59a2",
   "metadata": {},
   "outputs": [],
   "source": []
  }
 ],
 "metadata": {
  "kernelspec": {
   "display_name": "Python 3 (ipykernel)",
   "language": "python",
   "name": "python3"
  },
  "language_info": {
   "codemirror_mode": {
    "name": "ipython",
    "version": 3
   },
   "file_extension": ".py",
   "mimetype": "text/x-python",
   "name": "python",
   "nbconvert_exporter": "python",
   "pygments_lexer": "ipython3",
   "version": "3.9.7"
  }
 },
 "nbformat": 4,
 "nbformat_minor": 5
}
