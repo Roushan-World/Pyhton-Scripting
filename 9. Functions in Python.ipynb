{
 "cells": [
  {
   "cell_type": "markdown",
   "id": "23d6a59e",
   "metadata": {},
   "source": [
    "# 9. Functions in Python"
   ]
  },
  {
   "cell_type": "markdown",
   "id": "b9094df2",
   "metadata": {},
   "source": [
    "* A Function is a group of related statement that performs a specific task.\n",
    "* Functions helps break our programs into smaller and module chunks.\n",
    "* There are two types of module.\n",
    "* 1. Pre-defined functions.\n",
    "* 2. User-defined functions.\n",
    "* In python a function is defined using the def keyword followed by the functions name and \n",
    "* Parenthesis().\n",
    "* Keyword def that marks the start of the function header.\n",
    "* Functions naming follow the same rule of writing identifiers in Python.\n",
    "* A colon (:) marks the end of the function header.\n",
    "* An optional return statement to return a value from the functions."
   ]
  },
  {
   "cell_type": "code",
   "execution_count": 4,
   "id": "a9eecb51",
   "metadata": {},
   "outputs": [
    {
     "name": "stdout",
     "output_type": "stream",
     "text": [
      "If you make the above operations with 10, the result will be 2,18,1.25,2,1,80.\n"
     ]
    },
    {
     "data": {
      "text/plain": [
       "(2, 18, 1.25, 2, 1, 80)"
      ]
     },
     "execution_count": 4,
     "metadata": {},
     "output_type": "execute_result"
    }
   ],
   "source": [
    "# Take a functions sample\n",
    "# Mathematical operations in a functions\n",
    "\n",
    "def process(x):\n",
    "    y1=x-8\n",
    "    y2=x+8\n",
    "    y3=x/8\n",
    "    y4=x%8\n",
    "    y5=x//8\n",
    "    y6=x*8\n",
    "    print(f\"If you make the above operations with {x}, the result will be {y1},{y2},{y3},{y4},{y5},{y6}.\")\n",
    "    return y1,y2,y3,y4,y5,y6\n",
    "process(10)\n"
   ]
  },
  {
   "cell_type": "code",
   "execution_count": 5,
   "id": "c0b90b85",
   "metadata": {},
   "outputs": [
    {
     "name": "stdout",
     "output_type": "stream",
     "text": [
      "Help on function process in module __main__:\n",
      "\n",
      "process(x)\n",
      "\n"
     ]
    }
   ],
   "source": [
    "help(process)"
   ]
  },
  {
   "cell_type": "code",
   "execution_count": 8,
   "id": "0808e5c1",
   "metadata": {},
   "outputs": [
    {
     "name": "stdout",
     "output_type": "stream",
     "text": [
      "Help on function process in module __main__:\n",
      "\n",
      "process(x)\n",
      "\n"
     ]
    }
   ],
   "source": [
    "\n",
    "help(process)"
   ]
  },
  {
   "cell_type": "code",
   "execution_count": 9,
   "id": "f21c3d2a",
   "metadata": {},
   "outputs": [
    {
     "name": "stdout",
     "output_type": "stream",
     "text": [
      "If you make the above operations with 3.14, the result will be -4.859999999999999,11.14,0.3925,3.14,0.0,25.12.\n"
     ]
    },
    {
     "data": {
      "text/plain": [
       "(-4.859999999999999, 11.14, 0.3925, 3.14, 0.0, 25.12)"
      ]
     },
     "execution_count": 9,
     "metadata": {},
     "output_type": "execute_result"
    }
   ],
   "source": [
    "process(3.14)"
   ]
  },
  {
   "cell_type": "code",
   "execution_count": 10,
   "id": "bd5ad6bb",
   "metadata": {},
   "outputs": [
    {
     "name": "stdout",
     "output_type": "stream",
     "text": [
      "If you make the above operations with 14, the result will be 6,22,1.75,6,1,112.\n"
     ]
    },
    {
     "data": {
      "text/plain": [
       "(6, 22, 1.75, 6, 1, 112)"
      ]
     },
     "execution_count": 10,
     "metadata": {},
     "output_type": "execute_result"
    }
   ],
   "source": [
    "process(14)"
   ]
  },
  {
   "cell_type": "code",
   "execution_count": 11,
   "id": "b3f2ffef",
   "metadata": {},
   "outputs": [
    {
     "name": "stdout",
     "output_type": "stream",
     "text": [
      "If you make the above operations with 50, the result will be 42,58,6.25,2,6,400.\n"
     ]
    },
    {
     "data": {
      "text/plain": [
       "(42, 58, 6.25, 2, 6, 400)"
      ]
     },
     "execution_count": 11,
     "metadata": {},
     "output_type": "execute_result"
    }
   ],
   "source": [
    "process(50)"
   ]
  },
  {
   "cell_type": "code",
   "execution_count": 13,
   "id": "a55a108a",
   "metadata": {},
   "outputs": [
    {
     "data": {
      "text/plain": [
       "59.370000000000005"
      ]
     },
     "execution_count": 13,
     "metadata": {},
     "output_type": "execute_result"
    }
   ],
   "source": [
    "def multi(x,y):\n",
    "    z=2*x+5*y+45\n",
    "    return z\n",
    "multi(3.14,1.618)"
   ]
  },
  {
   "cell_type": "code",
   "execution_count": 14,
   "id": "4b9f2aef",
   "metadata": {},
   "outputs": [
    {
     "data": {
      "text/plain": [
       "165"
      ]
     },
     "execution_count": 14,
     "metadata": {},
     "output_type": "execute_result"
    }
   ],
   "source": [
    "multi(10,20)"
   ]
  },
  {
   "cell_type": "code",
   "execution_count": 15,
   "id": "5030cf6c",
   "metadata": {},
   "outputs": [
    {
     "data": {
      "text/plain": [
       "495"
      ]
     },
     "execution_count": 15,
     "metadata": {},
     "output_type": "execute_result"
    }
   ],
   "source": [
    "multi(100,50)"
   ]
  },
  {
   "cell_type": "code",
   "execution_count": 16,
   "id": "acf8269d",
   "metadata": {},
   "outputs": [
    {
     "name": "stdout",
     "output_type": "stream",
     "text": [
      "The above operation with 20,10 the result will be 30\n"
     ]
    },
    {
     "data": {
      "text/plain": [
       "30"
      ]
     },
     "execution_count": 16,
     "metadata": {},
     "output_type": "execute_result"
    }
   ],
   "source": [
    "#nidhi\n",
    "def add(x,z):\n",
    "    y1=x+z\n",
    "    print (f\"The above operation with {x},{z} the result will be {y1}\")\n",
    "    return y1\n",
    "add (20,10)"
   ]
  },
  {
   "cell_type": "code",
   "execution_count": 17,
   "id": "e7f64756",
   "metadata": {},
   "outputs": [
    {
     "name": "stdout",
     "output_type": "stream",
     "text": [
      "5\n"
     ]
    }
   ],
   "source": [
    "# Write a program to add a numbers using function.\n",
    "\n",
    "def add(a,b):\n",
    "    c=a+b\n",
    "    return c\n",
    "output=add(2,3)\n",
    "print(output)"
   ]
  },
  {
   "cell_type": "code",
   "execution_count": 18,
   "id": "2bc25cb4",
   "metadata": {},
   "outputs": [
    {
     "data": {
      "text/plain": [
       "30"
      ]
     },
     "execution_count": 18,
     "metadata": {},
     "output_type": "execute_result"
    }
   ],
   "source": [
    "def add(a,b):\n",
    "    c=a+b\n",
    "    return c\n",
    "add(10,20)\n"
   ]
  },
  {
   "cell_type": "code",
   "execution_count": 19,
   "id": "29d5c88e",
   "metadata": {},
   "outputs": [
    {
     "data": {
      "text/plain": [
       "54.308"
      ]
     },
     "execution_count": 19,
     "metadata": {},
     "output_type": "execute_result"
    }
   ],
   "source": [
    "def add(x,y,p):\n",
    "    z=x+y+p\n",
    "    return z\n",
    "add(3.14,1.168,50)"
   ]
  },
  {
   "cell_type": "code",
   "execution_count": 20,
   "id": "5c96199c",
   "metadata": {},
   "outputs": [
    {
     "data": {
      "text/plain": [
       "135"
      ]
     },
     "execution_count": 20,
     "metadata": {},
     "output_type": "execute_result"
    }
   ],
   "source": [
    "add(45,45,45)"
   ]
  },
  {
   "cell_type": "code",
   "execution_count": 22,
   "id": "13ad1835",
   "metadata": {},
   "outputs": [
    {
     "name": "stdout",
     "output_type": "stream",
     "text": [
      "The above operation with 20,30,10 the result will be 60\n",
      "60\n"
     ]
    }
   ],
   "source": [
    "#nidhi\n",
    "def add(x,y,z):\n",
    "    y1=x+z+y\n",
    "    print (f\"The above operation with {x},{z},{y} the result will be {y1}\")\n",
    "    return y1\n",
    "output=add (20,10,30)\n",
    "print(output)"
   ]
  },
  {
   "cell_type": "code",
   "execution_count": 24,
   "id": "6441770f",
   "metadata": {},
   "outputs": [
    {
     "name": "stdout",
     "output_type": "stream",
     "text": [
      "60\n"
     ]
    }
   ],
   "source": [
    "# Vivek   # Write a program to add 3 numbers using function.\n",
    "\n",
    "def add(a,b,c):\n",
    "    d=a+b+c\n",
    "    return d\n",
    "output=add(20,10,30)\n",
    "print(output)"
   ]
  },
  {
   "cell_type": "code",
   "execution_count": 26,
   "id": "33baa4fe",
   "metadata": {},
   "outputs": [
    {
     "name": "stdout",
     "output_type": "stream",
     "text": [
      "If you make the above operations with 10, the result will be 35.091846000000004.\n"
     ]
    },
    {
     "data": {
      "text/plain": [
       "35.091846000000004"
      ]
     },
     "execution_count": 26,
     "metadata": {},
     "output_type": "execute_result"
    }
   ],
   "source": [
    "# Define a function\n",
    "def function(x):\n",
    "    \n",
    "    #Take a local variable\n",
    "    y=3.147\n",
    "    z=3*x+1.618*y\n",
    "    print(f'If you make the above operations with {x}, the result will be {z}.')\n",
    "    return z\n",
    "\n",
    "function(10)"
   ]
  },
  {
   "cell_type": "code",
   "execution_count": 27,
   "id": "aa852943",
   "metadata": {},
   "outputs": [
    {
     "name": "stdout",
     "output_type": "stream",
     "text": [
      "If you make the above operations with 10, the result will be 30.\n"
     ]
    },
    {
     "data": {
      "text/plain": [
       "30"
      ]
     },
     "execution_count": 27,
     "metadata": {},
     "output_type": "execute_result"
    }
   ],
   "source": [
    "#  Define a Function \n",
    "def function(x):\n",
    "    \n",
    "    # Take a local variable\n",
    "    y=20\n",
    "    z=x+y\n",
    "    print(f\"If you make the above operations with {x}, the result will be {z}.\")\n",
    "    return z\n",
    "\n",
    "function(10)"
   ]
  },
  {
   "cell_type": "code",
   "execution_count": 28,
   "id": "21451e4d",
   "metadata": {},
   "outputs": [
    {
     "name": "stdout",
     "output_type": "stream",
     "text": [
      "If you make the above operations with 20, the result will be 40.\n"
     ]
    },
    {
     "data": {
      "text/plain": [
       "40"
      ]
     },
     "execution_count": 28,
     "metadata": {},
     "output_type": "execute_result"
    }
   ],
   "source": [
    "function(20)"
   ]
  },
  {
   "cell_type": "code",
   "execution_count": 29,
   "id": "718550ab",
   "metadata": {},
   "outputs": [
    {
     "name": "stdout",
     "output_type": "stream",
     "text": [
      "The above operation with 10,20 the result will be 62.36\n"
     ]
    },
    {
     "data": {
      "text/plain": [
       "62.36"
      ]
     },
     "execution_count": 29,
     "metadata": {},
     "output_type": "execute_result"
    }
   ],
   "source": [
    "#nidhi\n",
    "def fnct2(x1):\n",
    "    y2=20\n",
    "    z1=3*x1+1.618*y2\n",
    "    print (f\"The above operation with {x1},{y2} the result will be {z1}\")\n",
    "    return z1\n",
    "fnct2 (10)"
   ]
  },
  {
   "cell_type": "code",
   "execution_count": 30,
   "id": "74f5c7fa",
   "metadata": {},
   "outputs": [
    {
     "name": "stdout",
     "output_type": "stream",
     "text": [
      "If you make the above operations with 10, the result will be 62.36.\n"
     ]
    },
    {
     "data": {
      "text/plain": [
       "62.36"
      ]
     },
     "execution_count": 30,
     "metadata": {},
     "output_type": "execute_result"
    }
   ],
   "source": [
    "# Vivek # Define a function\n",
    "\n",
    "def function(x):\n",
    "    \n",
    "    # Take a local variable\n",
    "    y=20\n",
    "    z=(x*3)+(y*1.618)\n",
    "    print(f'If you make the above operations with {x}, the result will be {z}.')\n",
    "    return z\n",
    "\n",
    "function(10)"
   ]
  },
  {
   "cell_type": "code",
   "execution_count": 34,
   "id": "408b99e0",
   "metadata": {},
   "outputs": [
    {
     "name": "stdout",
     "output_type": "stream",
     "text": [
      "Hello World\n",
      "Hello Python\n"
     ]
    }
   ],
   "source": [
    "# Define a function with and without return statement\n",
    "def msg1():\n",
    "    print(\"Hello World\")\n",
    "def msg2():\n",
    "    print(\"Hello Python\")\n",
    "    return None\n",
    "    \n",
    "    \n",
    "msg1()\n",
    "msg2()"
   ]
  },
  {
   "cell_type": "markdown",
   "id": "07b8f9be",
   "metadata": {},
   "source": [
    "# Concatenation with function"
   ]
  },
  {
   "cell_type": "code",
   "execution_count": 44,
   "id": "b8e157c7",
   "metadata": {},
   "outputs": [
    {
     "data": {
      "text/plain": [
       "'Hello WorldHi'"
      ]
     },
     "execution_count": 44,
     "metadata": {},
     "output_type": "execute_result"
    }
   ],
   "source": [
    "def string(x,y,z):\n",
    "    return x+y+z\n",
    "\n",
    "string(\"Hello\",\" \"\"World\",\"Hi\")"
   ]
  },
  {
   "cell_type": "code",
   "execution_count": 48,
   "id": "144f9440",
   "metadata": {},
   "outputs": [
    {
     "ename": "TypeError",
     "evalue": "string() missing 1 required positional argument: 'z'",
     "output_type": "error",
     "traceback": [
      "\u001b[1;31m---------------------------------------------------------------------------\u001b[0m",
      "\u001b[1;31mTypeError\u001b[0m                                 Traceback (most recent call last)",
      "\u001b[1;32mC:\\Users\\ROUSHA~1\\AppData\\Local\\Temp/ipykernel_18216/312973212.py\u001b[0m in \u001b[0;36m<module>\u001b[1;34m\u001b[0m\n\u001b[1;32m----> 1\u001b[1;33m \u001b[0mstring\u001b[0m\u001b[1;33m(\u001b[0m\u001b[1;34m'xyz'\u001b[0m\u001b[1;33m,\u001b[0m\u001b[1;34m' '\u001b[0m\u001b[1;34m'abc'\u001b[0m\u001b[1;33m)\u001b[0m\u001b[1;33m\u001b[0m\u001b[1;33m\u001b[0m\u001b[0m\n\u001b[0m",
      "\u001b[1;31mTypeError\u001b[0m: string() missing 1 required positional argument: 'z'"
     ]
    }
   ],
   "source": [
    "string('xyz',' ''abc')"
   ]
  },
  {
   "cell_type": "code",
   "execution_count": 46,
   "id": "72cb3a8d",
   "metadata": {},
   "outputs": [
    {
     "data": {
      "text/plain": [
       "10"
      ]
     },
     "execution_count": 46,
     "metadata": {},
     "output_type": "execute_result"
    }
   ],
   "source": [
    "string(3,5,2)"
   ]
  },
  {
   "cell_type": "code",
   "execution_count": 47,
   "id": "adf8eb01",
   "metadata": {},
   "outputs": [
    {
     "data": {
      "text/plain": [
       "63.0"
      ]
     },
     "execution_count": 47,
     "metadata": {},
     "output_type": "execute_result"
    }
   ],
   "source": [
    "string(21.0,21.0,21.0)"
   ]
  },
  {
   "cell_type": "code",
   "execution_count": 49,
   "id": "74d5e364",
   "metadata": {},
   "outputs": [
    {
     "name": "stdout",
     "output_type": "stream",
     "text": [
      "The above operation with 10,20 the result will be 30\n"
     ]
    },
    {
     "data": {
      "text/plain": [
       "30"
      ]
     },
     "execution_count": 49,
     "metadata": {},
     "output_type": "execute_result"
    }
   ],
   "source": [
    "def fnct2(x1):\n",
    "    y2=20\n",
    "    z1=x1+y2\n",
    "    print (f\"The above operation with {x1},{y2} the result will be {z1}\")\n",
    "    return z1\n",
    "fnct2 (10)"
   ]
  },
  {
   "cell_type": "code",
   "execution_count": null,
   "id": "06b6b5c9",
   "metadata": {},
   "outputs": [],
   "source": []
  }
 ],
 "metadata": {
  "kernelspec": {
   "display_name": "Python 3 (ipykernel)",
   "language": "python",
   "name": "python3"
  },
  "language_info": {
   "codemirror_mode": {
    "name": "ipython",
    "version": 3
   },
   "file_extension": ".py",
   "mimetype": "text/x-python",
   "name": "python",
   "nbconvert_exporter": "python",
   "pygments_lexer": "ipython3",
   "version": "3.9.7"
  }
 },
 "nbformat": 4,
 "nbformat_minor": 5
}
