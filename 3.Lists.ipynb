{
 "cells": [
  {
   "cell_type": "markdown",
   "id": "3c5d3916",
   "metadata": {},
   "source": [
    "# 3. Lists [ ]"
   ]
  },
  {
   "cell_type": "markdown",
   "id": "1c53323a",
   "metadata": {},
   "source": [
    "* Lists are ordered\n",
    "* Lists can be nested arbitrary depth.\n",
    "* Lists can be accessed by index.\n",
    "* Lists are mutable.\n"
   ]
  },
  {
   "cell_type": "code",
   "execution_count": 1,
   "id": "bb5dcc89",
   "metadata": {},
   "outputs": [
    {
     "data": {
      "text/plain": [
       "['Python', 10, 2022]"
      ]
     },
     "execution_count": 1,
     "metadata": {},
     "output_type": "execute_result"
    }
   ],
   "source": [
    "# Creating a list\n",
    "nlis=['Python',10,2022]\n",
    "nlis"
   ]
  },
  {
   "cell_type": "code",
   "execution_count": 2,
   "id": "d58ee342",
   "metadata": {},
   "outputs": [
    {
     "data": {
      "text/plain": [
       "list"
      ]
     },
     "execution_count": 2,
     "metadata": {},
     "output_type": "execute_result"
    }
   ],
   "source": [
    "type(nlis)"
   ]
  },
  {
   "cell_type": "code",
   "execution_count": 3,
   "id": "d09e8094",
   "metadata": {},
   "outputs": [
    {
     "data": {
      "text/plain": [
       "('Python', 10, 2022)"
      ]
     },
     "execution_count": 3,
     "metadata": {},
     "output_type": "execute_result"
    }
   ],
   "source": [
    "# Creating a tuples\n",
    "nlis1=('Python',10,2022)\n",
    "nlis1"
   ]
  },
  {
   "cell_type": "code",
   "execution_count": 4,
   "id": "2685e293",
   "metadata": {},
   "outputs": [
    {
     "data": {
      "text/plain": [
       "tuple"
      ]
     },
     "execution_count": 4,
     "metadata": {},
     "output_type": "execute_result"
    }
   ],
   "source": [
    "type(nlis1)"
   ]
  },
  {
   "cell_type": "code",
   "execution_count": 5,
   "id": "220fe207",
   "metadata": {},
   "outputs": [
    {
     "name": "stdout",
     "output_type": "stream",
     "text": [
      "Positve and negative index of the first element\n",
      " - Positive Index:- Python \n",
      " - Negative Index:- Python\n"
     ]
    }
   ],
   "source": [
    "print('Positve and negative index of the first element\\n - Positive Index:-',nlis[0],'\\n - Negative Index:-', nlis[-3])"
   ]
  },
  {
   "cell_type": "code",
   "execution_count": 6,
   "id": "37dc8339",
   "metadata": {},
   "outputs": [
    {
     "name": "stdout",
     "output_type": "stream",
     "text": [
      "Positve and negative index of the first element\n",
      " - Positive Index:- 10 \n",
      " - Negative Index:- 10\n"
     ]
    }
   ],
   "source": [
    "print('Positve and negative index of the first element\\n - Positive Index:-',nlis[1],'\\n - Negative Index:-', nlis[-2])"
   ]
  },
  {
   "cell_type": "code",
   "execution_count": 7,
   "id": "5f552544",
   "metadata": {},
   "outputs": [
    {
     "name": "stdout",
     "output_type": "stream",
     "text": [
      "Positve and negative index of the first element\n",
      " - Positive Index:- 2022 \n",
      " - Negative Index:- 2022\n"
     ]
    }
   ],
   "source": [
    "print('Positve and negative index of the first element\\n - Positive Index:-',nlis[2],'\\n - Negative Index:-', nlis[-1])"
   ]
  },
  {
   "cell_type": "markdown",
   "id": "0cba5362",
   "metadata": {},
   "source": [
    "# What can content a list?"
   ]
  },
  {
   "cell_type": "markdown",
   "id": "ac5c26a7",
   "metadata": {},
   "source": [
    "* Strings\n",
    "* Floats\n",
    "* Integer\n",
    "* Boolean\n",
    "* Nested Lists\n",
    "* Nested Tupeles\n",
    "* Other data structure"
   ]
  },
  {
   "cell_type": "markdown",
   "id": "e6628703",
   "metadata": {},
   "source": [
    "nlis2=[\"Python\",3.15,2022,[1,1,2,2,3,3,4,4,21,34],(\"Hello World\",'Python',3.14,2022),True,False]\n",
    "nlis2"
   ]
  },
  {
   "cell_type": "code",
   "execution_count": 8,
   "id": "ff18d0e5",
   "metadata": {},
   "outputs": [
    {
     "data": {
      "text/plain": [
       "['Python',\n",
       " 3.15,\n",
       " 2022,\n",
       " [1, 1, 2, 2, 3, 3, 4, 4, 21, 34],\n",
       " ('Hello World', 'Python', 3.14, 2022),\n",
       " True,\n",
       " False]"
      ]
     },
     "execution_count": 8,
     "metadata": {},
     "output_type": "execute_result"
    }
   ],
   "source": [
    "nlis2=[\"Python\",3.15,2022,[1,1,2,2,3,3,4,4,21,34],(\"Hello World\",'Python',3.14,2022),True,False] \n",
    "nlis2"
   ]
  },
  {
   "cell_type": "markdown",
   "id": "aee12152",
   "metadata": {},
   "source": [
    "# List Operation"
   ]
  },
  {
   "cell_type": "code",
   "execution_count": 9,
   "id": "ea081628",
   "metadata": {},
   "outputs": [
    {
     "data": {
      "text/plain": [
       "['Python',\n",
       " 3.15,\n",
       " 2022,\n",
       " [1, 1, 2, 2, 3, 3, 4, 4, 21, 34],\n",
       " ('Hello World', 'Python', 3.14, 2022),\n",
       " True]"
      ]
     },
     "execution_count": 9,
     "metadata": {},
     "output_type": "execute_result"
    }
   ],
   "source": [
    "nlis3=[\"Python\",3.15,2022,[1,1,2,2,3,3,4,4,21,34],(\"Hello World\",'Python',3.14,2022),True] \n",
    "nlis3"
   ]
  },
  {
   "cell_type": "code",
   "execution_count": 10,
   "id": "45b980d8",
   "metadata": {},
   "outputs": [
    {
     "data": {
      "text/plain": [
       "6"
      ]
     },
     "execution_count": 10,
     "metadata": {},
     "output_type": "execute_result"
    }
   ],
   "source": [
    "# Length of the list\n",
    "len(nlis3)"
   ]
  },
  {
   "cell_type": "code",
   "execution_count": 11,
   "id": "e91f1545",
   "metadata": {},
   "outputs": [
    {
     "name": "stdout",
     "output_type": "stream",
     "text": [
      "[3.15]\n"
     ]
    }
   ],
   "source": [
    "# slicing of list\n",
    "print(nlis3[1:2])"
   ]
  },
  {
   "cell_type": "code",
   "execution_count": 12,
   "id": "a854c1ba",
   "metadata": {},
   "outputs": [
    {
     "name": "stdout",
     "output_type": "stream",
     "text": [
      "[2022, [1, 1, 2, 2, 3, 3, 4, 4, 21, 34]]\n"
     ]
    }
   ],
   "source": [
    "# Slicing of list\n",
    "print(nlis3[2:4])"
   ]
  },
  {
   "cell_type": "code",
   "execution_count": 13,
   "id": "ebc7174d",
   "metadata": {},
   "outputs": [
    {
     "name": "stdout",
     "output_type": "stream",
     "text": [
      "['Python', 3.15, 2022, [1, 1, 2, 2, 3, 3, 4, 4, 21, 34], ('Hello World', 'Python', 3.14, 2022)]\n"
     ]
    }
   ],
   "source": [
    "# slicing of list\n",
    "print(nlis3[:5])"
   ]
  },
  {
   "cell_type": "code",
   "execution_count": 14,
   "id": "71806ca0",
   "metadata": {},
   "outputs": [
    {
     "name": "stdout",
     "output_type": "stream",
     "text": [
      "[[1, 1, 2, 2, 3, 3, 4, 4, 21, 34], ('Hello World', 'Python', 3.14, 2022), True]\n"
     ]
    }
   ],
   "source": [
    "# slicing of list\n",
    "print(nlis3[3:])"
   ]
  },
  {
   "cell_type": "markdown",
   "id": "af2b8e41",
   "metadata": {},
   "source": [
    "# Extending the list"
   ]
  },
  {
   "cell_type": "markdown",
   "id": "8758305e",
   "metadata": {},
   "source": [
    "* We use the extend() function to add a new element to the list.\n",
    "* With the list function, we add more than one element to the list."
   ]
  },
  {
   "cell_type": "code",
   "execution_count": 15,
   "id": "68542278",
   "metadata": {},
   "outputs": [
    {
     "data": {
      "text/plain": [
       "['Python',\n",
       " 3.14,\n",
       " 2022,\n",
       " [1, 2, 3, 4, 5, 6, 7, 8, 9],\n",
       " ('Python', 'Hello', 3.14, 2022)]"
      ]
     },
     "execution_count": 15,
     "metadata": {},
     "output_type": "execute_result"
    }
   ],
   "source": [
    "#take a list\n",
    "nlis5=['Python',3.14,2022,[1,2,3,4,5,6,7,8,9],('Python','Hello',3.14,2022)]\n",
    "nlis5"
   ]
  },
  {
   "cell_type": "code",
   "execution_count": 16,
   "id": "bb2d8151",
   "metadata": {},
   "outputs": [
    {
     "data": {
      "text/plain": [
       "['Python',\n",
       " 3.14,\n",
       " 2022,\n",
       " [1, 2, 3, 4, 5, 6, 7, 8, 9],\n",
       " ('Python', 'Hello', 3.14, 2022),\n",
       " 'Siddhant',\n",
       " 2.77]"
      ]
     },
     "execution_count": 16,
     "metadata": {},
     "output_type": "execute_result"
    }
   ],
   "source": [
    "nlis5.extend(['Siddhant',2.77])\n",
    "nlis5"
   ]
  },
  {
   "cell_type": "code",
   "execution_count": 17,
   "id": "37911398",
   "metadata": {},
   "outputs": [
    {
     "data": {
      "text/plain": [
       "['Python',\n",
       " 3.14,\n",
       " 2022,\n",
       " [1, 2, 3, 4, 5, 6, 7, 8, 9],\n",
       " ('Python', 'Hello', 3.14, 2022),\n",
       " 'Siddhant',\n",
       " 2.77,\n",
       " 'Vivek']"
      ]
     },
     "execution_count": 17,
     "metadata": {},
     "output_type": "execute_result"
    }
   ],
   "source": [
    "nlis5.extend(['Vivek'])\n",
    "nlis5"
   ]
  },
  {
   "cell_type": "markdown",
   "id": "85f67474",
   "metadata": {},
   "source": [
    "# append() method"
   ]
  },
  {
   "cell_type": "markdown",
   "id": "2356c0f1",
   "metadata": {},
   "source": [
    "* As a different from extend method, withe the append() method, we add only one elemnt to the list.\n",
    "* You can see difference by comparing to the above and below codes."
   ]
  },
  {
   "cell_type": "code",
   "execution_count": 18,
   "id": "d48c2b4b",
   "metadata": {},
   "outputs": [
    {
     "data": {
      "text/plain": [
       "['Hello World', 3.56, 2023, [45, 56, 55], ('Hi!, I am Alexa', 3.55, 2025)]"
      ]
     },
     "execution_count": 18,
     "metadata": {},
     "output_type": "execute_result"
    }
   ],
   "source": [
    "nlis6=['Hello World',3.56, 2023, [45,56,55],('Hi!, I am Alexa', 3.55, 2025)]\n",
    "nlis6"
   ]
  },
  {
   "cell_type": "code",
   "execution_count": 19,
   "id": "1ac32d3a",
   "metadata": {},
   "outputs": [
    {
     "data": {
      "text/plain": [
       "['Hello World',\n",
       " 3.56,\n",
       " 2023,\n",
       " [45, 56, 55],\n",
       " ('Hi!, I am Alexa', 3.55, 2025),\n",
       " ['Python']]"
      ]
     },
     "execution_count": 19,
     "metadata": {},
     "output_type": "execute_result"
    }
   ],
   "source": [
    "nlis6.append([\"Python\"])\n",
    "nlis6"
   ]
  },
  {
   "cell_type": "markdown",
   "id": "7fb5f7b0",
   "metadata": {},
   "source": [
    "# len(),append(), count(), index(), max(), min(), sum() functions"
   ]
  },
  {
   "cell_type": "code",
   "execution_count": 20,
   "id": "de94e224",
   "metadata": {},
   "outputs": [
    {
     "name": "stdout",
     "output_type": "stream",
     "text": [
      "6\n",
      "[1, 2, 3, 4, 5, 6, 4]\n",
      "2\n",
      "1\n",
      "[1, 2, 3, 4, 5, 6, 4, 9]\n"
     ]
    }
   ],
   "source": [
    "lis=[1,2,3,4,5,6]\n",
    "print(len(lis))\n",
    "lis.append(4)\n",
    "print(lis)\n",
    "print(lis.count(4)) # count number\n",
    "print(lis.index(2))\n",
    "lis.insert(8,9)\n",
    "print(lis)\n"
   ]
  },
  {
   "cell_type": "code",
   "execution_count": 21,
   "id": "ea06d614",
   "metadata": {},
   "outputs": [
    {
     "name": "stdout",
     "output_type": "stream",
     "text": [
      "[1, 2, 3, 4, 5, 6, 4, 9]\n"
     ]
    }
   ],
   "source": [
    "print(lis)"
   ]
  },
  {
   "cell_type": "code",
   "execution_count": 22,
   "id": "ca4d7e52",
   "metadata": {},
   "outputs": [],
   "source": [
    "lis.insert(12,13)"
   ]
  },
  {
   "cell_type": "code",
   "execution_count": 23,
   "id": "24ccd2a2",
   "metadata": {},
   "outputs": [
    {
     "name": "stdout",
     "output_type": "stream",
     "text": [
      "[1, 2, 3, 4, 5, 6, 4, 9, 13]\n"
     ]
    }
   ],
   "source": [
    "print(lis)"
   ]
  },
  {
   "cell_type": "code",
   "execution_count": 24,
   "id": "50a96641",
   "metadata": {},
   "outputs": [
    {
     "name": "stdout",
     "output_type": "stream",
     "text": [
      "13\n"
     ]
    }
   ],
   "source": [
    "print(max(lis))"
   ]
  },
  {
   "cell_type": "code",
   "execution_count": 25,
   "id": "e470628f",
   "metadata": {},
   "outputs": [
    {
     "name": "stdout",
     "output_type": "stream",
     "text": [
      "1\n"
     ]
    }
   ],
   "source": [
    "print(min(lis))"
   ]
  },
  {
   "cell_type": "code",
   "execution_count": 26,
   "id": "015aebe4",
   "metadata": {},
   "outputs": [
    {
     "name": "stdout",
     "output_type": "stream",
     "text": [
      "47\n"
     ]
    }
   ],
   "source": [
    "print(sum(lis))"
   ]
  },
  {
   "cell_type": "markdown",
   "id": "396e395f",
   "metadata": {},
   "source": [
    "# Changing the element of a list since it is mutable."
   ]
  },
  {
   "cell_type": "code",
   "execution_count": 27,
   "id": "7bcdb68b",
   "metadata": {},
   "outputs": [
    {
     "name": "stdout",
     "output_type": "stream",
     "text": [
      "Before Changing: ['Hello World', 3.14, 2022, (11, 12, 13, 14), ('hello World', 'Python')]\n",
      "After Changing: ['xyz', 3.14, 2022, (11, 12, 13, 14), ('hello World', 'Python')]\n",
      "After Changing ['xyz', 'Reshmi', 2022, (11, 12, 13, 14), ('hello World', 'Python')]\n"
     ]
    }
   ],
   "source": [
    "lis1=['Hello World',3.14,2022,(11,12,13,14),(\"hello World\", 'Python' )]\n",
    "print(\"Before Changing:\", lis1)\n",
    "lis1[0]=\"xyz\"\n",
    "print(\"After Changing:\",lis1)\n",
    "lis1[1]=\"Reshmi\"\n",
    "print(\"After Changing\",lis1)"
   ]
  },
  {
   "cell_type": "code",
   "execution_count": 28,
   "id": "b76395a3",
   "metadata": {},
   "outputs": [
    {
     "data": {
      "text/plain": [
       "'Python'"
      ]
     },
     "execution_count": 28,
     "metadata": {},
     "output_type": "execute_result"
    }
   ],
   "source": [
    "lis6=['Hello World',3.14,2022,(11,12,13,14),[\"hello World\", 'Python' ]]\n",
    "lis6[4][1]"
   ]
  },
  {
   "cell_type": "code",
   "execution_count": 29,
   "id": "670f1cc7",
   "metadata": {},
   "outputs": [
    {
     "data": {
      "text/plain": [
       "['Hello World', 3.14, 2022, (11, 12, 13, 14), ['hello World', 'Java']]"
      ]
     },
     "execution_count": 29,
     "metadata": {},
     "output_type": "execute_result"
    }
   ],
   "source": [
    "#Change python to Java \n",
    "lis6[4][1]='Java'\n",
    "lis6"
   ]
  },
  {
   "cell_type": "code",
   "execution_count": 30,
   "id": "d3e5125b",
   "metadata": {},
   "outputs": [
    {
     "data": {
      "text/plain": [
       "['Hello World',\n",
       " 3.14,\n",
       " 2022,\n",
       " (11, 12, 13, 14),\n",
       " ['hello World', 'Python'],\n",
       " ['Apple', 'Banana', 'Carrot']]"
      ]
     },
     "execution_count": 30,
     "metadata": {},
     "output_type": "execute_result"
    }
   ],
   "source": [
    "#Change the fruit Banana to 'Strawberry'\n",
    "lis7=['Hello World',3.14,2022,(11,12,13,14),[\"hello World\", 'Python' ],[\"Apple\",\"Banana\",\"Carrot\"]]\n",
    "lis7"
   ]
  },
  {
   "cell_type": "code",
   "execution_count": 31,
   "id": "d0c8b4e7",
   "metadata": {},
   "outputs": [
    {
     "data": {
      "text/plain": [
       "['Hello World',\n",
       " 3.14,\n",
       " 2022,\n",
       " (11, 12, 13, 14),\n",
       " ['Python'],\n",
       " ['Apple', 'Banana', 'Carrot']]"
      ]
     },
     "execution_count": 31,
     "metadata": {},
     "output_type": "execute_result"
    }
   ],
   "source": [
    "#delete the \"hello World\" from the lists\n",
    "del(lis7[4][0])\n",
    "lis7"
   ]
  },
  {
   "cell_type": "markdown",
   "id": "c355ec9c",
   "metadata": {},
   "source": [
    "# Conversion of a string into a list using split() function"
   ]
  },
  {
   "cell_type": "code",
   "execution_count": 32,
   "id": "d5758095",
   "metadata": {},
   "outputs": [
    {
     "data": {
      "text/plain": [
       "['Python', 'is', 'a', 'programming', 'language.']"
      ]
     },
     "execution_count": 32,
     "metadata": {},
     "output_type": "execute_result"
    }
   ],
   "source": [
    "message=\"Python is a programming language.\"\n",
    "message.split()\n"
   ]
  },
  {
   "cell_type": "markdown",
   "id": "3d872bc4",
   "metadata": {},
   "source": [
    "# Use of split() function with delimiter"
   ]
  },
  {
   "cell_type": "code",
   "execution_count": 33,
   "id": "d1285050",
   "metadata": {},
   "outputs": [
    {
     "data": {
      "text/plain": [
       "['P', 'y', 't', 'h', 'o', 'n']"
      ]
     },
     "execution_count": 33,
     "metadata": {},
     "output_type": "execute_result"
    }
   ],
   "source": [
    "text=\"P,y,t,h,o,n\"\n",
    "text.split(\",\")"
   ]
  },
  {
   "cell_type": "markdown",
   "id": "3bc24510",
   "metadata": {},
   "source": [
    "# Basic Operations"
   ]
  },
  {
   "cell_type": "code",
   "execution_count": 34,
   "id": "aa143001",
   "metadata": {},
   "outputs": [
    {
     "name": "stdout",
     "output_type": "stream",
     "text": [
      "['a', 'b', 'Hello', 'Python']\n",
      "[1, 2, 3, 4, 5, 6, 7]\n",
      "['a', 'b', 'Hello', 'Python', 1, 2, 3, 4, 5, 6, 7]\n",
      "['a', 'b', 'Hello', 'Python', 1, 2, 3, 4, 5, 6, 7, 'a', 'b', 'Hello', 'Python', 1, 2, 3, 4, 5, 6, 7, 'a', 'b', 'Hello', 'Python', 1, 2, 3, 4, 5, 6, 7]\n",
      "1\n",
      "2\n",
      "3\n",
      "4\n",
      "5\n",
      "6\n",
      "7\n",
      "a\n",
      "b\n",
      "Hello\n",
      "Python\n"
     ]
    }
   ],
   "source": [
    "nlis_1=['a','b','Hello','Python']\n",
    "nlis_2=[1,2,3,4,5,6,7]\n",
    "print(nlis_1)\n",
    "print(nlis_2)\n",
    "print(nlis_1+nlis_2)\n",
    "print((nlis_1+nlis_2)*3)\n",
    "for t in nlis_2:\n",
    "    print(t)\n",
    "for i in nlis_1:\n",
    "    print(i)\n",
    "\n"
   ]
  },
  {
   "cell_type": "markdown",
   "id": "dad6bcd4",
   "metadata": {},
   "source": [
    "# Copy the list"
   ]
  },
  {
   "cell_type": "code",
   "execution_count": 35,
   "id": "ee558fe1",
   "metadata": {},
   "outputs": [
    {
     "name": "stdout",
     "output_type": "stream",
     "text": [
      "nlis_3: ['Hello World', 3.14, 2022, (11, 12, 13, 14), ['hello World', 'Python']]\n",
      "copy_list: ['Hello World', 3.14, 2022, (11, 12, 13, 14), ['hello World', 'Python']]\n",
      "x: ['Hello World', 3.14, 2022, (11, 12, 13, 14), ['hello World', 'Python']]\n"
     ]
    }
   ],
   "source": [
    "nlis_3=['Hello World',3.14,2022,(11,12,13,14),[\"hello World\", 'Python' ]]\n",
    "copy_list=nlis_3\n",
    "x=copy_list\n",
    "print('nlis_3:',nlis_3)\n",
    "print('copy_list:',copy_list)\n",
    "print(\"x:\",x)"
   ]
  },
  {
   "cell_type": "code",
   "execution_count": 36,
   "id": "b6ee366a",
   "metadata": {},
   "outputs": [],
   "source": [
    "# Concatenate the list\n",
    "a_list=['a','b','c','Apple','Date']\n",
    "b_list=[1,2,3,4,5,6,7,8,11,100,200]"
   ]
  },
  {
   "cell_type": "markdown",
   "id": "090db9ab",
   "metadata": {},
   "source": [
    "# input function()"
   ]
  },
  {
   "cell_type": "markdown",
   "id": "38f1abeb",
   "metadata": {},
   "source": [
    "* input() function in python provide a user of a program supply input to the program at a run time.\n"
   ]
  },
  {
   "cell_type": "code",
   "execution_count": null,
   "id": "dafb3496",
   "metadata": {},
   "outputs": [],
   "source": [
    "text=input(\"Enter your name\\n\")\n",
    "print(\"Your Enter Name:\",text)\n",
    "print(type(text))"
   ]
  },
  {
   "cell_type": "code",
   "execution_count": null,
   "id": "6929b87d",
   "metadata": {},
   "outputs": [],
   "source": [
    "number=int(input(\"Enter your number\\n\"))\n",
    "print(\"your number is:\",number)\n",
    "print(type(number))"
   ]
  },
  {
   "cell_type": "markdown",
   "id": "5172ba54",
   "metadata": {},
   "source": [
    "# eval() function"
   ]
  },
  {
   "cell_type": "markdown",
   "id": "5c80a6e2",
   "metadata": {},
   "source": [
    "* This function serves the aim of converting a string to an integer or a float."
   ]
  },
  {
   "cell_type": "code",
   "execution_count": null,
   "id": "24623580",
   "metadata": {},
   "outputs": [],
   "source": [
    "expression='8+7'\n",
    "total=eval(expression)\n",
    "print(\"The sum of expression is:\",total)\n",
    "print(type(expression))\n",
    "print(type(total))"
   ]
  },
  {
   "cell_type": "markdown",
   "id": "97a720d0",
   "metadata": {},
   "source": [
    "# formate() function"
   ]
  },
  {
   "cell_type": "markdown",
   "id": "db8de2c4",
   "metadata": {},
   "source": [
    "* This function helps to formate the output printed on the screen with good look and attractive."
   ]
  },
  {
   "cell_type": "code",
   "execution_count": null,
   "id": "efbcb2a4",
   "metadata": {},
   "outputs": [],
   "source": [
    "a= float(input(\"Enter the pi number\\n\"))\n",
    "b=float(input(\"Enter the golden ratio\"))\n",
    "total=a+b\n",
    "print(\"Sum of {} and {}.\".formate(a,b,total))"
   ]
  },
  {
   "cell_type": "code",
   "execution_count": null,
   "id": "7f2fcfda",
   "metadata": {},
   "outputs": [],
   "source": []
  }
 ],
 "metadata": {
  "kernelspec": {
   "display_name": "Python 3 (ipykernel)",
   "language": "python",
   "name": "python3"
  },
  "language_info": {
   "codemirror_mode": {
    "name": "ipython",
    "version": 3
   },
   "file_extension": ".py",
   "mimetype": "text/x-python",
   "name": "python",
   "nbconvert_exporter": "python",
   "pygments_lexer": "ipython3",
   "version": "3.9.7"
  }
 },
 "nbformat": 4,
 "nbformat_minor": 5
}
