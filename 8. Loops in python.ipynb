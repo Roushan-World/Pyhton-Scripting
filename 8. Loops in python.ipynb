{
 "cells": [
  {
   "cell_type": "markdown",
   "id": "d4c64001",
   "metadata": {},
   "source": [
    "# Loops in Python\n"
   ]
  },
  {
   "cell_type": "markdown",
   "id": "bbb72761",
   "metadata": {},
   "source": [
    "* A for loop is used for iterating over a sequence (that is either a list,\n",
    "* a tuple, a dictionary, a set, or a string)\n",
    "* The for loop does not require an existing an indexing variable to set beforehead\n",
    "* With the for loop we can execute a set of statements, once for each item in a list, tuples, set etc.\n",
    "* With the while loop we can execute a set of statements as long as a condition is true\n",
    "* Note: remember to increment i, or else the loop will continue forever.\n",
    "* The while loop requires relevant variables to be ready, in this example we need to define indexing variable, i, which we set to 1."
   ]
  },
  {
   "cell_type": "code",
   "execution_count": 14,
   "id": "00f6bde4",
   "metadata": {},
   "outputs": [
    {
     "name": "stdout",
     "output_type": "stream",
     "text": [
      "range(0, 5)\n",
      "range(0, 10)\n",
      "range(0, 1000)\n"
     ]
    }
   ],
   "source": [
    "# Take a range() function\n",
    "\n",
    "print(range(5))\n",
    "\n",
    "print(range(10))\n",
    "\n",
    "print(range(1000))\n"
   ]
  },
  {
   "cell_type": "code",
   "execution_count": 15,
   "id": "9c39c900",
   "metadata": {},
   "outputs": [
    {
     "name": "stdout",
     "output_type": "stream",
     "text": [
      "2005\n",
      "2006\n",
      "2008\n",
      "2009\n",
      "2007\n",
      "2010\n"
     ]
    }
   ],
   "source": [
    "# As a example\n",
    "years=[2005,2006,2008,2009,2007,2010]\n",
    "\n",
    "for i in years:\n",
    "    print(i)\n"
   ]
  },
  {
   "cell_type": "code",
   "execution_count": 16,
   "id": "379dacb9",
   "metadata": {},
   "outputs": [
    {
     "name": "stdout",
     "output_type": "stream",
     "text": [
      "2\n",
      "3\n",
      "4\n",
      "5\n",
      "6\n",
      "7\n",
      "8\n",
      "9\n"
     ]
    }
   ],
   "source": [
    "for i in range(2,10):\n",
    "    print(i)"
   ]
  },
  {
   "cell_type": "code",
   "execution_count": 17,
   "id": "dde52c3f",
   "metadata": {},
   "outputs": [
    {
     "name": "stdout",
     "output_type": "stream",
     "text": [
      "2\n",
      "5\n",
      "8\n",
      "11\n"
     ]
    }
   ],
   "source": [
    "# Step value in loops\n",
    "for i in range(2,12,3):\n",
    "    print(i)"
   ]
  },
  {
   "cell_type": "code",
   "execution_count": 18,
   "id": "03efcab4",
   "metadata": {},
   "outputs": [
    {
     "name": "stdout",
     "output_type": "stream",
     "text": [
      "Before language 0 is jave\n",
      "After language 0 is flutter\n",
      "Before language 1 is python\n",
      "After language 1 is flutter\n",
      "Before language 2 is Java Script\n",
      "After language 2 is flutter\n",
      "Before language 3 is C\n",
      "After language 3 is flutter\n",
      "Before language 4 is C++\n",
      "After language 4 is flutter\n",
      "Before language 5 is PHP\n",
      "After language 5 is flutter\n",
      "Before language 6 is Ruby on rails\n",
      "After language 6 is flutter\n"
     ]
    }
   ],
   "source": [
    "language=[\"jave\",\"python\",\"Java Script\",\"C\",\"C++\",\"PHP\",\"Ruby on rails\"]\n",
    "\n",
    "for i in range(len(language)):\n",
    "    print(\"Before language\",i,\"is\", language[i])\n",
    "    language[i]=\"flutter\"\n",
    "    print(\"After language\",i,\"is\", language[i])"
   ]
  },
  {
   "cell_type": "code",
   "execution_count": 19,
   "id": "6ea83846",
   "metadata": {},
   "outputs": [
    {
     "name": "stdout",
     "output_type": "stream",
     "text": [
      "-3\n",
      "-2\n",
      "-1\n",
      "0\n",
      "1\n",
      "2\n",
      "3\n",
      "4\n",
      "5\n",
      "6\n"
     ]
    }
   ],
   "source": [
    "# Take the number between -3 and 6 using loops\n",
    "# use range() function\n",
    "for i in range(-3,7):\n",
    "    print(i)"
   ]
  },
  {
   "cell_type": "code",
   "execution_count": 20,
   "id": "79af37b2",
   "metadata": {},
   "outputs": [
    {
     "name": "stdout",
     "output_type": "stream",
     "text": [
      "3\n",
      "6\n",
      "9\n",
      "12\n",
      "15\n",
      "18\n",
      "21\n",
      "24\n",
      "27\n",
      "30\n"
     ]
    }
   ],
   "source": [
    "# write a table of 3 using for loops\n",
    "# Step value in loops\n",
    "for i in range(3,33,3):\n",
    "    print(i)\n"
   ]
  },
  {
   "cell_type": "code",
   "execution_count": 22,
   "id": "85d4d425",
   "metadata": {},
   "outputs": [
    {
     "name": "stdout",
     "output_type": "stream",
     "text": [
      "Enter a number25\n",
      "The entered number is 25\n",
      "25 x 1 = 25\n",
      "25 x 2 = 50\n",
      "25 x 3 = 75\n",
      "25 x 4 = 100\n",
      "25 x 5 = 125\n",
      "25 x 6 = 150\n",
      "25 x 7 = 175\n",
      "25 x 8 = 200\n",
      "25 x 9 = 225\n",
      "25 x 10 = 250\n"
     ]
    }
   ],
   "source": [
    "number1=int(input(\"Enter a number\"))\n",
    "print(\"The entered number is\", number1)\n",
    "for i in range(1,11):\n",
    "    print(\"%d x %d = %d\" %(number1,i,number1*i))"
   ]
  },
  {
   "cell_type": "code",
   "execution_count": 23,
   "id": "aae0aed7",
   "metadata": {},
   "outputs": [
    {
     "name": "stdout",
     "output_type": "stream",
     "text": [
      "Enter the value of A: 20\n",
      "20\n",
      "40\n",
      "60\n",
      "80\n",
      "100\n",
      "120\n",
      "140\n",
      "160\n",
      "180\n",
      "200\n"
     ]
    }
   ],
   "source": [
    "x=int(input(\"Enter the value of A: \"))\n",
    "\n",
    "for i in range(x, x*11,x):\n",
    "    print(i)"
   ]
  },
  {
   "cell_type": "markdown",
   "id": "b9ea8a91",
   "metadata": {},
   "source": [
    "# Addition and average calculations in for loops"
   ]
  },
  {
   "cell_type": "code",
   "execution_count": 24,
   "id": "363fa97f",
   "metadata": {},
   "outputs": [
    {
     "name": "stdout",
     "output_type": "stream",
     "text": [
      "The total number of in the nlis is  1778.442\n"
     ]
    }
   ],
   "source": [
    "nlis=[0.577,2.718,3.147,1729,6,37]\n",
    "\n",
    "# write a for loop for addition\n",
    "count=0\n",
    "for i in nlis:\n",
    "    count+=i\n",
    "print(\"The total number of in the nlis is \",count)"
   ]
  },
  {
   "cell_type": "code",
   "execution_count": 25,
   "id": "8fa19da0",
   "metadata": {},
   "outputs": [
    {
     "name": "stdout",
     "output_type": "stream",
     "text": [
      "The total no in list is 1861.442\n"
     ]
    }
   ],
   "source": [
    "lis=[0.577,2.718,3.147,1729,6,45,25,50]\n",
    "c=0\n",
    "for i in lis:\n",
    "    c+=i\n",
    "print (\"The total no in list is\",c)"
   ]
  },
  {
   "cell_type": "code",
   "execution_count": null,
   "id": "0969c21d",
   "metadata": {},
   "outputs": [],
   "source": [
    "nlis1=[125, 45, 65, 78, 12.0, 58, -45, 1000.0 , -45, 89]"
   ]
  },
  {
   "cell_type": "code",
   "execution_count": 26,
   "id": "c9ed2173",
   "metadata": {},
   "outputs": [
    {
     "name": "stdout",
     "output_type": "stream",
     "text": [
      "total 1382.0\n",
      "average 138.2\n"
     ]
    }
   ],
   "source": [
    "lis=[125,45,65,78,12.0,58,-45,1000.0,-45,89]\n",
    "count1=0\n",
    "for i in lis:\n",
    "    count1+=i\n",
    "print(\"total\",count1)\n",
    "print(\"average\",count1/len(lis))"
   ]
  },
  {
   "cell_type": "code",
   "execution_count": 27,
   "id": "4f9e034d",
   "metadata": {},
   "outputs": [
    {
     "name": "stdout",
     "output_type": "stream",
     "text": [
      "the total sum is : 2805.148\n",
      "the total avg is : 311.68311111111115\n"
     ]
    }
   ],
   "source": [
    "lis2=[0.577,2.718,-3.147,1729,6,45,-25,50,1000]\n",
    "c2=0\n",
    "for i in lis2:\n",
    "    c2+=i\n",
    "print(\"the total sum is :\",c2)\n",
    "print(\"the total avg is :\",c2/len(lis2))"
   ]
  },
  {
   "cell_type": "code",
   "execution_count": 28,
   "id": "07f057cb",
   "metadata": {},
   "outputs": [
    {
     "name": "stdout",
     "output_type": "stream",
     "text": [
      "The total number of in the ab is :  1324.58\n",
      "The average of total number is :  132.458\n"
     ]
    }
   ],
   "source": [
    "ab=[125, 45, 65, 78, 12, 0.58, -45, 1000.0, -45, 89]\n",
    "\n",
    "# write a for loop for addition\n",
    "count=0\n",
    "for i in ab:\n",
    "    count+=i\n",
    "print(\"The total number of in the ab is : \", count)\n",
    "print(\"The average of total number is : \", count/len(ab))"
   ]
  },
  {
   "cell_type": "code",
   "execution_count": 29,
   "id": "d9538ced",
   "metadata": {},
   "outputs": [
    {
     "name": "stdout",
     "output_type": "stream",
     "text": [
      "total 1382.0\n",
      "average 14.882921348314605\n"
     ]
    }
   ],
   "source": [
    "lis=[125,45,65,78,12.0,58,-45,1000.0,-45,89]\n",
    "count1=0\n",
    "for i in lis:\n",
    "    count1+=i\n",
    "print(\"total\",count1)\n",
    "print(\"average\",count/i)"
   ]
  },
  {
   "cell_type": "code",
   "execution_count": 30,
   "id": "37418499",
   "metadata": {},
   "outputs": [
    {
     "name": "stdout",
     "output_type": "stream",
     "text": [
      "The total number of w is  1314.0\n",
      "The total number of w is  131.4\n"
     ]
    }
   ],
   "source": [
    "w=[125,45,65,12.0,58,-45,1000.0,-45,89,10]\n",
    "count=0\n",
    "for i in w:\n",
    "    count+=i\n",
    "print(\"The total number of w is \" , count)\n",
    "print(\"The total number of w is \" , count/len(w))"
   ]
  },
  {
   "cell_type": "markdown",
   "id": "a968feb8",
   "metadata": {},
   "source": [
    "# Nested Loops"
   ]
  },
  {
   "cell_type": "code",
   "execution_count": 31,
   "id": "eaa6b4ff",
   "metadata": {},
   "outputs": [
    {
     "name": "stdout",
     "output_type": "stream",
     "text": [
      "Enter a number20\n",
      "The enterd number is 20.\n",
      "\n",
      "*\n",
      "**\n",
      "***\n",
      "****\n",
      "*****\n",
      "******\n",
      "*******\n",
      "********\n",
      "*********\n",
      "**********\n",
      "***********\n",
      "************\n",
      "*************\n",
      "**************\n",
      "***************\n",
      "****************\n",
      "*****************\n",
      "******************\n",
      "*******************\n",
      "********************"
     ]
    }
   ],
   "source": [
    "num=int(input(\"Enter a number\"))\n",
    "print(f'The enterd number is {num}.')\n",
    "\n",
    "i,j=0,0\n",
    "for i in range(0,num):\n",
    "    print()\n",
    "    for j in range(0,i+1):\n",
    "        print('*',end=\"\")\n"
   ]
  },
  {
   "cell_type": "code",
   "execution_count": 32,
   "id": "8a84652e",
   "metadata": {},
   "outputs": [
    {
     "name": "stdout",
     "output_type": "stream",
     "text": [
      "Enter your name13\n",
      "1\n",
      "1\n",
      "2\n",
      "3\n",
      "3\n",
      "1\n",
      "2\n",
      "3\n"
     ]
    }
   ],
   "source": [
    "# Write a program to  Your name and prints 3 letter for each times using nested loops\n",
    "name=input(\"Enter your name\")\n",
    "number=['1', '2', '3']\n",
    "i,j=0,0\n",
    "for i in name:\n",
    "    print(i)\n",
    "    for j in number:\n",
    "        print(j)\n"
   ]
  },
  {
   "cell_type": "code",
   "execution_count": 33,
   "id": "d9eb7305",
   "metadata": {},
   "outputs": [
    {
     "name": "stdout",
     "output_type": "stream",
     "text": [
      "Enter the name: \n",
      "vivek\n",
      "The entered no is vivek\n",
      "v\n",
      "H\n",
      "e\n",
      "l\n",
      "l\n",
      "o\n",
      " \n",
      "W\n",
      "o\n",
      "r\n",
      "l\n",
      "d\n",
      "i\n",
      "H\n",
      "e\n",
      "l\n",
      "l\n",
      "o\n",
      " \n",
      "W\n",
      "o\n",
      "r\n",
      "l\n",
      "d\n",
      "v\n",
      "H\n",
      "e\n",
      "l\n",
      "l\n",
      "o\n",
      " \n",
      "W\n",
      "o\n",
      "r\n",
      "l\n",
      "d\n",
      "e\n",
      "H\n",
      "e\n",
      "l\n",
      "l\n",
      "o\n",
      " \n",
      "W\n",
      "o\n",
      "r\n",
      "l\n",
      "d\n",
      "k\n",
      "H\n",
      "e\n",
      "l\n",
      "l\n",
      "o\n",
      " \n",
      "W\n",
      "o\n",
      "r\n",
      "l\n",
      "d\n"
     ]
    }
   ],
   "source": [
    "v=str(input(\"Enter the name: \\n\"))\n",
    "print (\"The entered no is {}\".format(v))\n",
    "v2=\"Hello World\"\n",
    "i,j=0,0\n",
    "for i in v:\n",
    "    print (i)\n",
    "    for j in v2:\n",
    "        print(j)"
   ]
  },
  {
   "cell_type": "code",
   "execution_count": 34,
   "id": "8663054f",
   "metadata": {},
   "outputs": [
    {
     "name": "stdout",
     "output_type": "stream",
     "text": [
      "1\n",
      "2\n",
      "4\n",
      "5\n",
      "6\n",
      "7\n",
      "8\n",
      "9\n"
     ]
    }
   ],
   "source": [
    "# Take a list #break\n",
    "nlis=[1,2,4,5,6,7,8,9,10,11,12,13,14]\n",
    "\n",
    "for i in nlis:\n",
    "    if i==10:\n",
    "        break\n",
    "    print(i)"
   ]
  },
  {
   "cell_type": "code",
   "execution_count": 35,
   "id": "f2d0fdf9",
   "metadata": {},
   "outputs": [
    {
     "name": "stdout",
     "output_type": "stream",
     "text": [
      "1\n",
      "2\n",
      "4\n",
      "6\n",
      "7\n",
      "8\n",
      "9\n",
      "10\n",
      "11\n",
      "12\n",
      "13\n",
      "14\n"
     ]
    }
   ],
   "source": [
    "# continue\n",
    "nlis=[1,2,4,5,6,7,8,9,10,11,12,13,14]\n",
    "\n",
    "for i in nlis:\n",
    "    if i==5:\n",
    "        continue\n",
    "    print(i)"
   ]
  },
  {
   "cell_type": "code",
   "execution_count": 36,
   "id": "a0c95733",
   "metadata": {},
   "outputs": [
    {
     "name": "stdout",
     "output_type": "stream",
     "text": [
      "Enter the no: \n",
      "20\n",
      "The entered no is 20\n",
      "The no is even 20.\n"
     ]
    }
   ],
   "source": [
    "# Nidhi\n",
    "n3=int(input(\"Enter the no: \\n\"))\n",
    "print (\"The entered no is {}\".format(n3))\n",
    "if n3%2==0:\n",
    "    print (\"The no is even {}.\".format(n3))\n",
    "else:\n",
    "    print (\"The no is odd.\")"
   ]
  },
  {
   "cell_type": "code",
   "execution_count": 37,
   "id": "afb55117",
   "metadata": {},
   "outputs": [
    {
     "name": "stdout",
     "output_type": "stream",
     "text": [
      "Enter Number:13\n",
      "Number is Odd\n"
     ]
    }
   ],
   "source": [
    "# siddhant\n",
    "A=int(input(\"Enter Number:\"))\n",
    "if A%2==0:\n",
    "    print(\"Number is Even\")\n",
    "else:\n",
    "    print(\"Number is Odd\")"
   ]
  },
  {
   "cell_type": "code",
   "execution_count": 38,
   "id": "449e334a",
   "metadata": {},
   "outputs": [
    {
     "ename": "SyntaxError",
     "evalue": "invalid syntax (Temp/ipykernel_3348/896484366.py, line 8)",
     "output_type": "error",
     "traceback": [
      "\u001b[1;36m  File \u001b[1;32m\"C:\\Users\\ROUSHA~1\\AppData\\Local\\Temp/ipykernel_3348/896484366.py\"\u001b[1;36m, line \u001b[1;32m8\u001b[0m\n\u001b[1;33m    elif k==1:\u001b[0m\n\u001b[1;37m    ^\u001b[0m\n\u001b[1;31mSyntaxError\u001b[0m\u001b[1;31m:\u001b[0m invalid syntax\n"
     ]
    }
   ],
   "source": [
    "# write a program to check whether a number is prime or not.\n",
    "k=0\n",
    "num1=int(input(\"Enter any number\"))\n",
    "k=1\n",
    "for i in range(2,num1):\n",
    "    if num1%i==0:\n",
    "        k=1\n",
    "elif k==1:\n",
    "    print(\"This number is not prime\")\n",
    "else:\n",
    "    print(\"Number is prime\")"
   ]
  },
  {
   "cell_type": "code",
   "execution_count": null,
   "id": "8812befe",
   "metadata": {},
   "outputs": [],
   "source": [
    "# write a program to check whether a number is divisible by 2 and 3 both."
   ]
  },
  {
   "cell_type": "code",
   "execution_count": 39,
   "id": "c1cf1825",
   "metadata": {},
   "outputs": [
    {
     "name": "stdout",
     "output_type": "stream",
     "text": [
      "Enter the no: \n",
      "15\n",
      "The entered no is 15\n",
      "3 times 5 is 15\n",
      "It is not a prime no. 15\n",
      "5 times 3 is 15\n",
      "It is not a prime no. 15\n"
     ]
    }
   ],
   "source": [
    "n3=int(input(\"Enter the no: \\n\"))\n",
    "print (\"The entered no is {}\".format(n3))\n",
    "if n3>1:\n",
    "    for i in range (2,n3):\n",
    "        if n3%i==0:\n",
    "            \n",
    "            print (i,\"times\",n3//i, \"is\", n3)\n",
    "            print (\"It is not a prime no.\",n3)\n",
    "else:\n",
    "    \"Print prime number\""
   ]
  },
  {
   "cell_type": "code",
   "execution_count": 40,
   "id": "41ec42c9",
   "metadata": {},
   "outputs": [
    {
     "name": "stdout",
     "output_type": "stream",
     "text": [
      "enter number20\n",
      "divisible by 2\n"
     ]
    }
   ],
   "source": [
    "var=int(input(\"enter number\"))\n",
    "\n",
    "if var%2==0:\n",
    "    print(\"divisible by 2\")\n",
    "elif var%3==0:\n",
    "    print(\"divisible by 3\")\n",
    "else:\n",
    "    print(\"wrong number\")"
   ]
  },
  {
   "cell_type": "code",
   "execution_count": 42,
   "id": "cb31c49b",
   "metadata": {},
   "outputs": [
    {
     "name": "stdout",
     "output_type": "stream",
     "text": [
      "Enter Number : 23\n",
      "The number is not divisible\n"
     ]
    }
   ],
   "source": [
    "z=int(input(\"Enter Number : \"))\n",
    "if z%2==0 and z%3==0:\n",
    "    print(\"The number is divisible by 2 and 3.\")\n",
    "else:\n",
    "    print(\"The number is not divisible\")"
   ]
  },
  {
   "cell_type": "code",
   "execution_count": 43,
   "id": "be5fdba7",
   "metadata": {},
   "outputs": [
    {
     "name": "stdout",
     "output_type": "stream",
     "text": [
      "Please, Enter the Lowest Range Value: 33\n",
      "Please, Enter the Upper Range Value: 16\n",
      "The Prime Numbers in the range are: \n"
     ]
    }
   ],
   "source": [
    "lower_value = int(input (\"Please, Enter the Lowest Range Value: \"))  \n",
    "upper_value = int(input (\"Please, Enter the Upper Range Value: \"))  \n",
    "  \n",
    "print (\"The Prime Numbers in the range are: \")  \n",
    "for number in range (lower_value, upper_value + 1):  \n",
    "    if number > 1:  \n",
    "        for i in range (2, number):  \n",
    "            if (number % i) == 0:  \n",
    "                break  \n",
    "        else:  \n",
    "            print (number)"
   ]
  },
  {
   "cell_type": "code",
   "execution_count": null,
   "id": "2d23177b",
   "metadata": {},
   "outputs": [],
   "source": [
    "# write a program to accept percentage and display the category \n",
    "# according to the followint criteria:\n",
    "\n",
    "# percentage------------------------->Category\n",
    "# <40 -------------------------------> \"failed\"\n",
    "# >=40 and <55-----------------------> \"fair\"\n",
    "# >=55 and <65----------------------->\"Good\"\n",
    "# >=65------------------------------->\"Excellent\""
   ]
  },
  {
   "cell_type": "code",
   "execution_count": 44,
   "id": "734d1898",
   "metadata": {},
   "outputs": [
    {
     "name": "stdout",
     "output_type": "stream",
     "text": [
      "Enter the first number45\n",
      "Fair : 45\n"
     ]
    }
   ],
   "source": [
    "# Siddhant\n",
    "# write a program to accept percentage and display the category \n",
    "# according to the followint criteria:\n",
    "\n",
    "# percentage------------------------->Category\n",
    "# <40 -------------------------------> \"failed\"\n",
    "# >=40 and <55-----------------------> \"fair\"\n",
    "# >=55 and <65----------------------->\"Good\"\n",
    "# >=65------------------------------->\"Excellent\"\n",
    "\n",
    "A=int(input(\"Enter the first number\"))\n",
    "\n",
    "if A<40:\n",
    "    \n",
    "    print(\"You Are Failed :\",A)\n",
    "    \n",
    "elif A>=40 and A<=55:\n",
    "    print(\"Fair :\",A)\n",
    "\n",
    "elif A>=55 and A<=65:\n",
    "    print(\"Good :\",A)\n",
    "    \n",
    "elif A>=65:\n",
    "    print(\"Excellent :\",A)"
   ]
  },
  {
   "cell_type": "code",
   "execution_count": 45,
   "id": "2aacb9a0",
   "metadata": {},
   "outputs": [
    {
     "name": "stdout",
     "output_type": "stream",
     "text": [
      "Enter the no: \n",
      "48\n",
      "The entered no is 48\n",
      "Your result is Fair.\n"
     ]
    }
   ],
   "source": [
    "# Nidhi\n",
    "n2=int(input(\"Enter the no: \\n\"))\n",
    "print (\"The entered no is {}\".format(n2))\n",
    "if n2<40:\n",
    "    print (\"You have Failed the exam.\")\n",
    "elif n2>=40 and n2<55:\n",
    "    print(\"Your result is Fair.\")\n",
    "elif n2>=55 and n2<65:\n",
    "    print(\"Your result is Good.\")\n",
    "elif n2>=65:\n",
    "    print(\"Your result is Excellent.\")"
   ]
  },
  {
   "cell_type": "code",
   "execution_count": 46,
   "id": "656898a6",
   "metadata": {},
   "outputs": [
    {
     "name": "stdout",
     "output_type": "stream",
     "text": [
      "Enter the Percentage :56\n",
      "The Percentage is : Good\n"
     ]
    }
   ],
   "source": [
    "#Vivek\n",
    "# Write a program to accept percentage and display the category according to the following criteria:\n",
    " \n",
    "# Percentage-----------------------------> Category\n",
    "# <40 -----------------------------------> \"failed\"\n",
    "# >=40 and <55 --------------------------> \"fair\"\n",
    "# >=55 and <65 --------------------------> \"Good\"\n",
    "# >=65 ----------------------------------> \"Excellent\"\n",
    "\n",
    "A=int(input(\"Enter the Percentage :\" ))\n",
    "if A<40: \n",
    "    print(\"The Percentage is : Failed\")\n",
    "\n",
    "elif A>=40 and A<55:\n",
    "    print(\"The Percentage is : Fair\")\n",
    "    \n",
    "elif A>=55 and A<65:\n",
    "    print(\"The Percentage is : Good\")\n",
    "    \n",
    "elif A>=65:\n",
    "    print(\"The Percentage is : Excelllent\")"
   ]
  },
  {
   "cell_type": "code",
   "execution_count": 47,
   "id": "7d597a9e",
   "metadata": {},
   "outputs": [
    {
     "name": "stdout",
     "output_type": "stream",
     "text": [
      "enter no:45\n",
      "fair\n"
     ]
    }
   ],
   "source": [
    "# Rishi\n",
    "\n",
    "x=int(input(\"enter no:\"))\n",
    "if x<40:\n",
    "    print(\"faild\")\n",
    "elif x>=40 and x<55:\n",
    "    print(\"fair\")\n",
    "elif x>=55 and x<65:\n",
    "    print(\"good\")\n",
    "elif x>=65:\n",
    "    print(\"excellent\")"
   ]
  },
  {
   "cell_type": "markdown",
   "id": "d5de09cf",
   "metadata": {},
   "source": [
    "# While Loop"
   ]
  },
  {
   "cell_type": "markdown",
   "id": "6ae4a502",
   "metadata": {},
   "source": [
    "* The while loop exists as a tool for repeated execution based on a condition.\n",
    "* The code will keep being executed until the given condition returns a False boolean value."
   ]
  },
  {
   "cell_type": "code",
   "execution_count": 48,
   "id": "3a94c64b",
   "metadata": {},
   "outputs": [
    {
     "name": "stdout",
     "output_type": "stream",
     "text": [
      "22\n",
      "23\n",
      "24\n",
      "25\n",
      "26\n"
     ]
    }
   ],
   "source": [
    "# Take an example:\n",
    "i=22\n",
    "while i<27:\n",
    "    print(i)\n",
    "    i+=1"
   ]
  },
  {
   "cell_type": "code",
   "execution_count": 49,
   "id": "2271ef9c",
   "metadata": {},
   "outputs": [
    {
     "name": "stdout",
     "output_type": "stream",
     "text": [
      "1\n",
      "2\n",
      "3\n",
      "4\n",
      "5\n",
      "6\n",
      "7\n",
      "8\n",
      "9\n",
      "10\n",
      "11\n",
      "12\n",
      "13\n",
      "14\n",
      "15\n",
      "16\n",
      "17\n",
      "18\n",
      "19\n",
      "20\n",
      "21\n",
      "22\n",
      "23\n",
      "24\n",
      "25\n",
      "26\n",
      "27\n",
      "28\n",
      "29\n",
      "30\n",
      "31\n",
      "32\n",
      "33\n",
      "34\n",
      "35\n",
      "36\n",
      "37\n",
      "38\n",
      "39\n",
      "40\n",
      "41\n",
      "42\n",
      "43\n",
      "44\n",
      "45\n",
      "46\n",
      "47\n",
      "48\n",
      "49\n",
      "50\n"
     ]
    }
   ],
   "source": [
    "i=1\n",
    "while i<51:\n",
    "    print(i)\n",
    "    i+=1"
   ]
  },
  {
   "cell_type": "code",
   "execution_count": 50,
   "id": "54341985",
   "metadata": {},
   "outputs": [
    {
     "name": "stdout",
     "output_type": "stream",
     "text": [
      "2005\n",
      "2006\n",
      "2007\n",
      "2008\n",
      "2009\n",
      "2010\n",
      "It gives us only 6 repetitions to get out of loop\n"
     ]
    }
   ],
   "source": [
    "# Take an example\n",
    "years=[2005,2006,2007,2008,2009,2010,2011]\n",
    "\n",
    "index=0\n",
    "year=years[0]\n",
    "\n",
    "while year !=2011:\n",
    "    print(year)\n",
    "    index+=1\n",
    "    year=years[index]\n",
    "    \n",
    "print('It gives us only',index,'repetitions to get out of loop')"
   ]
  },
  {
   "cell_type": "code",
   "execution_count": 51,
   "id": "695dc87f",
   "metadata": {},
   "outputs": [
    {
     "name": "stdout",
     "output_type": "stream",
     "text": [
      "8.0\n",
      "7.5\n",
      "5.4\n",
      "9.1\n",
      "6.6\n",
      "6.5\n",
      "6\n"
     ]
    }
   ],
   "source": [
    "# Print the movie rating greater than 5.\n",
    "movie_rating=[8.0,7.5,5.4,9.1,6.6,6.5,2.1,4.8,3.3]\n",
    "index=0\n",
    "rating=movie_rating[0]\n",
    "\n",
    "while rating>=5.0:\n",
    "    print(rating)\n",
    "    index+=1\n",
    "    rating=movie_rating[index]\n",
    "print(index)"
   ]
  },
  {
   "cell_type": "code",
   "execution_count": 52,
   "id": "f966bd0a",
   "metadata": {},
   "outputs": [
    {
     "name": "stdout",
     "output_type": "stream",
     "text": [
      "8.0\n",
      "7.5\n",
      "5.4\n",
      "9.1\n",
      "6.3\n",
      "6.5\n",
      "6\n"
     ]
    }
   ],
   "source": [
    "# Nidhi\n",
    "mv=[8.0,7.5,5.4,9.1,6.3,6.5,2.1,4.8,3.3]\n",
    "ind1=0\n",
    "mv1=mv[0]\n",
    "while mv1>=5:\n",
    "    print (mv1)\n",
    "    ind1+=1\n",
    "    mv1=mv[ind1]\n",
    "print(ind1)"
   ]
  },
  {
   "cell_type": "code",
   "execution_count": 5,
   "id": "803db6e6",
   "metadata": {},
   "outputs": [
    {
     "name": "stdout",
     "output_type": "stream",
     "text": [
      "The entered numbers are 10.\n",
      "10 x 1 = 10\n",
      "10 x 2 = 20\n",
      "10 x 3 = 30\n",
      "10 x 4 = 40\n",
      "10 x 5 = 50\n",
      "10 x 6 = 60\n",
      "10 x 7 = 70\n",
      "10 x 8 = 80\n",
      "10 x 9 = 90\n",
      "10 x 10 = 100\n"
     ]
    }
   ],
   "source": [
    "# Write a table of 10 using while loop\n",
    "number1=10\n",
    "print(f\"The entered numbers are {number1}.\")\n",
    "i=1\n",
    "while i<=10:\n",
    "    print(('%d x %d = %d' %(number1,i,number1*i)))\n",
    "    i+=1"
   ]
  },
  {
   "cell_type": "code",
   "execution_count": 6,
   "id": "325f3ce0",
   "metadata": {},
   "outputs": [
    {
     "name": "stdout",
     "output_type": "stream",
     "text": [
      "Enter the no: \n",
      "12\n",
      "The entered no is 12\n",
      "12 x 1= 12\n",
      "12 x 2= 24\n",
      "12 x 3= 36\n",
      "12 x 4= 48\n",
      "12 x 5= 60\n",
      "12 x 6= 72\n",
      "12 x 7= 84\n",
      "12 x 8= 96\n",
      "12 x 9= 108\n",
      "12 x 10= 120\n",
      "12 x 11= 132\n"
     ]
    }
   ],
   "source": [
    "#nidhi\n",
    "n=int(input(\"Enter the no: \\n\"))\n",
    "print (\"The entered no is\", n)\n",
    "ind3=0\n",
    "while ind3 in range (0, 11):\n",
    "    ind3+=1\n",
    "    print (\"%d x %d= %d\" %(n,ind3,n*ind3,))"
   ]
  },
  {
   "cell_type": "code",
   "execution_count": 3,
   "id": "23447fc0",
   "metadata": {},
   "outputs": [
    {
     "name": "stdout",
     "output_type": "stream",
     "text": [
      "['banana', 'apple', 'banana', 'orange', 'cherry', 'Grapes', 'Strawberry']\n"
     ]
    }
   ],
   "source": [
    "f=['banana','apple','banana','orange','cherry','Grapes']\n",
    "ind2=0\n",
    "while ind2 in range (1):\n",
    "    f.append(\"Strawberry\")\n",
    "    ind2+=1\n",
    "print (f)"
   ]
  },
  {
   "cell_type": "code",
   "execution_count": null,
   "id": "302fd8df",
   "metadata": {},
   "outputs": [],
   "source": []
  },
  {
   "cell_type": "code",
   "execution_count": 8,
   "id": "2933f36c",
   "metadata": {},
   "outputs": [
    {
     "name": "stdout",
     "output_type": "stream",
     "text": [
      "The entered numbers are 10.\n",
      "10 x 1 = 10\n",
      "10 x 2 = 20\n",
      "10 x 3 = 30\n",
      "10 x 4 = 40\n",
      "10 x 5 = 50\n",
      "10 x 6 = 60\n",
      "10 x 7 = 70\n",
      "10 x 8 = 80\n",
      "10 x 9 = 90\n",
      "10 x 10 = 100\n"
     ]
    }
   ],
   "source": [
    "# Write a table of 10 using while loop\n",
    "number1=10\n",
    "print(f\"The entered numbers are {number1}.\")\n",
    "i=1\n",
    "while i<=10:\n",
    "    print(('%d x %d = %d' %(number1,i,number1*i)))\n",
    "    i+=1"
   ]
  },
  {
   "cell_type": "code",
   "execution_count": 10,
   "id": "9bf1f6d1",
   "metadata": {},
   "outputs": [
    {
     "name": "stdout",
     "output_type": "stream",
     "text": [
      "0\n",
      "1\n",
      "2\n",
      "3\n",
      "4\n",
      "5\n",
      "It gives the number 0 to 5\n"
     ]
    }
   ],
   "source": [
    "i=0\n",
    "while i<=5:\n",
    "    print(i)\n",
    "    i+=1\n",
    "print('It gives the number 0 to 5')"
   ]
  },
  {
   "cell_type": "code",
   "execution_count": 13,
   "id": "97da0cd1",
   "metadata": {},
   "outputs": [
    {
     "name": "stdout",
     "output_type": "stream",
     "text": [
      "0 1 2 3 4 5 It gives the number 0 to 5\n"
     ]
    }
   ],
   "source": [
    "i=0\n",
    "while i<=5:\n",
    "    print(i,end=\" \")\n",
    "    i+=1\n",
    "print('It gives the number 0 to 5')"
   ]
  },
  {
   "cell_type": "code",
   "execution_count": null,
   "id": "edda6cce",
   "metadata": {},
   "outputs": [],
   "source": []
  }
 ],
 "metadata": {
  "kernelspec": {
   "display_name": "Python 3 (ipykernel)",
   "language": "python",
   "name": "python3"
  },
  "language_info": {
   "codemirror_mode": {
    "name": "ipython",
    "version": 3
   },
   "file_extension": ".py",
   "mimetype": "text/x-python",
   "name": "python",
   "nbconvert_exporter": "python",
   "pygments_lexer": "ipython3",
   "version": "3.9.7"
  }
 },
 "nbformat": 4,
 "nbformat_minor": 5
}
