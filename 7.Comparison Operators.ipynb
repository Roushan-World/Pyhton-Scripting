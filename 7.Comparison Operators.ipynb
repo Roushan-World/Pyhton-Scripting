{
 "cells": [
  {
   "cell_type": "markdown",
   "id": "59e328fd",
   "metadata": {},
   "source": [
    "# 7.Conditions in python"
   ]
  },
  {
   "cell_type": "markdown",
   "id": "11f2341f",
   "metadata": {},
   "source": [
    "Comparison operators"
   ]
  },
  {
   "cell_type": "markdown",
   "id": "63ea7af1",
   "metadata": {},
   "source": [
    "* Less than(<)\n",
    "* Less than or equal to(<=)\n",
    "* Greater than(>)\n",
    "* Greater than or equal(>=)\n",
    "* Equal to(==)\n",
    "* Not Equal to(!=)"
   ]
  },
  {
   "cell_type": "code",
   "execution_count": 1,
   "id": "ce038ad3",
   "metadata": {},
   "outputs": [
    {
     "name": "stdout",
     "output_type": "stream",
     "text": [
      "True\n",
      "True\n"
     ]
    }
   ],
   "source": [
    "# Take a variable\n",
    "x=1.618\n",
    "\n",
    "# Condition less than\n",
    "print(x<2) #The variable is lower than 2, thus output is True\n",
    "print(x>1) # The variable is greater than 2, thus output is True\n"
   ]
  },
  {
   "cell_type": "code",
   "execution_count": 2,
   "id": "84f7c68b",
   "metadata": {},
   "outputs": [
    {
     "name": "stdout",
     "output_type": "stream",
     "text": [
      "True\n",
      "False\n",
      "True\n"
     ]
    }
   ],
   "source": [
    "x_1=1.618\n",
    "\n",
    "print(x_1<=2)\n",
    "print(x_1<=1)\n",
    "print(x_1<=1.618)"
   ]
  },
  {
   "cell_type": "code",
   "execution_count": 3,
   "id": "01b6e887",
   "metadata": {},
   "outputs": [
    {
     "name": "stdout",
     "output_type": "stream",
     "text": [
      "False\n",
      "True\n"
     ]
    }
   ],
   "source": [
    "# Compare string\n",
    "print(\"Hello\"==\"World\")\n",
    "print(\"Hello\"!=\"World\")"
   ]
  },
  {
   "cell_type": "markdown",
   "id": "a9abda16",
   "metadata": {},
   "source": [
    "# Conditional (if, elif,else)"
   ]
  },
  {
   "cell_type": "markdown",
   "id": "b9cdddf4",
   "metadata": {},
   "source": [
    "* Decision making is required when we want to execute a code only if certain condition is satisfied.\n",
    "* The if/elif/else statement is used in python for decision making.\n",
    "* An else statement can be combined with an if statement.\n",
    "* An else statement contains the block of code that execute if the conditional expression in the if statement resolve to \n",
    "* 0 or a False value\n",
    "\n",
    "* The else statement is an optional statement and there could be at most only one else statement following if.\n",
    "* The elif statement allows you to check multiple expressions for True and execute a block of code as soon as one of the \n",
    "* conditions evaluates to True.\n",
    "\n",
    "* Similar to the else, the elif statement is optional."
   ]
  },
  {
   "cell_type": "code",
   "execution_count": 4,
   "id": "483fc981",
   "metadata": {},
   "outputs": [
    {
     "name": "stdout",
     "output_type": "stream",
     "text": [
      "The number pi 3.147 is greater than ratio 1.618.\n",
      "Done\n"
     ]
    }
   ],
   "source": [
    "pi=3.147\n",
    "ratio=1.618\n",
    "\n",
    "# This statement can be True or False\n",
    "if pi>ratio:\n",
    "    \n",
    "# if the conditions is True, the Following statement will be printed. Note f----> used as string formatting\n",
    "    print(f\"The number pi {pi} is greater than ratio {ratio}.\")\n",
    "    \n",
    "# The following statement will be printed in each situtation\n",
    "print(\"Done\")"
   ]
  },
  {
   "cell_type": "code",
   "execution_count": 5,
   "id": "85dd98c8",
   "metadata": {},
   "outputs": [
    {
     "name": "stdout",
     "output_type": "stream",
     "text": [
      "Hello, Python\n"
     ]
    }
   ],
   "source": [
    "if 2:\n",
    "    print(\"Hello, Python\")"
   ]
  },
  {
   "cell_type": "code",
   "execution_count": 6,
   "id": "6b575f58",
   "metadata": {},
   "outputs": [
    {
     "name": "stdout",
     "output_type": "stream",
     "text": [
      "This is True\n"
     ]
    }
   ],
   "source": [
    "if True:\n",
    "    print(\"This is True\")"
   ]
  },
  {
   "cell_type": "code",
   "execution_count": 7,
   "id": "6bc2c3c9",
   "metadata": {},
   "outputs": [
    {
     "name": "stdout",
     "output_type": "stream",
     "text": [
      "The ratio 1.618 is lower than the number pi 3.147.\n"
     ]
    }
   ],
   "source": [
    "pi=3.147\n",
    "ratio=1.618\n",
    "\n",
    "# This statement can be True or False\n",
    "if pi<ratio:\n",
    "    \n",
    "# if the conditions is True, the Following statement will be printed. Note f----> used as string formatting\n",
    "    print(f\"The number pi {pi} is greater than ratio {ratio}.\")\n",
    "    \n",
    "else:\n",
    "    print(f\"The ratio {ratio} is lower than the number pi {pi}.\")\n",
    "    "
   ]
  },
  {
   "cell_type": "code",
   "execution_count": 8,
   "id": "d3f9958f",
   "metadata": {},
   "outputs": [
    {
     "name": "stdout",
     "output_type": "stream",
     "text": [
      "you are a baby\n"
     ]
    }
   ],
   "source": [
    "age=5\n",
    "\n",
    "if age>6:\n",
    "    print(\"you can go to primary school\")\n",
    "else:\n",
    "    print(\"you are a baby\")"
   ]
  },
  {
   "cell_type": "code",
   "execution_count": 9,
   "id": "50547679",
   "metadata": {},
   "outputs": [
    {
     "name": "stdout",
     "output_type": "stream",
     "text": [
      "you are a baby\n"
     ]
    }
   ],
   "source": [
    "age1=7\n",
    "\n",
    "if age1>10:\n",
    "    print(\"you can go to primary school\")\n",
    "\n",
    "elif age1==11:\n",
    "    print(\"you should go to KG(Kinder Garden)\")\n",
    "elif age1==15:\n",
    "    print(\"you should go to School Daily.\")\n",
    "\n",
    "else:\n",
    "    print(\"you are a baby\")"
   ]
  },
  {
   "cell_type": "code",
   "execution_count": 10,
   "id": "30e0b6e7",
   "metadata": {},
   "outputs": [
    {
     "name": "stdout",
     "output_type": "stream",
     "text": [
      "Done\n"
     ]
    }
   ],
   "source": [
    "album_year=2000\n",
    "album_year=1990\n",
    "if album_year>=1995:\n",
    "    print(\"Album year is higher than 1995.\")\n",
    "print(\"Done\")"
   ]
  },
  {
   "cell_type": "code",
   "execution_count": 11,
   "id": "01e21b68",
   "metadata": {},
   "outputs": [
    {
     "name": "stdout",
     "output_type": "stream",
     "text": [
      "Album year is higher than 1995.\n"
     ]
    }
   ],
   "source": [
    "album_year=2000\n",
    "#album_year=1990\n",
    "if album_year>=1995:\n",
    "    print(\"Album year is higher than 1995.\")\n",
    "    \n",
    "else:\n",
    "    print(\"Album year is lower than 1995.\")"
   ]
  },
  {
   "cell_type": "code",
   "execution_count": 12,
   "id": "5a0f0d0f",
   "metadata": {},
   "outputs": [
    {
     "name": "stdout",
     "output_type": "stream",
     "text": [
      "This movie could win Oscar.\n"
     ]
    }
   ],
   "source": [
    "imdb=9.0\n",
    "if imdb>8.5:\n",
    "    print(\"This movie could win Oscar.\")"
   ]
  },
  {
   "cell_type": "code",
   "execution_count": 13,
   "id": "22b72cc7",
   "metadata": {},
   "outputs": [
    {
     "name": "stdout",
     "output_type": "stream",
     "text": [
      "Enter a rating number:\n",
      "8.5\n",
      "The entered movie rating is:8.5\n",
      "The movie has merit to be watched with 8.5 rating.\n"
     ]
    }
   ],
   "source": [
    "movie_rating=float(input(\"Enter a rating number:\\n\"))\n",
    "print(f\"The entered movie rating is:{movie_rating}\")\n",
    "\n",
    "if movie_rating>8.5:\n",
    "    print(\"The movie is awasome with rating and you should watch if.\")\n",
    "else:\n",
    "    print(\"The movie has merit to be watched with {} rating.\".format(movie_rating))"
   ]
  },
  {
   "cell_type": "code",
   "execution_count": 14,
   "id": "a8b56d5f",
   "metadata": {},
   "outputs": [
    {
     "name": "stdout",
     "output_type": "stream",
     "text": [
      "Enter your age25\n",
      "The entered age is:25\n",
      "Age is Granted to watch movie in the Theater\n"
     ]
    }
   ],
   "source": [
    "age=int(input(\"Enter your age\"))\n",
    "print(f\"The entered age is:{age}\")\n",
    "\n",
    "if age>18:\n",
    "    print(\"Age is Granted to watch movie in the Theater\")\n",
    "else:\n",
    "    print(\"You can't watch movie in Theater\")"
   ]
  },
  {
   "cell_type": "code",
   "execution_count": 15,
   "id": "89720d87",
   "metadata": {},
   "outputs": [
    {
     "name": "stdout",
     "output_type": "stream",
     "text": [
      "Enter Your Age:35\n",
      "Tell me Your Age : 35\n",
      "You can watch Movie here\n"
     ]
    }
   ],
   "source": [
    "age2= int(input(\"Enter Your Age:\"))\n",
    "print(f\"Tell me Your Age : {age2}\")\n",
    "\n",
    "if age2 > 18 :\n",
    "    print(\"You can watch Movie here\")\n",
    "    \n",
    "else:\n",
    "    print(\"Go Home\")"
   ]
  },
  {
   "cell_type": "code",
   "execution_count": 16,
   "id": "57175b96",
   "metadata": {},
   "outputs": [
    {
     "name": "stdout",
     "output_type": "stream",
     "text": [
      "Enter age no: \n",
      "66\n",
      "Enter age no: 66.0\n",
      " You can watch a movie in theatre\n"
     ]
    }
   ],
   "source": [
    "mr1=float(input(\"Enter age no: \\n\"))\n",
    "print (f\"Enter age no: {mr1}\")\n",
    "if mr1>18:\n",
    "    print (\" You can watch a movie in theatre\".format(mr1))\n",
    "else:\n",
    "    print (\"You are allowed to watch at home\".format(mr1))"
   ]
  },
  {
   "cell_type": "code",
   "execution_count": null,
   "id": "ef414b73",
   "metadata": {},
   "outputs": [],
   "source": [
    "# Write a program to check whether a person is elegible for voting or not.\n",
    "age1= int(input(\"Enter Your Age:\"))\n",
    "print(f\"Tell me Your Age : {age1}\")\n",
    "\n",
    "if age1 > 18 :\n",
    "    print(\"You are elegible For Voting\")\n",
    "    \n",
    "else:\n",
    "    print(\"Sorry, you are not Elegible\")"
   ]
  },
  {
   "cell_type": "code",
   "execution_count": 18,
   "id": "05d6b469",
   "metadata": {},
   "outputs": [
    {
     "name": "stdout",
     "output_type": "stream",
     "text": [
      "Enter Your Age:16\n",
      "Tell me Your Age : 16\n",
      "Sorry, you are not Elegible\n"
     ]
    }
   ],
   "source": [
    "age1= int(input(\"Enter Your Age:\"))\n",
    "print(f\"Tell me Your Age : {age1}\")\n",
    "\n",
    "if age1 > 18 :\n",
    "    print(\"You are elegible For Voting\")\n",
    "elif age1==18 :\n",
    "    print(\"Wait for some Time {} \".format(age1))\n",
    "    \n",
    "else:\n",
    "    print(\"Sorry, you are not Elegible\")"
   ]
  },
  {
   "cell_type": "code",
   "execution_count": 19,
   "id": "a7e6204a",
   "metadata": {},
   "outputs": [
    {
     "name": "stdout",
     "output_type": "stream",
     "text": [
      "Enter your number44\n",
      "Even number\n"
     ]
    }
   ],
   "source": [
    "# Write a program to check whether a number is entered by a user is even or odd.\n",
    "\n",
    "num=int(input(\"Enter your number\"))\n",
    "\n",
    "if num%2==0:\n",
    "    print(\"Even number\")\n",
    "else:\n",
    "    print(\"odd number\")"
   ]
  },
  {
   "cell_type": "code",
   "execution_count": 20,
   "id": "dcdf2807",
   "metadata": {},
   "outputs": [
    {
     "name": "stdout",
     "output_type": "stream",
     "text": [
      "Enter any no: \n",
      "44\n",
      "Enter your no: 44.0\n",
      "The no is even\n"
     ]
    }
   ],
   "source": [
    "v1=float(input(\"Enter any no: \\n\"))\n",
    "print (f\"Enter your no: {v1}\")\n",
    "if v1%2==0:\n",
    "    print (\"The no is even\".format(v1))\n",
    "else:\n",
    "    print (\"The no is odd\".format(v1))"
   ]
  },
  {
   "cell_type": "code",
   "execution_count": null,
   "id": "142ea4c9",
   "metadata": {},
   "outputs": [],
   "source": [
    "# Write a program to check wheter a number is divisible by 7 or not.\n",
    "A=int(input(\"Enter Number:\"))\n",
    "if A%7==0:\n",
    "    print(\"Number divisible by 7\")\n",
    "else:\n",
    "    print(\"Number is not divisible by 7\")"
   ]
  },
  {
   "cell_type": "code",
   "execution_count": 22,
   "id": "93b70b1d",
   "metadata": {},
   "outputs": [
    {
     "name": "stdout",
     "output_type": "stream",
     "text": [
      "Enter any no: \n",
      "49\n",
      "Enter your no: 49.0\n",
      "Nothin here\n"
     ]
    }
   ],
   "source": [
    "# Write a program to display \"Hello\" if a number is entered by user is a multiple of 5\n",
    "v3=float(input(\"Enter any no: \\n\"))\n",
    "print (f\"Enter your no: {v3}\")\n",
    "if v3%5==0:\n",
    "    print (\"Hello\".format(v3))\n",
    "else:\n",
    "    print (\"Nothin here\".format(v3))"
   ]
  },
  {
   "cell_type": "code",
   "execution_count": 23,
   "id": "bf099625",
   "metadata": {},
   "outputs": [
    {
     "name": "stdout",
     "output_type": "stream",
     "text": [
      "Enter Number:25\n",
      "hello\n"
     ]
    }
   ],
   "source": [
    "B=int(input(\"Enter Number:\"))\n",
    "if B%5==0:\n",
    "    print(\"hello\")\n",
    "else:\n",
    "    print(\"Number is not multiple of 5\")"
   ]
  },
  {
   "cell_type": "code",
   "execution_count": 24,
   "id": "17474d83",
   "metadata": {},
   "outputs": [
    {
     "name": "stdout",
     "output_type": "stream",
     "text": [
      "Enter any no: \n",
      "56\n",
      "Enter your no: 56.0\n",
      "Grade-D\n"
     ]
    }
   ],
   "source": [
    "# Write a program to accept percentage from the user and display the \n",
    "# grade according to the following criteria:\n",
    "# Marks-------------------------->Grade\n",
    "# >90---------------------------->A\n",
    "# >80 and <=90------------------->B\n",
    "#>=60 and <=80------------------->C\n",
    "# below 60----------------------->D\n",
    "\n",
    "v4=float(input(\"Enter any no: \\n\"))\n",
    "print (f\"Enter your no: {v4}\")\n",
    "if v4>90:\n",
    "    print (\"Grade-A\".format(v4))\n",
    "elif v4>80 and v4<=90:\n",
    "    print(\"Grade-B\".format(v4))\n",
    "elif v4>=60 and v4<=80:\n",
    "    print (\"Grade-C\".format(v4))\n",
    "elif v4<60:\n",
    "    print (\"Grade-D\".format(v4))\n",
    "else :\n",
    "    print (\"No result found\")"
   ]
  },
  {
   "cell_type": "code",
   "execution_count": 25,
   "id": "d52a1646",
   "metadata": {},
   "outputs": [
    {
     "name": "stdout",
     "output_type": "stream",
     "text": [
      "Enter Your Marks55\n",
      " Grade D\n"
     ]
    }
   ],
   "source": [
    "p= float(input(\"Enter Your Marks\"))\n",
    "if p>90 :\n",
    "    print(\"Grade A\")\n",
    "elif p>80 and p<=90:\n",
    "    print(\"Grade B\")\n",
    "elif p>=60 and p<=80 :\n",
    "    print(\" Grade C\")\n",
    "elif p<60:\n",
    "    print(\" Grade D\")"
   ]
  },
  {
   "cell_type": "code",
   "execution_count": 26,
   "id": "60425f88",
   "metadata": {},
   "outputs": [
    {
     "name": "stdout",
     "output_type": "stream",
     "text": [
      "enter marks:55\n",
      "c\n"
     ]
    }
   ],
   "source": [
    "p1=int(input(\"enter marks:\"))\n",
    "\n",
    "if p1>90:\n",
    "    print(\"A\")\n",
    "    \n",
    "elif p1>80:\n",
    "    print(\"B\")\n",
    "    \n",
    "elif p1<80:\n",
    "    print(\"c\")\n",
    "    \n",
    "elif p1<60:\n",
    "    print(\"d\")"
   ]
  },
  {
   "cell_type": "code",
   "execution_count": 27,
   "id": "ef2e7440",
   "metadata": {},
   "outputs": [
    {
     "name": "stdout",
     "output_type": "stream",
     "text": [
      "Enter No:2024\n",
      "New Year\n"
     ]
    }
   ],
   "source": [
    "x=int(input(\"Enter No:\"))\n",
    "if x>=2022:\n",
    "    print(\"New Year\")\n",
    "elif x<=2022:\n",
    "    print(\"old year\")"
   ]
  },
  {
   "cell_type": "code",
   "execution_count": 28,
   "id": "537d4d19",
   "metadata": {},
   "outputs": [
    {
     "name": "stdout",
     "output_type": "stream",
     "text": [
      "Enter any no from 1 to 7: \n",
      "6\n",
      "Enter your no: 6\n",
      "Friday\n"
     ]
    }
   ],
   "source": [
    "# Write a program to accept a number from 1 to 7\n",
    "# and display the day like 1 for Sunday, 2 for Monday and so on.\n",
    "\n",
    "w=int(input(\"Enter any no from 1 to 7: \\n\"))\n",
    "print (f\"Enter your no: {w}\")\n",
    "if w==1:\n",
    "    print (\"Sunday\".format(w))\n",
    "elif w==2:\n",
    "    print(\"Monday\".format(w))\n",
    "elif w==3:\n",
    "    print (\"Tuesday\".format(w))\n",
    "elif w==4:\n",
    "    print (\"Wednesday\".format(w))\n",
    "elif w==5:\n",
    "    print (\"Thursday\".format(w))\n",
    "elif w==6:\n",
    "    print (\"Friday\".format(w))\n",
    "elif w==7:\n",
    "    print (\"Saturday\".format(w))\n",
    "else :\n",
    "    print (\"No result found\")"
   ]
  },
  {
   "cell_type": "code",
   "execution_count": 29,
   "id": "4d2409d4",
   "metadata": {},
   "outputs": [
    {
     "ename": "NameError",
     "evalue": "name 'day' is not defined",
     "output_type": "error",
     "traceback": [
      "\u001b[1;31m---------------------------------------------------------------------------\u001b[0m",
      "\u001b[1;31mNameError\u001b[0m                                 Traceback (most recent call last)",
      "\u001b[1;32mC:\\Users\\ROUSHA~1\\AppData\\Local\\Temp/ipykernel_25456/3497705214.py\u001b[0m in \u001b[0;36m<module>\u001b[1;34m\u001b[0m\n\u001b[1;32m----> 1\u001b[1;33m \u001b[1;32mif\u001b[0m \u001b[0mday\u001b[0m\u001b[1;33m==\u001b[0m\u001b[1;36m1\u001b[0m\u001b[1;33m:\u001b[0m\u001b[1;33m\u001b[0m\u001b[1;33m\u001b[0m\u001b[0m\n\u001b[0m\u001b[0;32m      2\u001b[0m     \u001b[0mprint\u001b[0m\u001b[1;33m(\u001b[0m\u001b[1;34m\"sunday\"\u001b[0m\u001b[1;33m)\u001b[0m\u001b[1;33m\u001b[0m\u001b[1;33m\u001b[0m\u001b[0m\n\u001b[0;32m      3\u001b[0m \u001b[1;32melif\u001b[0m \u001b[0mday\u001b[0m\u001b[1;33m==\u001b[0m\u001b[1;36m2\u001b[0m\u001b[1;33m:\u001b[0m\u001b[1;33m\u001b[0m\u001b[1;33m\u001b[0m\u001b[0m\n\u001b[0;32m      4\u001b[0m     \u001b[0mprint\u001b[0m\u001b[1;33m(\u001b[0m\u001b[1;34m\"monday\"\u001b[0m\u001b[1;33m)\u001b[0m\u001b[1;33m\u001b[0m\u001b[1;33m\u001b[0m\u001b[0m\n\u001b[0;32m      5\u001b[0m \u001b[1;32melif\u001b[0m \u001b[0mday\u001b[0m\u001b[1;33m==\u001b[0m\u001b[1;36m3\u001b[0m\u001b[1;33m:\u001b[0m\u001b[1;33m\u001b[0m\u001b[1;33m\u001b[0m\u001b[0m\n",
      "\u001b[1;31mNameError\u001b[0m: name 'day' is not defined"
     ]
    }
   ],
   "source": [
    "if day==1:\n",
    "    print(\"sunday\")\n",
    "elif day==2:\n",
    "    print(\"monday\")\n",
    "elif day==3:\n",
    "    print(\"tuesday\")\n",
    "elif day==4:\n",
    "    print(\"thu\")\n",
    "elif day==5:\n",
    "    print(\"wed\")\n",
    "elif day==6:\n",
    "    print(\"fry\")\n",
    "elif day==7:\n",
    "    print(\"sat\")"
   ]
  },
  {
   "cell_type": "code",
   "execution_count": 30,
   "id": "13a18421",
   "metadata": {},
   "outputs": [
    {
     "name": "stdout",
     "output_type": "stream",
     "text": [
      "Enter No:3\n",
      "Tuesday\n"
     ]
    }
   ],
   "source": [
    "x=int(input(\"Enter No:\"))\n",
    "if x==1:\n",
    "    print(\"Sunday\")\n",
    "\n",
    "elif  x==2:\n",
    "    print(\"Monday\")\n",
    "    \n",
    "elif  x==3:\n",
    "    print(\"Tuesday\")\n",
    "    \n",
    "elif  x==4:\n",
    "    print(\"wed\")\n",
    "\n",
    "elif  x==5:\n",
    "    print(\"Thus\")\n",
    "\n",
    "elif  x==6:\n",
    "    print(\"Friday\")\n",
    "    \n",
    "elif  x==7:\n",
    "    print(\"Sat\")\n",
    "\n",
    "    \n",
    "else: \n",
    "    print(\"invalid No\")"
   ]
  },
  {
   "cell_type": "code",
   "execution_count": 31,
   "id": "477ad6a2",
   "metadata": {},
   "outputs": [
    {
     "name": "stdout",
     "output_type": "stream",
     "text": [
      "Enter No:11\n",
      "Nov\n"
     ]
    }
   ],
   "source": [
    "# Display Month from jan to dec\n",
    "x=int(input(\"Enter No:\"))\n",
    "if x==1:\n",
    "    print(\"Jan\")\n",
    "\n",
    "elif  x==2:\n",
    "    print(\"Feb\")\n",
    "    \n",
    "elif  x==3:\n",
    "    print(\"Mar\")\n",
    "    \n",
    "elif  x==4:\n",
    "    print(\"April\")\n",
    "\n",
    "elif  x==5:\n",
    "    print(\"May\")\n",
    "\n",
    "elif  x==6:\n",
    "    print(\"June\")\n",
    "    \n",
    "elif  x==7:\n",
    "    print(\"Jul\")\n",
    "    \n",
    "elif  x==8:\n",
    "    print(\"Aug\")\n",
    "    \n",
    "elif  x==9:\n",
    "    print(\"Sep\")\n",
    "    \n",
    "elif  x==10:\n",
    "    print(\"Oct\")\n",
    "    \n",
    "elif  x==11:\n",
    "    print(\"Nov\")\n",
    "    \n",
    "elif  x==12:\n",
    "    print(\"Dec\")\n",
    "\n",
    "    \n",
    "else: \n",
    "    print(\"invalid No\")"
   ]
  },
  {
   "cell_type": "code",
   "execution_count": 32,
   "id": "a87d3dc5",
   "metadata": {},
   "outputs": [
    {
     "name": "stdout",
     "output_type": "stream",
     "text": [
      "Enter any no from 1 to 12 for month: \n",
      "11\n",
      "Enter your no: 11\n",
      "November\n"
     ]
    }
   ],
   "source": [
    "m=int(input(\"Enter any no from 1 to 12 for month: \\n\"))\n",
    "print (f\"Enter your no: {m}\")\n",
    "if m==1:\n",
    "    print (\"January\".format(m))\n",
    "elif m==2:\n",
    "    print(\"February\".format(m))\n",
    "elif m==3:\n",
    "    print (\"March\".format(m))\n",
    "elif m==4:\n",
    "    print (\"April\".format(m))\n",
    "elif m==5:\n",
    "    print (\"May\".format(m))\n",
    "elif m==6:\n",
    "    print (\"June\".format(m))\n",
    "elif m==7:\n",
    "    print (\"July\".format(m))\n",
    "elif m==8:\n",
    "    print (\"August\".format(m))\n",
    "elif m==9:\n",
    "    print (\"September\".format(m))\n",
    "elif m==10:\n",
    "    print (\"October\".format(m))\n",
    "elif m==11:\n",
    "    print (\"November\".format(m))\n",
    "elif m==12:\n",
    "    print (\"December\".format(m))\n",
    "else :\n",
    "    print (\"No result found.\")"
   ]
  },
  {
   "cell_type": "code",
   "execution_count": 33,
   "id": "f6a0f6f4",
   "metadata": {},
   "outputs": [
    {
     "name": "stdout",
     "output_type": "stream",
     "text": [
      "Enter City Name:Delhi\n",
      "Red Fort\n"
     ]
    }
   ],
   "source": [
    "# Accept any city from the user and display monument of that city.\n",
    "# City------------------------> Monuments\n",
    "# Delhi-----------------------> Red Fort\n",
    "# Agra------------------------> Taj Mahal\n",
    "# Jaipur----------------------> Jal Mahal\n",
    "# Kashmir---------------------> Tomb of Jain\n",
    "# Bihar-----------------------> Tomb of Sher Shahshuri\n",
    "# Display Month from jan to dec\n",
    "d=input(\"Enter City Name:\")\n",
    "if d==\"Delhi\":\n",
    "    print(\"Red Fort\")\n",
    "\n",
    "elif  d==\"Agra\":\n",
    "    print(\"Taj Mahal\")\n",
    "    \n",
    "elif  d==\"Jaipur\":\n",
    "    print(\"Jai Mahal\")\n",
    "    \n",
    "elif  d==\"Kashmir\":\n",
    "    print(\"Tomb of Jain\")\n",
    "\n",
    "elif  d==\"Bihar\":\n",
    "    print(\"Tomb of Sher Shahshuri\")\n",
    "\n",
    "    \n",
    "else: \n",
    "    print(\"Enter Valid City Name\")"
   ]
  },
  {
   "cell_type": "code",
   "execution_count": 35,
   "id": "af5f5097",
   "metadata": {},
   "outputs": [
    {
     "name": "stdout",
     "output_type": "stream",
     "text": [
      "Enter any name from the given list: \n",
      "agra\n",
      "Enter city name: agra\n",
      "No result found of your match\n"
     ]
    }
   ],
   "source": [
    "c=str(input(\"Enter any name from the given list: \\n\"))\n",
    "print (f\"Enter city name: {c}\")\n",
    "\n",
    "if c.lower()==\"delhi\":\n",
    "    print (\"Monument -- red Fort\".format(c))\n",
    "elif c.lower()==\"Agra\":\n",
    "    print(\"Monument -- taj Mahal\".format(c))\n",
    "elif c.lower()==\"Jaipur\":\n",
    "    print (\"Monument -- jal Mahal\".format(c))\n",
    "elif c.lower()==\"Kashmir\":\n",
    "    print (\"Monument -- tomb of Jain\".format(c))\n",
    "elif c.lower()==\"Bihar\":\n",
    "    print (\"Monument -- tomb of Sher Shah Suri\".format(c))\n",
    "else:\n",
    "    print(\"No result found of your match\")"
   ]
  },
  {
   "cell_type": "code",
   "execution_count": 36,
   "id": "bad28dd3",
   "metadata": {},
   "outputs": [
    {
     "name": "stdout",
     "output_type": "stream",
     "text": [
      "enter city nameAgra\n",
      "Taj Mahal\n"
     ]
    }
   ],
   "source": [
    "city=(input(\"enter city name\"))\n",
    "\n",
    "\n",
    "if city==\"Delhi\":\n",
    "    print(\"Red Fort\")\n",
    "elif city==\"Agra\":\n",
    "    print(\"Taj Mahal\")\n",
    "elif city==\"Jaipur\":\n",
    "    print(\"Jal Mahal\")\n",
    "elif city==\"Kashmir\":\n",
    "    print(\"Tomb Of Jain\")\n",
    "elif city==\"Bihar\":\n",
    "    print(\"Tomb of sher shahshuri\")\n",
    "else:\n",
    "    print(\"khud dhund lo\")"
   ]
  },
  {
   "cell_type": "code",
   "execution_count": 37,
   "id": "150b8b67",
   "metadata": {},
   "outputs": [
    {
     "name": "stdout",
     "output_type": "stream",
     "text": [
      "Enter Year:2045\n",
      "These is not Leap Year\n"
     ]
    }
   ],
   "source": [
    "# write a program to check whether a year is leap year or not.\n",
    "\n",
    "#yr%100==0:\n",
    "#yr%400==0:\n",
    "y=int(input(\"Enter Year:\"))\n",
    "if y%4==0:\n",
    "    print(\"These is Leap Year\")\n",
    "else:\n",
    "    print(\"These is not Leap Year\")"
   ]
  },
  {
   "cell_type": "code",
   "execution_count": 38,
   "id": "0117540f",
   "metadata": {},
   "outputs": [
    {
     "name": "stdout",
     "output_type": "stream",
     "text": [
      "Enter Number159\n",
      "its three digit\n"
     ]
    }
   ],
   "source": [
    "# Write a program to check whether a number \n",
    "# entered is three digit number or not\n",
    "z= (input(\"Enter Number\"))\n",
    "\n",
    "length=len(z)\n",
    "\n",
    "if length !=3:\n",
    "    print(\"use other digit\")\n",
    "\n",
    "else:\n",
    "    print(\"its three digit\")"
   ]
  },
  {
   "cell_type": "code",
   "execution_count": 39,
   "id": "46797250",
   "metadata": {},
   "outputs": [
    {
     "name": "stdout",
     "output_type": "stream",
     "text": [
      "Enter Number456\n",
      "its three digit number\n",
      "5\n"
     ]
    }
   ],
   "source": [
    "# Write a program to check whether a number is three digit \n",
    "# and if the number is three digit then\n",
    "# print the middle character of the number?\n",
    "z= (input(\"Enter Number\"))\n",
    "\n",
    "length=len(z)\n",
    "\n",
    "if length !=3:\n",
    "    print(\"Its not a three digit number\")\n",
    "\n",
    "else:\n",
    "    print(\"its three digit number\")\n",
    "    print(z[1])"
   ]
  },
  {
   "cell_type": "code",
   "execution_count": 40,
   "id": "d87a223c",
   "metadata": {},
   "outputs": [
    {
     "name": "stdout",
     "output_type": "stream",
     "text": [
      "Enter the first number55\n",
      "Enter the second number56\n",
      "The Lowest number is: 55\n"
     ]
    }
   ],
   "source": [
    "# Write a program to find the lowest number out of two number\n",
    "# excepted from user.\n",
    "A=(input(\"Enter the first number\"))\n",
    "B=(input(\"Enter the second number\"))\n",
    "\n",
    "if A>B:\n",
    "    print(\"The lowest number is:\", B)\n",
    "\n",
    "else:\n",
    "    print(\"The Lowest number is:\", A)"
   ]
  },
  {
   "cell_type": "code",
   "execution_count": 41,
   "id": "1304552b",
   "metadata": {},
   "outputs": [
    {
     "name": "stdout",
     "output_type": "stream",
     "text": [
      "Enter the first number45\n",
      "Enter the second number85\n",
      "its Greater than other number 85\n"
     ]
    }
   ],
   "source": [
    "A=(input(\"Enter the first number\"))\n",
    "B=(input(\"Enter the second number\"))\n",
    "\n",
    "if A>B:\n",
    "    \n",
    "    print(\"its Greater than other number\",A)\n",
    "\n",
    "else:\n",
    "    \n",
    "    print(\"its Greater than other number\",B)"
   ]
  },
  {
   "cell_type": "code",
   "execution_count": 42,
   "id": "4758c947",
   "metadata": {},
   "outputs": [
    {
     "name": "stdout",
     "output_type": "stream",
     "text": [
      "Enter first number15\n",
      "Enter second number16\n",
      "Enter third number17\n",
      "Greatest number is : 17\n"
     ]
    }
   ],
   "source": [
    "# write a program to find the largest number out \n",
    "# of three numbers except from user.\n",
    "\n",
    "num1=int(input(\"Enter first number\"))\n",
    "num2=int(input(\"Enter second number\"))\n",
    "num3=int(input(\"Enter third number\"))\n",
    "if num1>num2 and num1>num3:\n",
    "    print(\"Greatest number is:\",num1)\n",
    "elif num2>num1 and num2>num3:\n",
    "    print(\"Greatest number is :\",num2)\n",
    "elif num3>num2 and num3>num1:\n",
    "    print(\"Greatest number is :\", num3)"
   ]
  },
  {
   "cell_type": "code",
   "execution_count": 43,
   "id": "66494cd6",
   "metadata": {},
   "outputs": [
    {
     "name": "stdout",
     "output_type": "stream",
     "text": [
      "Enter number:45\n",
      "enter number:46\n",
      "Enter number:47\n",
      "47\n"
     ]
    }
   ],
   "source": [
    "v1=input(\"Enter number:\")\n",
    "v2=input(\"enter number:\")\n",
    "v3=input(\"Enter number:\")\n",
    "\n",
    "if v1>v2:\n",
    "    print(v2)\n",
    "elif v2<v3:\n",
    "    print(v3)\n",
    "elif v3>v2:\n",
    "    print(v2)\n",
    "elif v2>v1:\n",
    "    print(v1)\n",
    "elif v1<v2:\n",
    "    print(v2)\n",
    "elif v2<v3:\n",
    "    print(v3)\n",
    "elif v3<v2:\n",
    "    print(v2)\n",
    "elif v2<v1:\n",
    "    print(v1)\n",
    "else:\n",
    "    print(\"wrong number\")"
   ]
  },
  {
   "cell_type": "code",
   "execution_count": 44,
   "id": "0d401e4a",
   "metadata": {},
   "outputs": [
    {
     "name": "stdout",
     "output_type": "stream",
     "text": [
      "Enter the first number45\n",
      "Enter the second number46\n",
      "Enter the third number48\n",
      "Greatest no is : 48\n"
     ]
    }
   ],
   "source": [
    "A=int(input(\"Enter the first number\"))\n",
    "B=int(input(\"Enter the second number\"))\n",
    "c=int(input(\"Enter the third number\"))\n",
    "\n",
    "if A>B and A>c:\n",
    "    \n",
    "    print(\"Greatest no is :\",A)\n",
    "    \n",
    "elif B>A and B>c:\n",
    "    print(\"Greatest no is :\",B)\n",
    "\n",
    "elif c>B and c>A:\n",
    "    print(\"Greatest no is :\",c)"
   ]
  },
  {
   "cell_type": "code",
   "execution_count": 45,
   "id": "b08d2766",
   "metadata": {},
   "outputs": [
    {
     "name": "stdout",
     "output_type": "stream",
     "text": [
      "Enter Your Age85\n",
      "Enter Your Age100\n",
      "Enter Your Age185\n",
      "Enter Your Age155\n",
      " Your Are Youngest : 85\n"
     ]
    }
   ],
   "source": [
    "# Accept the age 4 people and display the youngest one?\n",
    "A=int(input(\"Enter Your Age\"))\n",
    "B=int(input(\"Enter Your Age\"))\n",
    "c=int(input(\"Enter Your Age\"))\n",
    "d=int(input(\"Enter Your Age\"))\n",
    "if A<B and A<c and A<d:\n",
    "    \n",
    "    print(\" Your Are Youngest :\",A)\n",
    "    \n",
    "elif B<A and B<c and B<d:\n",
    "    print(\" Your Are Youngest :\",B)\n",
    "\n",
    "elif c<B and c<A and c<d:\n",
    "    print(\"Your Are Youngest :\",c)\n",
    "elif d<B and d<A and d<c:\n",
    "    print(\"Your Are Youngest :\",d)"
   ]
  },
  {
   "cell_type": "code",
   "execution_count": 46,
   "id": "8c91f611",
   "metadata": {},
   "outputs": [
    {
     "name": "stdout",
     "output_type": "stream",
     "text": [
      "Enter the age of Ram45\n",
      "Enter the age of Mohan42\n",
      "Enter the age of Shyam43\n",
      "Enter the age of Sid47\n",
      "Mohan is Youngest one out of four\n"
     ]
    }
   ],
   "source": [
    "Ram=int(input(\"Enter the age of Ram\"))\n",
    "Mohan=int(input(\"Enter the age of Mohan\"))\n",
    "Shyam=int(input(\"Enter the age of Shyam\"))\n",
    "Sid=int(input(\"Enter the age of Sid\"))\n",
    "if Ram<Mohan and Ram<Shyam and Ram<Sid: \n",
    "    print(\"Ram is Youngest one out of four\")\n",
    "\n",
    "elif Mohan<Ram and Mohan<Shyam and Mohan<Sid:\n",
    "    print(\"Mohan is Youngest one out of four\")\n",
    "    \n",
    "elif Shyam<Ram and Shyam<Mohan and Shyam<Sid:\n",
    "    print(\"Shyam is Youngest one out of four\")\n",
    "   \n",
    "elif Sid<Ram and Sid<Mohan and Sid<Shyam:\n",
    "    print(\"Sid is Youngest one out of four\")"
   ]
  },
  {
   "cell_type": "code",
   "execution_count": 47,
   "id": "50149107",
   "metadata": {},
   "outputs": [
    {
     "name": "stdout",
     "output_type": "stream",
     "text": [
      "Enter your age1:56\n",
      "enter your age2:52\n",
      "Enter your age3:53\n",
      "enter your age451\n",
      "56\n"
     ]
    }
   ],
   "source": [
    "v1=input(\"Enter your age1:\")\n",
    "v2=input(\"enter your age2:\")\n",
    "v3=input(\"Enter your age3:\")\n",
    "v4=input(\"enter your age4\")\n",
    "\n",
    "if v1>v2 and v1>v3 and v1>v4:\n",
    "    print(v1)\n",
    "elif v2>v1 and v2>v3 and v2>v4:\n",
    "    print(v2)\n",
    "elif v3>v2 and v3>v1 and v3>v4:\n",
    "    print(v3)\n",
    "elif v4>v1 and v4>v2 and v4>v3:\n",
    "    print(v4)"
   ]
  },
  {
   "cell_type": "code",
   "execution_count": 48,
   "id": "b1821a2c",
   "metadata": {},
   "outputs": [
    {
     "name": "stdout",
     "output_type": "stream",
     "text": [
      "Enter any characteru\n",
      "You entered Vowel character\n"
     ]
    }
   ],
   "source": [
    "# Write a program to checek character is vowel or not.\n",
    "\n",
    "ch=input(\"Enter any character\")\n",
    "\n",
    "vow=\"aeiouAEIOU\"\n",
    "\n",
    "if ch in vow:\n",
    "    print(\"You entered Vowel character\")\n",
    "else:\n",
    "    print(\"It is consonent\")"
   ]
  },
  {
   "cell_type": "code",
   "execution_count": null,
   "id": "b24ab1e4",
   "metadata": {},
   "outputs": [],
   "source": []
  }
 ],
 "metadata": {
  "kernelspec": {
   "display_name": "Python 3 (ipykernel)",
   "language": "python",
   "name": "python3"
  },
  "language_info": {
   "codemirror_mode": {
    "name": "ipython",
    "version": 3
   },
   "file_extension": ".py",
   "mimetype": "text/x-python",
   "name": "python",
   "nbconvert_exporter": "python",
   "pygments_lexer": "ipython3",
   "version": "3.9.7"
  }
 },
 "nbformat": 4,
 "nbformat_minor": 5
}
