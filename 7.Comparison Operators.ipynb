{
 "cells": [
  {
   "cell_type": "markdown",
   "id": "59e328fd",
   "metadata": {},
   "source": [
    "# 7.Conditions in python"
   ]
  },
  {
   "cell_type": "markdown",
   "id": "11f2341f",
   "metadata": {},
   "source": [
    "Comparison operators"
   ]
  },
  {
   "cell_type": "markdown",
   "id": "63ea7af1",
   "metadata": {},
   "source": [
    "* Less than(<)\n",
    "* Less than or equal to(<=)\n",
    "* Greater than(>)\n",
    "* Greater than or equal(>=)\n",
    "* Equal to(==)\n",
    "* Not Equal to(!=)"
   ]
  },
  {
   "cell_type": "code",
   "execution_count": null,
   "id": "ce038ad3",
   "metadata": {},
   "outputs": [],
   "source": [
    "# Take a variable\n",
    "x=1.618\n",
    "\n",
    "# Condition less than\n",
    "print(x<2) #The variable is lower than 2, thus output is True\n",
    "print(x>1) # The variable is greater than 2, thus output is True\n"
   ]
  },
  {
   "cell_type": "code",
   "execution_count": null,
   "id": "84f7c68b",
   "metadata": {},
   "outputs": [],
   "source": [
    "x_1=1.618\n",
    "\n",
    "print(x_1<=2)\n",
    "print(x_1<=1)\n",
    "print(x_1<=1.618)"
   ]
  },
  {
   "cell_type": "code",
   "execution_count": null,
   "id": "01b6e887",
   "metadata": {},
   "outputs": [],
   "source": [
    "# Compare string\n",
    "print(\"Hello\"==\"World\")\n",
    "print(\"Hello\"!=\"World\")"
   ]
  },
  {
   "cell_type": "markdown",
   "id": "a9abda16",
   "metadata": {},
   "source": [
    "# Conditional (if, elif,else)"
   ]
  },
  {
   "cell_type": "markdown",
   "id": "b9cdddf4",
   "metadata": {},
   "source": [
    "* Decision making is required when we want to execute a code only if certain condition is satisfied.\n",
    "* The if/elif/else statement is used in python for decision making.\n",
    "* An else statement can be combined with an if statement.\n",
    "* An else statement contains the block of code that execute if the conditional expression in the if statement resolve to \n",
    "* 0 or a False value\n",
    "\n",
    "* The else statement is an optional statement and there could be at most only one else statement following if.\n",
    "* The elif statement allows you to check multiple expressions for True and execute a block of code as soon as one of the \n",
    "* conditions evaluates to True.\n",
    "\n",
    "* Similar to the else, the elif statement is optional."
   ]
  },
  {
   "cell_type": "code",
   "execution_count": null,
   "id": "483fc981",
   "metadata": {},
   "outputs": [],
   "source": [
    "pi=3.147\n",
    "ratio=1.618\n",
    "\n",
    "# This statement can be True or False\n",
    "if pi>ratio:\n",
    "    \n",
    "# if the conditions is True, the Following statement will be printed. Note f----> used as string formatting\n",
    "    print(f\"The number pi {pi} is greater than ratio {ratio}.\")\n",
    "    \n",
    "# The following statement will be printed in each situtation\n",
    "print(\"Done\")"
   ]
  },
  {
   "cell_type": "code",
   "execution_count": null,
   "id": "85dd98c8",
   "metadata": {},
   "outputs": [],
   "source": [
    "if 2:\n",
    "    print(\"Hello, Python\")"
   ]
  },
  {
   "cell_type": "code",
   "execution_count": null,
   "id": "6b575f58",
   "metadata": {},
   "outputs": [],
   "source": [
    "if True:\n",
    "    print(\"This is True\")"
   ]
  },
  {
   "cell_type": "code",
   "execution_count": null,
   "id": "6bc2c3c9",
   "metadata": {},
   "outputs": [],
   "source": [
    "pi=3.147\n",
    "ratio=1.618\n",
    "\n",
    "# This statement can be True or False\n",
    "if pi<ratio:\n",
    "    \n",
    "# if the conditions is True, the Following statement will be printed. Note f----> used as string formatting\n",
    "    print(f\"The number pi {pi} is greater than ratio {ratio}.\")\n",
    "    \n",
    "else:\n",
    "    print(f\"The ratio {ratio} is lower than the number pi {pi}.\")\n",
    "    "
   ]
  },
  {
   "cell_type": "code",
   "execution_count": null,
   "id": "d3f9958f",
   "metadata": {},
   "outputs": [],
   "source": [
    "age=5\n",
    "\n",
    "if age>6:\n",
    "    print(\"you can go to primary school\")\n",
    "else:\n",
    "    print(\"you are a baby\")"
   ]
  },
  {
   "cell_type": "code",
   "execution_count": null,
   "id": "50547679",
   "metadata": {},
   "outputs": [],
   "source": [
    "age1=7\n",
    "\n",
    "if age1>10:\n",
    "    print(\"you can go to primary school\")\n",
    "\n",
    "elif age1==11:\n",
    "    print(\"you should go to KG(Kinder Garden)\")\n",
    "elif age1==15:\n",
    "    print(\"you should go to School Daily.\")\n",
    "\n",
    "else:\n",
    "    print(\"you are a baby\")"
   ]
  },
  {
   "cell_type": "code",
   "execution_count": null,
   "id": "30e0b6e7",
   "metadata": {},
   "outputs": [],
   "source": [
    "album_year=2000\n",
    "album_year=1990\n",
    "if album_year>=1995:\n",
    "    print(\"Album year is higher than 1995.\")\n",
    "print(\"Done\")"
   ]
  },
  {
   "cell_type": "code",
   "execution_count": null,
   "id": "01e21b68",
   "metadata": {},
   "outputs": [],
   "source": [
    "album_year=2000\n",
    "#album_year=1990\n",
    "if album_year>=1995:\n",
    "    print(\"Album year is higher than 1995.\")\n",
    "    \n",
    "else:\n",
    "    print(\"Album year is lower than 1995.\")"
   ]
  },
  {
   "cell_type": "code",
   "execution_count": null,
   "id": "5a0f0d0f",
   "metadata": {},
   "outputs": [],
   "source": [
    "imdb=9.0\n",
    "if imdb>8.5:\n",
    "    print(\"This movie could win Oscar.\")"
   ]
  },
  {
   "cell_type": "code",
   "execution_count": null,
   "id": "22b72cc7",
   "metadata": {},
   "outputs": [],
   "source": [
    "movie_rating=float(input(\"Enter a rating number:\\n\"))\n",
    "print(f\"The entered movie rating is:{movie_rating}\")\n",
    "\n",
    "if movie_rating>8.5:\n",
    "    print(\"The movie is awasome with rating and you should watch if.\")\n",
    "else:\n",
    "    print(\"The movie has merit to be watched with {} rating.\".format(movie_rating))"
   ]
  },
  {
   "cell_type": "code",
   "execution_count": null,
   "id": "a8b56d5f",
   "metadata": {},
   "outputs": [],
   "source": [
    "age=int(input(\"Enter your age\"))\n",
    "print(f\"The entered age is:{age}\")\n",
    "\n",
    "if age>18:\n",
    "    print(\"Age is Granted to watch movie in the Theater\")\n",
    "else:\n",
    "    print(\"You can't watch movie in Theater\")"
   ]
  },
  {
   "cell_type": "code",
   "execution_count": null,
   "id": "89720d87",
   "metadata": {},
   "outputs": [],
   "source": [
    "age2= int(input(\"Enter Your Age:\"))\n",
    "print(f\"Tell me Your Age : {age2}\")\n",
    "\n",
    "if age2 > 18 :\n",
    "    print(\"You can watch Movie here\")\n",
    "    \n",
    "else:\n",
    "    print(\"Go Home\")"
   ]
  },
  {
   "cell_type": "code",
   "execution_count": null,
   "id": "57175b96",
   "metadata": {},
   "outputs": [],
   "source": [
    "mr1=float(input(\"Enter age no: \\n\"))\n",
    "print (f\"Enter age no: {mr1}\")\n",
    "if mr1>18:\n",
    "    print (\" You can watch a movie in theatre\".format(mr1))\n",
    "else:\n",
    "    print (\"You are allowed to watch at home\".format(mr1))"
   ]
  },
  {
   "cell_type": "code",
   "execution_count": null,
   "id": "ef414b73",
   "metadata": {},
   "outputs": [],
   "source": [
    "# Write a program to check whether a person is elegible for voting or not.\n",
    "age1= int(input(\"Enter Your Age:\"))\n",
    "print(f\"Tell me Your Age : {age1}\")\n",
    "\n",
    "if age1 > 18 :\n",
    "    print(\"You are elegible For Voting\")\n",
    "    \n",
    "else:\n",
    "    print(\"Sorry, you are not Elegible\")"
   ]
  },
  {
   "cell_type": "code",
   "execution_count": null,
   "id": "05d6b469",
   "metadata": {},
   "outputs": [],
   "source": [
    "age1= int(input(\"Enter Your Age:\"))\n",
    "print(f\"Tell me Your Age : {age1}\")\n",
    "\n",
    "if age1 > 18 :\n",
    "    print(\"You are elegible For Voting\")\n",
    "elif age1==18 :\n",
    "    print(\"Wait for some Time {} \".format(age1))\n",
    "    \n",
    "else:\n",
    "    print(\"Sorry, you are not Elegible\")"
   ]
  },
  {
   "cell_type": "code",
   "execution_count": null,
   "id": "a7e6204a",
   "metadata": {},
   "outputs": [],
   "source": [
    "# Write a program to check whether a number is entered by a user is even or odd.\n",
    "\n",
    "num=int(input(\"Enter your number\"))\n",
    "\n",
    "if num%2==0:\n",
    "    print(\"Even number\")\n",
    "else:\n",
    "    print(\"odd number\")"
   ]
  },
  {
   "cell_type": "code",
   "execution_count": null,
   "id": "dcdf2807",
   "metadata": {},
   "outputs": [],
   "source": [
    "v1=float(input(\"Enter any no: \\n\"))\n",
    "print (f\"Enter your no: {v1}\")\n",
    "if v1%2==0:\n",
    "    print (\"The no is even\".format(v1))\n",
    "else:\n",
    "    print (\"The no is odd\".format(v1))"
   ]
  },
  {
   "cell_type": "code",
   "execution_count": null,
   "id": "142ea4c9",
   "metadata": {},
   "outputs": [],
   "source": [
    "# Write a program to check wheter a number is divisible by 7 or not.\n",
    "A=int(input(\"Enter Number:\"))\n",
    "if A%7==0:\n",
    "    print(\"Number divisible by 7\")\n",
    "else:\n",
    "    print(\"Number is not divisible by 7\")"
   ]
  },
  {
   "cell_type": "code",
   "execution_count": null,
   "id": "93b70b1d",
   "metadata": {},
   "outputs": [],
   "source": [
    "# Write a program to display \"Hello\" if a number is entered by user is a multiple of 5\n",
    "v3=float(input(\"Enter any no: \\n\"))\n",
    "print (f\"Enter your no: {v3}\")\n",
    "if v3%5==0:\n",
    "    print (\"Hello\".format(v3))\n",
    "else:\n",
    "    print (\"Nothin here\".format(v3))"
   ]
  },
  {
   "cell_type": "code",
   "execution_count": null,
   "id": "bf099625",
   "metadata": {},
   "outputs": [],
   "source": [
    "B=int(input(\"Enter Number:\"))\n",
    "if B%5==0:\n",
    "    print(\"hello\")\n",
    "else:\n",
    "    print(\"Number is not multiple of 5\")"
   ]
  },
  {
   "cell_type": "code",
   "execution_count": null,
   "id": "17474d83",
   "metadata": {},
   "outputs": [],
   "source": [
    "# Write a program to accept percentage from the user and display the \n",
    "# grade according to the following criteria:\n",
    "# Marks-------------------------->Grade\n",
    "# >90---------------------------->A\n",
    "# >80 and <=90------------------->B\n",
    "#>=60 and <=80------------------->C\n",
    "# below 60----------------------->D\n",
    "\n",
    "v4=float(input(\"Enter any no: \\n\"))\n",
    "print (f\"Enter your no: {v4}\")\n",
    "if v4>90:\n",
    "    print (\"Grade-A\".format(v4))\n",
    "elif v4>80 and v4<=90:\n",
    "    print(\"Grade-B\".format(v4))\n",
    "elif v4>=60 and v4<=80:\n",
    "    print (\"Grade-C\".format(v4))\n",
    "elif v4<60:\n",
    "    print (\"Grade-D\".format(v4))\n",
    "else :\n",
    "    print (\"No result found\")"
   ]
  },
  {
   "cell_type": "code",
   "execution_count": null,
   "id": "d52a1646",
   "metadata": {},
   "outputs": [],
   "source": [
    "p= float(input(\"Enter Your Marks\"))\n",
    "if p>90 :\n",
    "    print(\"Grade A\")\n",
    "elif p>80 and p<=90:\n",
    "    print(\"Grade B\")\n",
    "elif p>=60 and p<=80 :\n",
    "    print(\" Grade C\")\n",
    "elif p<60:\n",
    "    print(\" Grade D\")"
   ]
  },
  {
   "cell_type": "code",
   "execution_count": null,
   "id": "60425f88",
   "metadata": {},
   "outputs": [],
   "source": [
    "p1=int(input(\"enter marks:\"))\n",
    "\n",
    "if p1>90:\n",
    "    print(\"A\")\n",
    "    \n",
    "elif p1>80:\n",
    "    print(\"B\")\n",
    "    \n",
    "elif p1<80:\n",
    "    print(\"c\")\n",
    "    \n",
    "elif p1<60:\n",
    "    print(\"d\")"
   ]
  },
  {
   "cell_type": "code",
   "execution_count": null,
   "id": "ef2e7440",
   "metadata": {},
   "outputs": [],
   "source": [
    "x=int(input(\"Enter No:\"))\n",
    "if x>=2022:\n",
    "    print(\"New Year\")\n",
    "elif x<=2022:\n",
    "    print(\"old year\")"
   ]
  },
  {
   "cell_type": "code",
   "execution_count": null,
   "id": "537d4d19",
   "metadata": {},
   "outputs": [],
   "source": [
    "# Write a program to accept a number from 1 to 7\n",
    "# and display the day like 1 for Sunday, 2 for Monday and so on.\n",
    "\n",
    "w=int(input(\"Enter any no from 1 to 7: \\n\"))\n",
    "print (f\"Enter your no: {w}\")\n",
    "if w==1:\n",
    "    print (\"Sunday\".format(w))\n",
    "elif w==2:\n",
    "    print(\"Monday\".format(w))\n",
    "elif w==3:\n",
    "    print (\"Tuesday\".format(w))\n",
    "elif w==4:\n",
    "    print (\"Wednesday\".format(w))\n",
    "elif w==5:\n",
    "    print (\"Thursday\".format(w))\n",
    "elif w==6:\n",
    "    print (\"Friday\".format(w))\n",
    "elif w==7:\n",
    "    print (\"Saturday\".format(w))\n",
    "else :\n",
    "    print (\"No result found\")"
   ]
  },
  {
   "cell_type": "code",
   "execution_count": null,
   "id": "4d2409d4",
   "metadata": {},
   "outputs": [],
   "source": [
    "if day==1:\n",
    "    print(\"sunday\")\n",
    "elif day==2:\n",
    "    print(\"monday\")\n",
    "elif day==3:\n",
    "    print(\"tuesday\")\n",
    "elif day==4:\n",
    "    print(\"thu\")\n",
    "elif day==5:\n",
    "    print(\"wed\")\n",
    "elif day==6:\n",
    "    print(\"fry\")\n",
    "elif day==7:\n",
    "    print(\"sat\")"
   ]
  },
  {
   "cell_type": "code",
   "execution_count": null,
   "id": "13a18421",
   "metadata": {},
   "outputs": [],
   "source": [
    "x=int(input(\"Enter No:\"))\n",
    "if x==1:\n",
    "    print(\"Sunday\")\n",
    "\n",
    "elif  x==2:\n",
    "    print(\"Monday\")\n",
    "    \n",
    "elif  x==3:\n",
    "    print(\"Tuesday\")\n",
    "    \n",
    "elif  x==4:\n",
    "    print(\"wed\")\n",
    "\n",
    "elif  x==5:\n",
    "    print(\"Thus\")\n",
    "\n",
    "elif  x==6:\n",
    "    print(\"Friday\")\n",
    "    \n",
    "elif  x==7:\n",
    "    print(\"Sat\")\n",
    "\n",
    "    \n",
    "else: \n",
    "    print(\"invalid No\")"
   ]
  },
  {
   "cell_type": "code",
   "execution_count": null,
   "id": "477ad6a2",
   "metadata": {},
   "outputs": [],
   "source": [
    "# Display Month from jan to dec\n",
    "x=int(input(\"Enter No:\"))\n",
    "if x==1:\n",
    "    print(\"Jan\")\n",
    "\n",
    "elif  x==2:\n",
    "    print(\"Feb\")\n",
    "    \n",
    "elif  x==3:\n",
    "    print(\"Mar\")\n",
    "    \n",
    "elif  x==4:\n",
    "    print(\"April\")\n",
    "\n",
    "elif  x==5:\n",
    "    print(\"May\")\n",
    "\n",
    "elif  x==6:\n",
    "    print(\"June\")\n",
    "    \n",
    "elif  x==7:\n",
    "    print(\"Jul\")\n",
    "    \n",
    "elif  x==8:\n",
    "    print(\"Aug\")\n",
    "    \n",
    "elif  x==9:\n",
    "    print(\"Sep\")\n",
    "    \n",
    "elif  x==10:\n",
    "    print(\"Oct\")\n",
    "    \n",
    "elif  x==11:\n",
    "    print(\"Nov\")\n",
    "    \n",
    "elif  x==12:\n",
    "    print(\"Dec\")\n",
    "\n",
    "    \n",
    "else: \n",
    "    print(\"invalid No\")"
   ]
  },
  {
   "cell_type": "code",
   "execution_count": null,
   "id": "a87d3dc5",
   "metadata": {},
   "outputs": [],
   "source": [
    "m=int(input(\"Enter any no from 1 to 12 for month: \\n\"))\n",
    "print (f\"Enter your no: {m}\")\n",
    "if m==1:\n",
    "    print (\"January\".format(m))\n",
    "elif m==2:\n",
    "    print(\"February\".format(m))\n",
    "elif m==3:\n",
    "    print (\"March\".format(m))\n",
    "elif m==4:\n",
    "    print (\"April\".format(m))\n",
    "elif m==5:\n",
    "    print (\"May\".format(m))\n",
    "elif m==6:\n",
    "    print (\"June\".format(m))\n",
    "elif m==7:\n",
    "    print (\"July\".format(m))\n",
    "elif m==8:\n",
    "    print (\"August\".format(m))\n",
    "elif m==9:\n",
    "    print (\"September\".format(m))\n",
    "elif m==10:\n",
    "    print (\"October\".format(m))\n",
    "elif m==11:\n",
    "    print (\"November\".format(m))\n",
    "elif m==12:\n",
    "    print (\"December\".format(m))\n",
    "else :\n",
    "    print (\"No result found.\")"
   ]
  },
  {
   "cell_type": "code",
   "execution_count": null,
   "id": "f6a0f6f4",
   "metadata": {},
   "outputs": [],
   "source": [
    "# Accept any city from the user and display monument of that city.\n",
    "# City------------------------> Monuments\n",
    "# Delhi-----------------------> Red Fort\n",
    "# Agra------------------------> Taj Mahal\n",
    "# Jaipur----------------------> Jal Mahal\n",
    "# Kashmir---------------------> Tomb of Jain\n",
    "# Bihar-----------------------> Tomb of Sher Shahshuri\n",
    "# Display Month from jan to dec\n",
    "d=input(\"Enter City Name:\")\n",
    "if d==\"Delhi\":\n",
    "    print(\"Red Fort\")\n",
    "\n",
    "elif  d==\"Agra\":\n",
    "    print(\"Taj Mahal\")\n",
    "    \n",
    "elif  d==\"Jaipur\":\n",
    "    print(\"Jai Mahal\")\n",
    "    \n",
    "elif  d==\"Kashmir\":\n",
    "    print(\"Tomb of Jain\")\n",
    "\n",
    "elif  d==\"Bihar\":\n",
    "    print(\"Tomb of Sher Shahshuri\")\n",
    "\n",
    "    \n",
    "else: \n",
    "    print(\"Enter Valid City Name\")"
   ]
  },
  {
   "cell_type": "code",
   "execution_count": null,
   "id": "af5f5097",
   "metadata": {},
   "outputs": [],
   "source": [
    "c=str(input(\"Enter any name from the given list: \\n\"))\n",
    "print (f\"Enter city name: {c}\")\n",
    "\n",
    "if c.lower()==\"delhi\":\n",
    "    print (\"Monument -- red Fort\".format(c))\n",
    "elif c.lower()==\"Agra\":\n",
    "    print(\"Monument -- taj Mahal\".format(c))\n",
    "elif c.lower()==\"Jaipur\":\n",
    "    print (\"Monument -- jal Mahal\".format(c))\n",
    "elif c.lower()==\"Kashmir\":\n",
    "    print (\"Monument -- tomb of Jain\".format(c))\n",
    "elif c.lower()==\"Bihar\":\n",
    "    print (\"Monument -- tomb of Sher Shah Suri\".format(c))\n",
    "else:\n",
    "    print(\"No result found of your match\")"
   ]
  },
  {
   "cell_type": "code",
   "execution_count": null,
   "id": "bad28dd3",
   "metadata": {},
   "outputs": [],
   "source": [
    "city=(input(\"enter city name\"))\n",
    "\n",
    "\n",
    "if city==\"Delhi\":\n",
    "    print(\"Red Fort\")\n",
    "elif city==\"Agra\":\n",
    "    print(\"Taj Mahal\")\n",
    "elif city==\"Jaipur\":\n",
    "    print(\"Jal Mahal\")\n",
    "elif city==\"Kashmir\":\n",
    "    print(\"Tomb Of Jain\")\n",
    "elif city==\"Bihar\":\n",
    "    print(\"Tomb of sher shahshuri\")\n",
    "else:\n",
    "    print(\"khud dhund lo\")"
   ]
  },
  {
   "cell_type": "code",
   "execution_count": null,
   "id": "150b8b67",
   "metadata": {},
   "outputs": [],
   "source": [
    "# write a program to check whether a year is leap year or not.\n",
    "\n",
    "#yr%100==0:\n",
    "#yr%400==0:\n",
    "y=int(input(\"Enter Year:\"))\n",
    "if y%4==0:\n",
    "    print(\"These is Leap Year\")\n",
    "else:\n",
    "    print(\"These is not Leap Year\")"
   ]
  },
  {
   "cell_type": "code",
   "execution_count": null,
   "id": "b082f485",
   "metadata": {},
   "outputs": [],
   "source": [
    "# Write a program to check whether a number \n",
    "# entered is three digit number or not\n",
    "z= (input(\"Enter Number\"))\n",
    "\n",
    "length=len(z)\n",
    "\n",
    "if length !=3:\n",
    "    print(\"use other digit\")\n",
    "\n",
    "else:\n",
    "    print(\"its three digit\")"
   ]
  },
  {
   "cell_type": "code",
   "execution_count": null,
   "id": "56b796bf",
   "metadata": {},
   "outputs": [],
   "source": [
    "# Write a program to check whether a number is three digit \n",
    "# and if the number is three digit then\n",
    "# print the middle character of the number?\n",
    "z= (input(\"Enter Number\"))\n",
    "\n",
    "length=len(z)\n",
    "\n",
    "if length !=3:\n",
    "    print(\"Its not a three digit number\")\n",
    "\n",
    "else:\n",
    "    print(\"its three digit number\")\n",
    "    print(z[1])"
   ]
  },
  {
   "cell_type": "code",
   "execution_count": null,
   "id": "831632b9",
   "metadata": {},
   "outputs": [],
   "source": [
    "# Write a program to find the lowest number out of two number\n",
    "# excepted from user.\n",
    "A=(input(\"Enter the first number\"))\n",
    "B=(input(\"Enter the second number\"))\n",
    "\n",
    "if A>B:\n",
    "    print(\"The lowest number is:\", B)\n",
    "\n",
    "else:\n",
    "    print(\"The Lowest number is:\", A)"
   ]
  },
  {
   "cell_type": "code",
   "execution_count": null,
   "id": "f96da768",
   "metadata": {},
   "outputs": [],
   "source": [
    "A=(input(\"Enter the first number\"))\n",
    "B=(input(\"Enter the second number\"))\n",
    "\n",
    "if A>B:\n",
    "    \n",
    "    print(\"its Greater than other number\",A)\n",
    "\n",
    "else:\n",
    "    \n",
    "    print(\"its Greater than other number\",B)"
   ]
  },
  {
   "cell_type": "code",
   "execution_count": 12,
   "id": "a0c020b5",
   "metadata": {},
   "outputs": [
    {
     "name": "stdout",
     "output_type": "stream",
     "text": [
      "Enter first number1000\n",
      "Enter second number2000\n",
      "Enter third number3000\n",
      "Greatest number is : 3000\n"
     ]
    }
   ],
   "source": [
    "# write a program to find the largest number out \n",
    "# of three numbers except from user.\n",
    "\n",
    "num1=int(input(\"Enter first number\"))\n",
    "num2=int(input(\"Enter second number\"))\n",
    "num3=int(input(\"Enter third number\"))\n",
    "if num1>num2 and num1>num3:\n",
    "    print(\"Greatest number is:\",num1)\n",
    "elif num2>num1 and num2>num3:\n",
    "    print(\"Greatest number is :\",num2)\n",
    "elif num3>num2 and num3>num1:\n",
    "    print(\"Greatest number is :\", num3)"
   ]
  },
  {
   "cell_type": "code",
   "execution_count": 3,
   "id": "e07a045a",
   "metadata": {},
   "outputs": [
    {
     "name": "stdout",
     "output_type": "stream",
     "text": [
      "Enter number:3\n",
      "enter number:2\n",
      "Enter number:1\n",
      "2\n"
     ]
    }
   ],
   "source": [
    "v1=input(\"Enter number:\")\n",
    "v2=input(\"enter number:\")\n",
    "v3=input(\"Enter number:\")\n",
    "\n",
    "if v1>v2:\n",
    "    print(v2)\n",
    "elif v2<v3:\n",
    "    print(v3)\n",
    "elif v3>v2:\n",
    "    print(v2)\n",
    "elif v2>v1:\n",
    "    print(v1)\n",
    "elif v1<v2:\n",
    "    print(v2)\n",
    "elif v2<v3:\n",
    "    print(v3)\n",
    "elif v3<v2:\n",
    "    print(v2)\n",
    "elif v2<v1:\n",
    "    print(v1)\n",
    "else:\n",
    "    print(\"wrong number\")"
   ]
  },
  {
   "cell_type": "code",
   "execution_count": 14,
   "id": "707b09a1",
   "metadata": {},
   "outputs": [
    {
     "name": "stdout",
     "output_type": "stream",
     "text": [
      "Enter the first number100\n",
      "Enter the second number90\n",
      "Enter the third number80\n",
      "Greatest no is : 100\n"
     ]
    }
   ],
   "source": [
    "A=int(input(\"Enter the first number\"))\n",
    "B=int(input(\"Enter the second number\"))\n",
    "c=int(input(\"Enter the third number\"))\n",
    "\n",
    "if A>B and A>c:\n",
    "    \n",
    "    print(\"Greatest no is :\",A)\n",
    "    \n",
    "elif B>A and B>c:\n",
    "    print(\"Greatest no is :\",B)\n",
    "\n",
    "elif c>B and c>A:\n",
    "    print(\"Greatest no is :\",c)"
   ]
  },
  {
   "cell_type": "code",
   "execution_count": 15,
   "id": "87639bc8",
   "metadata": {},
   "outputs": [
    {
     "name": "stdout",
     "output_type": "stream",
     "text": [
      "Enter Your Age2004\n",
      "Enter Your Age2005\n",
      "Enter Your Age2006\n",
      "Enter Your Age2007\n",
      " Your Are Youngest : 2004\n"
     ]
    }
   ],
   "source": [
    "# Accept the age 4 people and display the youngest one?\n",
    "A=int(input(\"Enter Your Age\"))\n",
    "B=int(input(\"Enter Your Age\"))\n",
    "c=int(input(\"Enter Your Age\"))\n",
    "d=int(input(\"Enter Your Age\"))\n",
    "if A<B and A<c and A<d:\n",
    "    \n",
    "    print(\" Your Are Youngest :\",A)\n",
    "    \n",
    "elif B<A and B<c and B<d:\n",
    "    print(\" Your Are Youngest :\",B)\n",
    "\n",
    "elif c<B and c<A and c<d:\n",
    "    print(\"Your Are Youngest :\",c)\n",
    "elif d<B and d<A and d<c:\n",
    "    print(\"Your Are Youngest :\",d)"
   ]
  },
  {
   "cell_type": "code",
   "execution_count": 19,
   "id": "48fe4385",
   "metadata": {},
   "outputs": [
    {
     "name": "stdout",
     "output_type": "stream",
     "text": [
      "Enter the age of Ram2017\n",
      "Enter the age of Mohan2016\n",
      "Enter the age of Shyam2015\n",
      "Enter the age of Sid2014\n",
      "Sid is Youngest one out of four\n"
     ]
    }
   ],
   "source": [
    "Ram=int(input(\"Enter the age of Ram\"))\n",
    "Mohan=int(input(\"Enter the age of Mohan\"))\n",
    "Shyam=int(input(\"Enter the age of Shyam\"))\n",
    "Sid=int(input(\"Enter the age of Sid\"))\n",
    "if Ram<Mohan and Ram<Shyam and Ram<Sid: \n",
    "    print(\"Ram is Youngest one out of four\")\n",
    "\n",
    "elif Mohan<Ram and Mohan<Shyam and Mohan<Sid:\n",
    "    print(\"Mohan is Youngest one out of four\")\n",
    "    \n",
    "elif Shyam<Ram and Shyam<Mohan and Shyam<Sid:\n",
    "    print(\"Shyam is Youngest one out of four\")\n",
    "   \n",
    "elif Sid<Ram and Sid<Mohan and Sid<Shyam:\n",
    "    print(\"Sid is Youngest one out of four\")"
   ]
  },
  {
   "cell_type": "code",
   "execution_count": 22,
   "id": "8e77722b",
   "metadata": {},
   "outputs": [
    {
     "name": "stdout",
     "output_type": "stream",
     "text": [
      "Enter your age1:4321\n",
      "enter your age2:4320\n",
      "Enter your age3:4319\n",
      "enter your age44315\n",
      "4321\n"
     ]
    }
   ],
   "source": [
    "v1=input(\"Enter your age1:\")\n",
    "v2=input(\"enter your age2:\")\n",
    "v3=input(\"Enter your age3:\")\n",
    "v4=input(\"enter your age4\")\n",
    "\n",
    "if v1>v2 and v1>v3 and v1>v4:\n",
    "    print(v1)\n",
    "elif v2>v1 and v2>v3 and v2>v4:\n",
    "    print(v2)\n",
    "elif v3>v2 and v3>v1 and v3>v4:\n",
    "    print(v3)\n",
    "elif v4>v1 and v4>v2 and v4>v3:\n",
    "    print(v4)"
   ]
  },
  {
   "cell_type": "code",
   "execution_count": 30,
   "id": "19701d2c",
   "metadata": {},
   "outputs": [
    {
     "name": "stdout",
     "output_type": "stream",
     "text": [
      "Enter any characteru\n",
      "You entered Vowel character\n"
     ]
    }
   ],
   "source": [
    "# Write a program to checek character is vowel or not.\n",
    "\n",
    "ch=input(\"Enter any character\")\n",
    "\n",
    "vow=\"aeiouAEIOU\"\n",
    "\n",
    "if ch in vow:\n",
    "    print(\"You entered Vowel character\")\n",
    "else:\n",
    "    print(\"It is consonent\")"
   ]
  },
  {
   "cell_type": "code",
   "execution_count": null,
   "id": "cfd6af06",
   "metadata": {},
   "outputs": [],
   "source": []
  }
 ],
 "metadata": {
  "kernelspec": {
   "display_name": "Python 3 (ipykernel)",
   "language": "python",
   "name": "python3"
  },
  "language_info": {
   "codemirror_mode": {
    "name": "ipython",
    "version": 3
   },
   "file_extension": ".py",
   "mimetype": "text/x-python",
   "name": "python",
   "nbconvert_exporter": "python",
   "pygments_lexer": "ipython3",
   "version": "3.9.7"
  }
 },
 "nbformat": 4,
 "nbformat_minor": 5
}
