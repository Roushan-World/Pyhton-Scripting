{
 "cells": [
  {
   "cell_type": "markdown",
   "id": "59e328fd",
   "metadata": {},
   "source": [
    "# 7.Conditions in python"
   ]
  },
  {
   "cell_type": "markdown",
   "id": "11f2341f",
   "metadata": {},
   "source": [
    "Comparison operators"
   ]
  },
  {
   "cell_type": "markdown",
   "id": "63ea7af1",
   "metadata": {},
   "source": [
    "* Less than(<)\n",
    "* Less than or equal to(<=)\n",
    "* Greater than(>)\n",
    "* Greater than or equal(>=)\n",
    "* Equal to(==)\n",
    "* Not Equal to(!=)"
   ]
  },
  {
   "cell_type": "code",
   "execution_count": null,
   "id": "ce038ad3",
   "metadata": {},
   "outputs": [],
   "source": [
    "# Take a variable\n",
    "x=1.618\n",
    "\n",
    "# Condition less than\n",
    "print(x<2) #The variable is lower than 2, thus output is True\n",
    "print(x>1) # The variable is greater than 2, thus output is True\n"
   ]
  },
  {
   "cell_type": "code",
   "execution_count": null,
   "id": "84f7c68b",
   "metadata": {},
   "outputs": [],
   "source": [
    "x_1=1.618\n",
    "\n",
    "print(x_1<=2)\n",
    "print(x_1<=1)\n",
    "print(x_1<=1.618)"
   ]
  },
  {
   "cell_type": "code",
   "execution_count": null,
   "id": "01b6e887",
   "metadata": {},
   "outputs": [],
   "source": [
    "# Compare string\n",
    "print(\"Hello\"==\"World\")\n",
    "print(\"Hello\"!=\"World\")"
   ]
  },
  {
   "cell_type": "markdown",
   "id": "a9abda16",
   "metadata": {},
   "source": [
    "# Conditional (if, elif,else)"
   ]
  },
  {
   "cell_type": "markdown",
   "id": "b9cdddf4",
   "metadata": {},
   "source": [
    "* Decision making is required when we want to execute a code only if certain condition is satisfied.\n",
    "* The if/elif/else statement is used in python for decision making.\n",
    "* An else statement can be combined with an if statement.\n",
    "* An else statement contains the block of code that execute if the conditional expression in the if statement resolve to \n",
    "* 0 or a False value\n",
    "\n",
    "* The else statement is an optional statement and there could be at most only one else statement following if.\n",
    "* The elif statement allows you to check multiple expressions for True and execute a block of code as soon as one of the \n",
    "* conditions evaluates to True.\n",
    "\n",
    "* Similar to the else, the elif statement is optional."
   ]
  },
  {
   "cell_type": "code",
   "execution_count": null,
   "id": "483fc981",
   "metadata": {},
   "outputs": [],
   "source": [
    "pi=3.147\n",
    "ratio=1.618\n",
    "\n",
    "# This statement can be True or False\n",
    "if pi>ratio:\n",
    "    \n",
    "# if the conditions is True, the Following statement will be printed. Note f----> used as string formatting\n",
    "    print(f\"The number pi {pi} is greater than ratio {ratio}.\")\n",
    "    \n",
    "# The following statement will be printed in each situtation\n",
    "print(\"Done\")"
   ]
  },
  {
   "cell_type": "code",
   "execution_count": null,
   "id": "85dd98c8",
   "metadata": {},
   "outputs": [],
   "source": [
    "if 2:\n",
    "    print(\"Hello, Python\")"
   ]
  },
  {
   "cell_type": "code",
   "execution_count": null,
   "id": "6b575f58",
   "metadata": {},
   "outputs": [],
   "source": [
    "if True:\n",
    "    print(\"This is True\")"
   ]
  },
  {
   "cell_type": "code",
   "execution_count": null,
   "id": "6bc2c3c9",
   "metadata": {},
   "outputs": [],
   "source": [
    "pi=3.147\n",
    "ratio=1.618\n",
    "\n",
    "# This statement can be True or False\n",
    "if pi<ratio:\n",
    "    \n",
    "# if the conditions is True, the Following statement will be printed. Note f----> used as string formatting\n",
    "    print(f\"The number pi {pi} is greater than ratio {ratio}.\")\n",
    "    \n",
    "else:\n",
    "    print(f\"The ratio {ratio} is lower than the number pi {pi}.\")\n",
    "    "
   ]
  },
  {
   "cell_type": "code",
   "execution_count": null,
   "id": "d3f9958f",
   "metadata": {},
   "outputs": [],
   "source": [
    "age=5\n",
    "\n",
    "if age>6:\n",
    "    print(\"you can go to primary school\")\n",
    "else:\n",
    "    print(\"you are a baby\")"
   ]
  },
  {
   "cell_type": "code",
   "execution_count": null,
   "id": "50547679",
   "metadata": {},
   "outputs": [],
   "source": [
    "age1=7\n",
    "\n",
    "if age1>10:\n",
    "    print(\"you can go to primary school\")\n",
    "\n",
    "elif age1==11:\n",
    "    print(\"you should go to KG(Kinder Garden)\")\n",
    "elif age1==15:\n",
    "    print(\"you should go to School Daily.\")\n",
    "\n",
    "else:\n",
    "    print(\"you are a baby\")"
   ]
  },
  {
   "cell_type": "code",
   "execution_count": null,
   "id": "30e0b6e7",
   "metadata": {},
   "outputs": [],
   "source": [
    "album_year=2000\n",
    "album_year=1990\n",
    "if album_year>=1995:\n",
    "    print(\"Album year is higher than 1995.\")\n",
    "print(\"Done\")"
   ]
  },
  {
   "cell_type": "code",
   "execution_count": null,
   "id": "01e21b68",
   "metadata": {},
   "outputs": [],
   "source": [
    "album_year=2000\n",
    "#album_year=1990\n",
    "if album_year>=1995:\n",
    "    print(\"Album year is higher than 1995.\")\n",
    "    \n",
    "else:\n",
    "    print(\"Album year is lower than 1995.\")"
   ]
  },
  {
   "cell_type": "code",
   "execution_count": null,
   "id": "5a0f0d0f",
   "metadata": {},
   "outputs": [],
   "source": [
    "imdb=9.0\n",
    "if imdb>8.5:\n",
    "    print(\"This movie could win Oscar.\")"
   ]
  },
  {
   "cell_type": "code",
   "execution_count": null,
   "id": "22b72cc7",
   "metadata": {},
   "outputs": [],
   "source": [
    "movie_rating=float(input(\"Enter a rating number:\\n\"))\n",
    "print(f\"The entered movie rating is:{movie_rating}\")\n",
    "\n",
    "if movie_rating>8.5:\n",
    "    print(\"The movie is awasome with rating and you should watch if.\")\n",
    "else:\n",
    "    print(\"The movie has merit to be watched with {} rating.\".format(movie_rating))"
   ]
  },
  {
   "cell_type": "code",
   "execution_count": null,
   "id": "a8b56d5f",
   "metadata": {},
   "outputs": [],
   "source": [
    "age=int(input(\"Enter your age\"))\n",
    "print(f\"The entered age is:{age}\")\n",
    "\n",
    "if age>18:\n",
    "    print(\"Age is Granted to watch movie in the Theater\")\n",
    "else:\n",
    "    print(\"You can't watch movie in Theater\")"
   ]
  },
  {
   "cell_type": "code",
   "execution_count": null,
   "id": "89720d87",
   "metadata": {},
   "outputs": [],
   "source": [
    "age2= int(input(\"Enter Your Age:\"))\n",
    "print(f\"Tell me Your Age : {age2}\")\n",
    "\n",
    "if age2 > 18 :\n",
    "    print(\"You can watch Movie here\")\n",
    "    \n",
    "else:\n",
    "    print(\"Go Home\")"
   ]
  },
  {
   "cell_type": "code",
   "execution_count": null,
   "id": "57175b96",
   "metadata": {},
   "outputs": [],
   "source": [
    "mr1=float(input(\"Enter age no: \\n\"))\n",
    "print (f\"Enter age no: {mr1}\")\n",
    "if mr1>18:\n",
    "    print (\" You can watch a movie in theatre\".format(mr1))\n",
    "else:\n",
    "    print (\"You are allowed to watch at home\".format(mr1))"
   ]
  },
  {
   "cell_type": "code",
   "execution_count": null,
   "id": "ef414b73",
   "metadata": {},
   "outputs": [],
   "source": [
    "# Write a program to check whether a person is elegible for voting or not.\n",
    "age1= int(input(\"Enter Your Age:\"))\n",
    "print(f\"Tell me Your Age : {age1}\")\n",
    "\n",
    "if age1 > 18 :\n",
    "    print(\"You are elegible For Voting\")\n",
    "    \n",
    "else:\n",
    "    print(\"Sorry, you are not Elegible\")"
   ]
  },
  {
   "cell_type": "code",
   "execution_count": null,
   "id": "297d2446",
   "metadata": {},
   "outputs": [],
   "source": [
    "age1= int(input(\"Enter Your Age:\"))\n",
    "print(f\"Tell me Your Age : {age1}\")\n",
    "\n",
    "if age1 > 18 :\n",
    "    print(\"You are elegible For Voting\")\n",
    "elif age1==18 :\n",
    "    print(\"Wait for some Time {} \".format(age1))\n",
    "    \n",
    "else:\n",
    "    print(\"Sorry, you are not Elegible\")"
   ]
  },
  {
   "cell_type": "code",
   "execution_count": null,
   "id": "18a8dfb1",
   "metadata": {},
   "outputs": [],
   "source": [
    "# Write a program to check whether a number is entered by a user is even or odd.\n",
    "\n",
    "num=int(input(\"Enter your number\"))\n",
    "\n",
    "if num%2==0:\n",
    "    print(\"Even number\")\n",
    "else:\n",
    "    print(\"odd number\")"
   ]
  },
  {
   "cell_type": "code",
   "execution_count": null,
   "id": "d89a5e0a",
   "metadata": {},
   "outputs": [],
   "source": [
    "v1=float(input(\"Enter any no: \\n\"))\n",
    "print (f\"Enter your no: {v1}\")\n",
    "if v1%2==0:\n",
    "    print (\"The no is even\".format(v1))\n",
    "else:\n",
    "    print (\"The no is odd\".format(v1))"
   ]
  },
  {
   "cell_type": "code",
   "execution_count": null,
   "id": "5b283fdb",
   "metadata": {},
   "outputs": [],
   "source": [
    "# Write a program to check wheter a number is divisible by 7 or not.\n",
    "A=int(input(\"Enter Number:\"))\n",
    "if A%7==0:\n",
    "    print(\"Number divisible by 7\")\n",
    "else:\n",
    "    print(\"Number is not divisible by 7\")"
   ]
  },
  {
   "cell_type": "code",
   "execution_count": null,
   "id": "55d36c5e",
   "metadata": {},
   "outputs": [],
   "source": [
    "# Write a program to display \"Hello\" if a number is entered by user is a multiple of 5\n",
    "v3=float(input(\"Enter any no: \\n\"))\n",
    "print (f\"Enter your no: {v3}\")\n",
    "if v3%5==0:\n",
    "    print (\"Hello\".format(v3))\n",
    "else:\n",
    "    print (\"Nothin here\".format(v3))"
   ]
  },
  {
   "cell_type": "code",
   "execution_count": null,
   "id": "81e11d27",
   "metadata": {},
   "outputs": [],
   "source": [
    "B=int(input(\"Enter Number:\"))\n",
    "if B%5==0:\n",
    "    print(\"hello\")\n",
    "else:\n",
    "    print(\"Number is not multiple of 5\")"
   ]
  },
  {
   "cell_type": "code",
   "execution_count": null,
   "id": "e119518a",
   "metadata": {},
   "outputs": [],
   "source": [
    "# Write a program to accept percentage from the user and display the \n",
    "# grade according to the following criteria:\n",
    "# Marks-------------------------->Grade\n",
    "# >90---------------------------->A\n",
    "# >80 and <=90------------------->B\n",
    "#>=60 and <=80------------------->C\n",
    "# below 60----------------------->D\n",
    "\n",
    "v4=float(input(\"Enter any no: \\n\"))\n",
    "print (f\"Enter your no: {v4}\")\n",
    "if v4>90:\n",
    "    print (\"Grade-A\".format(v4))\n",
    "elif v4>80 and v4<=90:\n",
    "    print(\"Grade-B\".format(v4))\n",
    "elif v4>=60 and v4<=80:\n",
    "    print (\"Grade-C\".format(v4))\n",
    "elif v4<60:\n",
    "    print (\"Grade-D\".format(v4))\n",
    "else :\n",
    "    print (\"No result found\")"
   ]
  },
  {
   "cell_type": "code",
   "execution_count": null,
   "id": "be46bf80",
   "metadata": {},
   "outputs": [],
   "source": [
    "p= float(input(\"Enter Your Marks\"))\n",
    "if p>90 :\n",
    "    print(\"Grade A\")\n",
    "elif p>80 and p<=90:\n",
    "    print(\"Grade B\")\n",
    "elif p>=60 and p<=80 :\n",
    "    print(\" Grade C\")\n",
    "elif p<60:\n",
    "    print(\" Grade D\")"
   ]
  },
  {
   "cell_type": "code",
   "execution_count": null,
   "id": "5b2c6779",
   "metadata": {},
   "outputs": [],
   "source": [
    "p1=int(input(\"enter marks:\"))\n",
    "\n",
    "if p1>90:\n",
    "    print(\"A\")\n",
    "    \n",
    "elif p1>80:\n",
    "    print(\"B\")\n",
    "    \n",
    "elif p1<80:\n",
    "    print(\"c\")\n",
    "    \n",
    "elif p1<60:\n",
    "    print(\"d\")"
   ]
  },
  {
   "cell_type": "code",
   "execution_count": null,
   "id": "408c0c9d",
   "metadata": {},
   "outputs": [],
   "source": [
    "x=int(input(\"Enter No:\"))\n",
    "if x>=2022:\n",
    "    print(\"New Year\")\n",
    "elif x<=2022:\n",
    "    print(\"old year\")"
   ]
  },
  {
   "cell_type": "code",
   "execution_count": null,
   "id": "6fcee680",
   "metadata": {},
   "outputs": [],
   "source": [
    "# Write a program to accept a number from 1 to 7\n",
    "# and display the day like 1 for Sunday, 2 for Monday and so on.\n",
    "\n",
    "w=int(input(\"Enter any no from 1 to 7: \\n\"))\n",
    "print (f\"Enter your no: {w}\")\n",
    "if w==1:\n",
    "    print (\"Sunday\".format(w))\n",
    "elif w==2:\n",
    "    print(\"Monday\".format(w))\n",
    "elif w==3:\n",
    "    print (\"Tuesday\".format(w))\n",
    "elif w==4:\n",
    "    print (\"Wednesday\".format(w))\n",
    "elif w==5:\n",
    "    print (\"Thursday\".format(w))\n",
    "elif w==6:\n",
    "    print (\"Friday\".format(w))\n",
    "elif w==7:\n",
    "    print (\"Saturday\".format(w))\n",
    "else :\n",
    "    print (\"No result found\")"
   ]
  },
  {
   "cell_type": "code",
   "execution_count": null,
   "id": "8b57a095",
   "metadata": {},
   "outputs": [],
   "source": [
    "if day==1:\n",
    "    print(\"sunday\")\n",
    "elif day==2:\n",
    "    print(\"monday\")\n",
    "elif day==3:\n",
    "    print(\"tuesday\")\n",
    "elif day==4:\n",
    "    print(\"thu\")\n",
    "elif day==5:\n",
    "    print(\"wed\")\n",
    "elif day==6:\n",
    "    print(\"fry\")\n",
    "elif day==7:\n",
    "    print(\"sat\")"
   ]
  },
  {
   "cell_type": "code",
   "execution_count": null,
   "id": "90816e1d",
   "metadata": {},
   "outputs": [],
   "source": [
    "x=int(input(\"Enter No:\"))\n",
    "if x==1:\n",
    "    print(\"Sunday\")\n",
    "\n",
    "elif  x==2:\n",
    "    print(\"Monday\")\n",
    "    \n",
    "elif  x==3:\n",
    "    print(\"Tuesday\")\n",
    "    \n",
    "elif  x==4:\n",
    "    print(\"wed\")\n",
    "\n",
    "elif  x==5:\n",
    "    print(\"Thus\")\n",
    "\n",
    "elif  x==6:\n",
    "    print(\"Friday\")\n",
    "    \n",
    "elif  x==7:\n",
    "    print(\"Sat\")\n",
    "\n",
    "    \n",
    "else: \n",
    "    print(\"invalid No\")"
   ]
  },
  {
   "cell_type": "code",
   "execution_count": null,
   "id": "61e641f5",
   "metadata": {},
   "outputs": [],
   "source": [
    "# Display Month from jan to dec\n",
    "x=int(input(\"Enter No:\"))\n",
    "if x==1:\n",
    "    print(\"Jan\")\n",
    "\n",
    "elif  x==2:\n",
    "    print(\"Feb\")\n",
    "    \n",
    "elif  x==3:\n",
    "    print(\"Mar\")\n",
    "    \n",
    "elif  x==4:\n",
    "    print(\"April\")\n",
    "\n",
    "elif  x==5:\n",
    "    print(\"May\")\n",
    "\n",
    "elif  x==6:\n",
    "    print(\"June\")\n",
    "    \n",
    "elif  x==7:\n",
    "    print(\"Jul\")\n",
    "    \n",
    "elif  x==8:\n",
    "    print(\"Aug\")\n",
    "    \n",
    "elif  x==9:\n",
    "    print(\"Sep\")\n",
    "    \n",
    "elif  x==10:\n",
    "    print(\"Oct\")\n",
    "    \n",
    "elif  x==11:\n",
    "    print(\"Nov\")\n",
    "    \n",
    "elif  x==12:\n",
    "    print(\"Dec\")\n",
    "\n",
    "    \n",
    "else: \n",
    "    print(\"invalid No\")"
   ]
  },
  {
   "cell_type": "code",
   "execution_count": null,
   "id": "2596c573",
   "metadata": {},
   "outputs": [],
   "source": [
    "m=int(input(\"Enter any no from 1 to 12 for month: \\n\"))\n",
    "print (f\"Enter your no: {m}\")\n",
    "if m==1:\n",
    "    print (\"January\".format(m))\n",
    "elif m==2:\n",
    "    print(\"February\".format(m))\n",
    "elif m==3:\n",
    "    print (\"March\".format(m))\n",
    "elif m==4:\n",
    "    print (\"April\".format(m))\n",
    "elif m==5:\n",
    "    print (\"May\".format(m))\n",
    "elif m==6:\n",
    "    print (\"June\".format(m))\n",
    "elif m==7:\n",
    "    print (\"July\".format(m))\n",
    "elif m==8:\n",
    "    print (\"August\".format(m))\n",
    "elif m==9:\n",
    "    print (\"September\".format(m))\n",
    "elif m==10:\n",
    "    print (\"October\".format(m))\n",
    "elif m==11:\n",
    "    print (\"November\".format(m))\n",
    "elif m==12:\n",
    "    print (\"December\".format(m))\n",
    "else :\n",
    "    print (\"No result found.\")"
   ]
  },
  {
   "cell_type": "code",
   "execution_count": null,
   "id": "ecaa709a",
   "metadata": {},
   "outputs": [],
   "source": [
    "# Accept any city from the user and display monument of that city.\n",
    "# City------------------------> Monuments\n",
    "# Delhi-----------------------> Red Fort\n",
    "# Agra------------------------> Taj Mahal\n",
    "# Jaipur----------------------> Jal Mahal\n",
    "# Kashmir---------------------> Tomb of Jain\n",
    "# Bihar-----------------------> Tomb of Sher Shahshuri\n",
    "# Display Month from jan to dec\n",
    "d=input(\"Enter City Name:\")\n",
    "if d==\"Delhi\":\n",
    "    print(\"Red Fort\")\n",
    "\n",
    "elif  d==\"Agra\":\n",
    "    print(\"Taj Mahal\")\n",
    "    \n",
    "elif  d==\"Jaipur\":\n",
    "    print(\"Jai Mahal\")\n",
    "    \n",
    "elif  d==\"Kashmir\":\n",
    "    print(\"Tomb of Jain\")\n",
    "\n",
    "elif  d==Bihar:\n",
    "    print(\"Tomb of Sher Shahshuri\")\n",
    "\n",
    "    \n",
    "else: \n",
    "    print(\"Enter Valid City Name\")"
   ]
  },
  {
   "cell_type": "code",
   "execution_count": 6,
   "id": "57592f45",
   "metadata": {},
   "outputs": [
    {
     "name": "stdout",
     "output_type": "stream",
     "text": [
      "Enter any name from the given list: \n",
      "delhi\n",
      "Enter city name: delhi\n",
      "Monument -- red Fort\n"
     ]
    }
   ],
   "source": [
    "c=str(input(\"Enter any name from the given list: \\n\"))\n",
    "print (f\"Enter city name: {c}\")\n",
    "\n",
    "if c.lower()==\"delhi\":\n",
    "    print (\"Monument -- red Fort\".format(c))\n",
    "elif c.lower()==\"Agra\":\n",
    "    print(\"Monument -- taj Mahal\".format(c))\n",
    "elif c.lower()==\"Jaipur\":\n",
    "    print (\"Monument -- jal Mahal\".format(c))\n",
    "elif c.lower()==\"Kashmir\":\n",
    "    print (\"Monument -- tomb of Jain\".format(c))\n",
    "elif c.lower()==\"Bihar\":\n",
    "    print (\"Monument -- tomb of Sher Shah Suri\".format(c))\n",
    "else:\n",
    "    print(\"No result found of your match\")"
   ]
  },
  {
   "cell_type": "code",
   "execution_count": 4,
   "id": "43df1354",
   "metadata": {},
   "outputs": [
    {
     "name": "stdout",
     "output_type": "stream",
     "text": [
      "enter city nameDelhi\n",
      "Red Fort\n"
     ]
    }
   ],
   "source": [
    "city=(input(\"enter city name\"))\n",
    "\n",
    "\n",
    "if city==\"Delhi\":\n",
    "    print(\"Red Fort\")\n",
    "elif city==\"Agra\":\n",
    "    print(\"Taj Mahal\")\n",
    "elif city==\"Jaipur\":\n",
    "    print(\"Jal Mahal\")\n",
    "elif city==\"Kashmir\":\n",
    "    print(\"Tomb Of Jain\")\n",
    "elif city==\"Bihar\":\n",
    "    print(\"Tomb of sher shahshuri\")\n",
    "else:\n",
    "    print(\"khud dhund lo\")"
   ]
  },
  {
   "cell_type": "code",
   "execution_count": null,
   "id": "fa8d8fe5",
   "metadata": {},
   "outputs": [],
   "source": []
  }
 ],
 "metadata": {
  "kernelspec": {
   "display_name": "Python 3 (ipykernel)",
   "language": "python",
   "name": "python3"
  },
  "language_info": {
   "codemirror_mode": {
    "name": "ipython",
    "version": 3
   },
   "file_extension": ".py",
   "mimetype": "text/x-python",
   "name": "python",
   "nbconvert_exporter": "python",
   "pygments_lexer": "ipython3",
   "version": "3.9.7"
  }
 },
 "nbformat": 4,
 "nbformat_minor": 5
}
