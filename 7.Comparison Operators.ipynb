{
 "cells": [
  {
   "cell_type": "markdown",
   "id": "59e328fd",
   "metadata": {},
   "source": [
    "# 7.Conditions in python"
   ]
  },
  {
   "cell_type": "markdown",
   "id": "11f2341f",
   "metadata": {},
   "source": [
    "Comparison operators"
   ]
  },
  {
   "cell_type": "markdown",
   "id": "63ea7af1",
   "metadata": {},
   "source": [
    "* Less than(<)\n",
    "* Less than or equal to(<=)\n",
    "* Greater than(>)\n",
    "* Greater than or equal(>=)\n",
    "* Equal to(==)\n",
    "* Not Equal to(!=)"
   ]
  },
  {
   "cell_type": "code",
   "execution_count": 2,
   "id": "ce038ad3",
   "metadata": {},
   "outputs": [
    {
     "name": "stdout",
     "output_type": "stream",
     "text": [
      "True\n",
      "True\n"
     ]
    }
   ],
   "source": [
    "# Take a variable\n",
    "x=1.618\n",
    "\n",
    "# Condition less than\n",
    "print(x<2) #The variable is lower than 2, thus output is True\n",
    "print(x>1) # The variable is greater than 2, thus output is True\n"
   ]
  },
  {
   "cell_type": "code",
   "execution_count": 3,
   "id": "84f7c68b",
   "metadata": {},
   "outputs": [
    {
     "name": "stdout",
     "output_type": "stream",
     "text": [
      "True\n",
      "False\n",
      "True\n"
     ]
    }
   ],
   "source": [
    "x_1=1.618\n",
    "\n",
    "print(x_1<=2)\n",
    "print(x_1<=1)\n",
    "print(x_1<=1.618)"
   ]
  },
  {
   "cell_type": "code",
   "execution_count": 4,
   "id": "01b6e887",
   "metadata": {},
   "outputs": [
    {
     "name": "stdout",
     "output_type": "stream",
     "text": [
      "False\n",
      "True\n"
     ]
    }
   ],
   "source": [
    "# Compare string\n",
    "print(\"Hello\"==\"World\")\n",
    "print(\"Hello\"!=\"World\")"
   ]
  },
  {
   "cell_type": "markdown",
   "id": "a9abda16",
   "metadata": {},
   "source": [
    "# Conditional (if, elif,else)"
   ]
  },
  {
   "cell_type": "markdown",
   "id": "b9cdddf4",
   "metadata": {},
   "source": [
    "* Decision making is required when we want to execute a code only if certain condition is satisfied.\n",
    "* The if/elif/else statement is used in python for decision making.\n",
    "* An else statement can be combined with an if statement.\n",
    "* An else statement contains the block of code that execute if the conditional expression in the if statement resolve to \n",
    "* 0 or a False value\n",
    "\n",
    "* The else statement is an optional statement and there could be at most only one else statement following if.\n",
    "* The elif statement allows you to check multiple expressions for True and execute a block of code as soon as one of the \n",
    "* conditions evaluates to True.\n",
    "\n",
    "* Similar to the else, the elif statement is optional."
   ]
  },
  {
   "cell_type": "code",
   "execution_count": 5,
   "id": "483fc981",
   "metadata": {},
   "outputs": [
    {
     "name": "stdout",
     "output_type": "stream",
     "text": [
      "The number pi 3.147 is greater than ratio 1.618.\n",
      "Done\n"
     ]
    }
   ],
   "source": [
    "pi=3.147\n",
    "ratio=1.618\n",
    "\n",
    "# This statement can be True or False\n",
    "if pi>ratio:\n",
    "    \n",
    "# if the conditions is True, the Following statement will be printed. Note f----> used as string formatting\n",
    "    print(f\"The number pi {pi} is greater than ratio {ratio}.\")\n",
    "    \n",
    "# The following statement will be printed in each situtation\n",
    "print(\"Done\")"
   ]
  },
  {
   "cell_type": "code",
   "execution_count": 6,
   "id": "85dd98c8",
   "metadata": {},
   "outputs": [
    {
     "name": "stdout",
     "output_type": "stream",
     "text": [
      "Hello, Python\n"
     ]
    }
   ],
   "source": [
    "if 2:\n",
    "    print(\"Hello, Python\")"
   ]
  },
  {
   "cell_type": "code",
   "execution_count": 7,
   "id": "6b575f58",
   "metadata": {},
   "outputs": [
    {
     "name": "stdout",
     "output_type": "stream",
     "text": [
      "This is True\n"
     ]
    }
   ],
   "source": [
    "if True:\n",
    "    print(\"This is True\")"
   ]
  },
  {
   "cell_type": "code",
   "execution_count": 8,
   "id": "6bc2c3c9",
   "metadata": {},
   "outputs": [
    {
     "name": "stdout",
     "output_type": "stream",
     "text": [
      "The ratio 1.618 is lower than the number pi 3.147.\n"
     ]
    }
   ],
   "source": [
    "pi=3.147\n",
    "ratio=1.618\n",
    "\n",
    "# This statement can be True or False\n",
    "if pi<ratio:\n",
    "    \n",
    "# if the conditions is True, the Following statement will be printed. Note f----> used as string formatting\n",
    "    print(f\"The number pi {pi} is greater than ratio {ratio}.\")\n",
    "    \n",
    "else:\n",
    "    print(f\"The ratio {ratio} is lower than the number pi {pi}.\")\n",
    "    "
   ]
  },
  {
   "cell_type": "code",
   "execution_count": 9,
   "id": "d3f9958f",
   "metadata": {},
   "outputs": [
    {
     "name": "stdout",
     "output_type": "stream",
     "text": [
      "you are a baby\n"
     ]
    }
   ],
   "source": [
    "age=5\n",
    "\n",
    "if age>6:\n",
    "    print(\"you can go to primary school\")\n",
    "else:\n",
    "    print(\"you are a baby\")"
   ]
  },
  {
   "cell_type": "code",
   "execution_count": 12,
   "id": "50547679",
   "metadata": {},
   "outputs": [
    {
     "name": "stdout",
     "output_type": "stream",
     "text": [
      "you are a baby\n"
     ]
    }
   ],
   "source": [
    "age1=7\n",
    "\n",
    "if age1>10:\n",
    "    print(\"you can go to primary school\")\n",
    "\n",
    "elif age1==11:\n",
    "    print(\"you should go to KG(Kinder Garden)\")\n",
    "elif age1==15:\n",
    "    print(\"you should go to School Daily.\")\n",
    "\n",
    "else:\n",
    "    print(\"you are a baby\")"
   ]
  },
  {
   "cell_type": "code",
   "execution_count": 19,
   "id": "30e0b6e7",
   "metadata": {},
   "outputs": [
    {
     "name": "stdout",
     "output_type": "stream",
     "text": [
      "Done\n"
     ]
    }
   ],
   "source": [
    "album_year=2000\n",
    "album_year=1990\n",
    "if album_year>=1995:\n",
    "    print(\"Album year is higher than 1995.\")\n",
    "print(\"Done\")"
   ]
  },
  {
   "cell_type": "code",
   "execution_count": 20,
   "id": "01e21b68",
   "metadata": {},
   "outputs": [
    {
     "name": "stdout",
     "output_type": "stream",
     "text": [
      "Album year is higher than 1995.\n"
     ]
    }
   ],
   "source": [
    "album_year=2000\n",
    "#album_year=1990\n",
    "if album_year>=1995:\n",
    "    print(\"Album year is higher than 1995.\")\n",
    "    \n",
    "else:\n",
    "    print(\"Album year is lower than 1995.\")"
   ]
  },
  {
   "cell_type": "code",
   "execution_count": 21,
   "id": "5a0f0d0f",
   "metadata": {},
   "outputs": [
    {
     "name": "stdout",
     "output_type": "stream",
     "text": [
      "This movie could win Oscar.\n"
     ]
    }
   ],
   "source": [
    "imdb=9.0\n",
    "if imdb>8.5:\n",
    "    print(\"This movie could win Oscar.\")"
   ]
  },
  {
   "cell_type": "code",
   "execution_count": 25,
   "id": "22b72cc7",
   "metadata": {},
   "outputs": [
    {
     "name": "stdout",
     "output_type": "stream",
     "text": [
      "Enter a rating number:\n",
      "9.0\n",
      "The entered movie rating is:9.0\n",
      "The movie is awasome with rating and you should watch if.\n"
     ]
    }
   ],
   "source": [
    "movie_rating=float(input(\"Enter a rating number:\\n\"))\n",
    "print(f\"The entered movie rating is:{movie_rating}\")\n",
    "\n",
    "if movie_rating>8.5:\n",
    "    print(\"The movie is awasome with rating and you should watch if.\")\n",
    "else:\n",
    "    print(\"The movie has merit to be watched with {} rating.\".format(movie_rating))"
   ]
  },
  {
   "cell_type": "code",
   "execution_count": 27,
   "id": "a8b56d5f",
   "metadata": {},
   "outputs": [
    {
     "name": "stdout",
     "output_type": "stream",
     "text": [
      "Enter your age16\n",
      "The entered age is:16\n",
      "You can't watch movie in Theater\n"
     ]
    }
   ],
   "source": [
    "age=int(input(\"Enter your age\"))\n",
    "print(f\"The entered age is:{age}\")\n",
    "\n",
    "if age>18:\n",
    "    print(\"Age is Granted to watch movie in the Theater\")\n",
    "else:\n",
    "    print(\"You can't watch movie in Theater\")"
   ]
  },
  {
   "cell_type": "code",
   "execution_count": 28,
   "id": "89720d87",
   "metadata": {},
   "outputs": [
    {
     "name": "stdout",
     "output_type": "stream",
     "text": [
      "Enter Your Age:16\n",
      "Tell me Your Age : 16\n",
      "Go Home\n"
     ]
    }
   ],
   "source": [
    "age2= int(input(\"Enter Your Age:\"))\n",
    "print(f\"Tell me Your Age : {age2}\")\n",
    "\n",
    "if age2 > 18 :\n",
    "    print(\"You can watch Movie here\")\n",
    "    \n",
    "else:\n",
    "    print(\"Go Home\")"
   ]
  },
  {
   "cell_type": "code",
   "execution_count": 30,
   "id": "57175b96",
   "metadata": {},
   "outputs": [
    {
     "name": "stdout",
     "output_type": "stream",
     "text": [
      "Enter age no: \n",
      "12\n",
      "Enter age no: 12.0\n",
      "You are allowed to watch at home\n"
     ]
    }
   ],
   "source": [
    "mr1=float(input(\"Enter age no: \\n\"))\n",
    "print (f\"Enter age no: {mr1}\")\n",
    "if mr1>18:\n",
    "    print (\" You can watch a movie in theatre\".format(mr1))\n",
    "else:\n",
    "    print (\"You are allowed to watch at home\".format(mr1))"
   ]
  },
  {
   "cell_type": "code",
   "execution_count": null,
   "id": "ef414b73",
   "metadata": {},
   "outputs": [],
   "source": []
  }
 ],
 "metadata": {
  "kernelspec": {
   "display_name": "Python 3 (ipykernel)",
   "language": "python",
   "name": "python3"
  },
  "language_info": {
   "codemirror_mode": {
    "name": "ipython",
    "version": 3
   },
   "file_extension": ".py",
   "mimetype": "text/x-python",
   "name": "python",
   "nbconvert_exporter": "python",
   "pygments_lexer": "ipython3",
   "version": "3.9.7"
  }
 },
 "nbformat": 4,
 "nbformat_minor": 5
}
