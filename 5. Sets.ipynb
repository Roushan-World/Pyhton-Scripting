{
 "cells": [
  {
   "cell_type": "markdown",
   "id": "c7bedbe3",
   "metadata": {},
   "source": [
    "# 5.  Sets in python"
   ]
  },
  {
   "cell_type": "markdown",
   "id": "921e56a5",
   "metadata": {},
   "source": [
    "* Sets are unordered, but you can remove items and add new items\n",
    "* Sets elements are unique. Duplicate elements are not allowed.\n",
    "* A sets itself may be modified, but the elemets contained in the set \n",
    "* must be of an immutable type.\n",
    "\n",
    "* Sets are used to store multiple items in single variables.\n",
    "* You can denote a set with a pair of curly brackets {}."
   ]
  },
  {
   "cell_type": "code",
   "execution_count": 1,
   "id": "4a55250a",
   "metadata": {},
   "outputs": [
    {
     "name": "stdout",
     "output_type": "stream",
     "text": [
      "<class 'dict'>\n"
     ]
    }
   ],
   "source": [
    "# The empty of curly braces denotes empty dictionary, not empty set\n",
    "x={}\n",
    "print(type(x))"
   ]
  },
  {
   "cell_type": "code",
   "execution_count": 2,
   "id": "6e0d9f1e",
   "metadata": {},
   "outputs": [
    {
     "name": "stdout",
     "output_type": "stream",
     "text": [
      "<class 'set'>\n"
     ]
    }
   ],
   "source": [
    "# To take a set without element, use set() function without any items.\n",
    "y=set()\n",
    "print(type(y))"
   ]
  },
  {
   "cell_type": "code",
   "execution_count": 5,
   "id": "1fc0a156",
   "metadata": {},
   "outputs": [
    {
     "data": {
      "text/plain": [
       "{1.618, 2022, 3.14, False, 'Hello Python', 'Hello World', True}"
      ]
     },
     "execution_count": 5,
     "metadata": {},
     "output_type": "execute_result"
    }
   ],
   "source": [
    "# Take a set\n",
    "set1={\"Hello Python\",3.14,1.618,'Hello World',3.14,1.618,True, False,2022}\n",
    "set1"
   ]
  },
  {
   "cell_type": "code",
   "execution_count": 6,
   "id": "f35e21d6",
   "metadata": {},
   "outputs": [
    {
     "data": {
      "text/plain": [
       "{1.618, 2022, 3.14, False, 'Hello Python', 'Hello World', True}"
      ]
     },
     "execution_count": 6,
     "metadata": {},
     "output_type": "execute_result"
    }
   ],
   "source": [
    "set2=[\"Hello Python\",3.14,1.618,'Hello World',3.14,1.618,True, False,2022]\n",
    "\n",
    "#Convert the list to set\n",
    "\n",
    "set3=set(set2)\n",
    "set3"
   ]
  },
  {
   "cell_type": "code",
   "execution_count": 9,
   "id": "bd2cd985",
   "metadata": {},
   "outputs": [
    {
     "data": {
      "text/plain": [
       "{1.618,\n",
       " 2022,\n",
       " 3.14,\n",
       " False,\n",
       " 'Hello Everyone',\n",
       " 'Hello Python',\n",
       " 'Hello World',\n",
       " True}"
      ]
     },
     "execution_count": 9,
     "metadata": {},
     "output_type": "execute_result"
    }
   ],
   "source": [
    "#Addition of an element to the set.\n",
    "\n",
    "set4={\"Hello Python\",3.14,1.618,'Hello World',3.14,1.618,True, False,2022}\n",
    "set4.add(\"Hello Everyone\")\n",
    "set4"
   ]
  },
  {
   "cell_type": "code",
   "execution_count": 12,
   "id": "0df97b61",
   "metadata": {},
   "outputs": [
    {
     "name": "stdout",
     "output_type": "stream",
     "text": [
      "{2, 5, 6, 'Hello Everyone', 10}\n"
     ]
    },
    {
     "data": {
      "text/plain": [
       "{10, 2, 3, 4, 5, 6, 'Hello Everyone'}"
      ]
     },
     "execution_count": 12,
     "metadata": {},
     "output_type": "execute_result"
    }
   ],
   "source": [
    "x_set={\"Hello Everyone\",2,5,6,10}\n",
    "print(x_set)\n",
    "x_set.update({3,4,5})\n",
    "x_set\n"
   ]
  },
  {
   "cell_type": "code",
   "execution_count": 17,
   "id": "16a9d6eb",
   "metadata": {},
   "outputs": [
    {
     "data": {
      "text/plain": [
       "{('Apple', 'Boy', 'Cat', 'Dog'), 10, 2, 5, 6, 'Hello Everyone'}"
      ]
     },
     "execution_count": 17,
     "metadata": {},
     "output_type": "execute_result"
    }
   ],
   "source": [
    "# (\"Apple\",\"Boy\",\"Cat\",\"Dog\"),[200,100]\n",
    "x_set1={\"Hello Everyone\",2,5,6,10}\n",
    "x_set1.update({(\"Apple\",\"Boy\",\"Cat\",\"Dog\")})\n",
    "x_set1"
   ]
  },
  {
   "cell_type": "code",
   "execution_count": 19,
   "id": "22387625",
   "metadata": {},
   "outputs": [
    {
     "data": {
      "text/plain": [
       "{2, 5, 6, 10}"
      ]
     },
     "execution_count": 19,
     "metadata": {},
     "output_type": "execute_result"
    }
   ],
   "source": [
    "x_set3={\"Hello Everyone\",2,5,6,10}\n",
    "x_set3.remove(\"Hello Everyone\")\n",
    "x_set3"
   ]
  },
  {
   "cell_type": "markdown",
   "id": "404d5c0f",
   "metadata": {},
   "source": [
    "# Logical operations in sets"
   ]
  },
  {
   "cell_type": "code",
   "execution_count": 20,
   "id": "433b46ec",
   "metadata": {},
   "outputs": [
    {
     "data": {
      "text/plain": [
       "({1.618, 3.14, 'Hello Python!', 'Hello World'},\n",
       " {False, True, 1.618, 3.14, 2022})"
      ]
     },
     "execution_count": 20,
     "metadata": {},
     "output_type": "execute_result"
    }
   ],
   "source": [
    "# Take two sets\n",
    "set4=({\"Hello Python!\",3.14,1.618,\"Hello World\"})\n",
    "set5=set([3.14,1.618,True, False,2022])\n",
    "\n",
    "#Printing two sets\n",
    "set4,set5"
   ]
  },
  {
   "cell_type": "markdown",
   "id": "3c48e1de",
   "metadata": {},
   "source": [
    "# To find the intersect of two sets using &"
   ]
  },
  {
   "cell_type": "code",
   "execution_count": 21,
   "id": "a33e98f2",
   "metadata": {},
   "outputs": [
    {
     "data": {
      "text/plain": [
       "{1.618, 3.14}"
      ]
     },
     "execution_count": 21,
     "metadata": {},
     "output_type": "execute_result"
    }
   ],
   "source": [
    "intersection=set4&set5\n",
    "intersection"
   ]
  },
  {
   "cell_type": "code",
   "execution_count": 22,
   "id": "ae7fdb9d",
   "metadata": {},
   "outputs": [
    {
     "data": {
      "text/plain": [
       "{1.618, 3.14}"
      ]
     },
     "execution_count": 22,
     "metadata": {},
     "output_type": "execute_result"
    }
   ],
   "source": [
    "set4.intersection(set5)"
   ]
  },
  {
   "cell_type": "markdown",
   "id": "1b1ec69c",
   "metadata": {},
   "source": [
    "# difference() function"
   ]
  },
  {
   "cell_type": "code",
   "execution_count": 26,
   "id": "22eadd67",
   "metadata": {},
   "outputs": [
    {
     "name": "stdout",
     "output_type": "stream",
     "text": [
      "{'Hello World', 'Hello Python!'}\n",
      "{False, True, 2022}\n",
      "{'Hello World', 'Hello Python!'}\n",
      "{False, True, 2022}\n"
     ]
    }
   ],
   "source": [
    "print(set4.difference(set5))\n",
    "print(set5.difference(set4))\n",
    "\n",
    "print(set4-set5)\n",
    "print(set5-set4)"
   ]
  },
  {
   "cell_type": "code",
   "execution_count": null,
   "id": "ecd66b43",
   "metadata": {},
   "outputs": [],
   "source": []
  },
  {
   "cell_type": "code",
   "execution_count": null,
   "id": "47729592",
   "metadata": {},
   "outputs": [],
   "source": []
  }
 ],
 "metadata": {
  "kernelspec": {
   "display_name": "Python 3 (ipykernel)",
   "language": "python",
   "name": "python3"
  },
  "language_info": {
   "codemirror_mode": {
    "name": "ipython",
    "version": 3
   },
   "file_extension": ".py",
   "mimetype": "text/x-python",
   "name": "python",
   "nbconvert_exporter": "python",
   "pygments_lexer": "ipython3",
   "version": "3.9.7"
  }
 },
 "nbformat": 4,
 "nbformat_minor": 5
}
