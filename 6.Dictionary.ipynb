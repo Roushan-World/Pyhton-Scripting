{
 "cells": [
  {
   "cell_type": "markdown",
   "id": "b947df40",
   "metadata": {},
   "source": [
    "# 6. Dictionaries in Python"
   ]
  },
  {
   "cell_type": "markdown",
   "id": "e3bd1f0a",
   "metadata": {},
   "source": [
    "* Dictionary are used to store data values in keys:value pairs.\n",
    "* A Dictionary is a Collection which is ordered. Changeable or mutable and do not allow duplicates.\n",
    "* Dictionaries cannot have two items with the same keys.\n",
    "* A dictionary can nested and can contain another dictionary.\n",
    "* Dictionary are changeable , meaning that we can change, add or remove items after the dictionary has \n",
    "* been created."
   ]
  },
  {
   "cell_type": "markdown",
   "id": "62be204f",
   "metadata": {},
   "source": [
    "* Keys and Values\n",
    "* Keys-----------Values\n",
    "* 'name'   : 'Sanorita'\n",
    "* 'age'    : ' 25'\n",
    "* 'job'    : ' Dev'\n",
    "* 'City'   : ' New york'\n",
    "* 'e-mail' : 'dev@web.com'"
   ]
  },
  {
   "cell_type": "code",
   "execution_count": 13,
   "id": "26078f4d",
   "metadata": {},
   "outputs": [
    {
     "data": {
      "text/plain": [
       "{'key_1': 1.618, 'key_2': True, 'key_3': [1, 2, 3, 4, 5, 'hello World']}"
      ]
     },
     "execution_count": 13,
     "metadata": {},
     "output_type": "execute_result"
    }
   ],
   "source": [
    "#Take a sample of Dictionary\n",
    "sample_dictionary={\n",
    "    'key_1':1.618,\n",
    "    'key_2':True,\n",
    "    'key_3':[1,2,3,4,5,(\"hello World\")]\n",
    "}\n",
    "sample_dictionary"
   ]
  },
  {
   "cell_type": "code",
   "execution_count": 16,
   "id": "d40dd618",
   "metadata": {},
   "outputs": [
    {
     "name": "stdout",
     "output_type": "stream",
     "text": [
      "1.618\n",
      "True\n",
      "[1, 2, 3, 4, 5, 'hello World']\n"
     ]
    }
   ],
   "source": [
    "# Accessing to the value using the key\n",
    "print(sample_dictionary['key_1'])\n",
    "print(sample_dictionary['key_2'])\n",
    "print(sample_dictionary['key_3'])"
   ]
  },
  {
   "cell_type": "code",
   "execution_count": 18,
   "id": "713c4de9",
   "metadata": {},
   "outputs": [
    {
     "data": {
      "text/plain": [
       "{'Biscuit': 'GoodDays',\n",
       " 'price': 10,\n",
       " 'Quantity': 1,\n",
       " 'Biscuite': 'Top',\n",
       " 'Taste': 'jeera'}"
      ]
     },
     "execution_count": 18,
     "metadata": {},
     "output_type": "execute_result"
    }
   ],
   "source": [
    "#Take a sample of Dictionary\n",
    "product={\n",
    "    'Biscuit':'GoodDays',\n",
    "    'price':5.0,\n",
    "    'Quantity':1,\n",
    "    'Biscuite':'Top',\n",
    "    'price':10,\n",
    "    'Taste':'jeera'\n",
    "    \n",
    "}\n",
    "product"
   ]
  },
  {
   "cell_type": "code",
   "execution_count": 21,
   "id": "96ff9dbb",
   "metadata": {},
   "outputs": [
    {
     "data": {
      "text/plain": [
       "dict_keys(['Biscuit', 'price', 'Quantity', 'Biscuite', 'Taste'])"
      ]
     },
     "execution_count": 21,
     "metadata": {},
     "output_type": "execute_result"
    }
   ],
   "source": [
    "product.keys()"
   ]
  },
  {
   "cell_type": "code",
   "execution_count": 22,
   "id": "4ff1fe66",
   "metadata": {},
   "outputs": [
    {
     "data": {
      "text/plain": [
       "dict_values(['GoodDays', 10, 1, 'Top', 'jeera'])"
      ]
     },
     "execution_count": 22,
     "metadata": {},
     "output_type": "execute_result"
    }
   ],
   "source": [
    "product.values()"
   ]
  },
  {
   "cell_type": "markdown",
   "id": "1d0b06a5",
   "metadata": {},
   "source": [
    "# Addition of a new key:value pair in the dictionary"
   ]
  },
  {
   "cell_type": "code",
   "execution_count": 23,
   "id": "9617b1c8",
   "metadata": {},
   "outputs": [
    {
     "data": {
      "text/plain": [
       "{'Biscuit': 'GoodDays',\n",
       " 'price': 10,\n",
       " 'Quantity': 1,\n",
       " 'Biscuite': 'Top',\n",
       " 'Taste': 'jeera',\n",
       " 'Biscuit_1': 'Googly'}"
      ]
     },
     "execution_count": 23,
     "metadata": {},
     "output_type": "execute_result"
    }
   ],
   "source": [
    "product['Biscuit_1']='Googly'\n",
    "product"
   ]
  },
  {
   "cell_type": "markdown",
   "id": "6e782a06",
   "metadata": {},
   "source": [
    "# Delete an item using del() function in the dictionary by key"
   ]
  },
  {
   "cell_type": "code",
   "execution_count": 24,
   "id": "6ab0f717",
   "metadata": {},
   "outputs": [
    {
     "data": {
      "text/plain": [
       "{'Biscuit': 'GoodDays',\n",
       " 'price': 10,\n",
       " 'Quantity': 1,\n",
       " 'Biscuite': 'Top',\n",
       " 'Taste': 'jeera'}"
      ]
     },
     "execution_count": 24,
     "metadata": {},
     "output_type": "execute_result"
    }
   ],
   "source": [
    "del(product['Biscuit_1'])\n",
    "product"
   ]
  },
  {
   "cell_type": "code",
   "execution_count": 25,
   "id": "31e9b2ff",
   "metadata": {},
   "outputs": [
    {
     "name": "stdout",
     "output_type": "stream",
     "text": [
      "False\n",
      "{'Biscuit': 'GoodDays', 'price': 10, 'Quantity': 1, 'Biscuite': 'Top', 'Taste': 'jeera'}\n"
     ]
    }
   ],
   "source": [
    "print('MilkBikies'in product)\n",
    "print(product)"
   ]
  },
  {
   "cell_type": "code",
   "execution_count": null,
   "id": "43c53a8f",
   "metadata": {},
   "outputs": [],
   "source": [
    "# print('MilkBikies' not in product)\n",
    "print(product)"
   ]
  },
  {
   "cell_type": "code",
   "execution_count": 28,
   "id": "a1885fae",
   "metadata": {},
   "outputs": [
    {
     "data": {
      "text/plain": [
       "{'Biscuit_1': 'Gooddays',\n",
       " 'price_1': 5,\n",
       " 'Quantity_1': 1,\n",
       " 'Biscuit_2': 'Top',\n",
       " 'price_2': 10,\n",
       " 'Quantity_2': 5,\n",
       " 'Taste': 'jeera',\n",
       " 'Biscuit_3': 'parle',\n",
       " 'price_3': 50.0,\n",
       " 'Quantity_3': 100,\n",
       " 'Balaji_4': 'cream&Onion',\n",
       " 'price_4': 10,\n",
       " 'Quantity_4': 5,\n",
       " 'Biscuit_5': 'milkbikies',\n",
       " 'price_5': 5.0,\n",
       " 'Quantity_5': 5,\n",
       " 'Biscuit_6': 'monaco',\n",
       " 'price_6': 15.0,\n",
       " 'Quantity_6': 10,\n",
       " 'Balaji_7': 'Tomato',\n",
       " 'price_7': 10,\n",
       " 'Quantity_7': 5,\n",
       " 'Balaji_8': 'chaskaMaska',\n",
       " 'price_8': 10,\n",
       " 'Quantity_8': 5}"
      ]
     },
     "execution_count": 28,
     "metadata": {},
     "output_type": "execute_result"
    }
   ],
   "source": [
    "# Take a Sample of Dictionary \n",
    "product={\n",
    "    'Biscuit_1':'Gooddays',\n",
    "    'price_1':5,\n",
    "    'Quantity_1':1,\n",
    "    'Biscuit_2':'Top',\n",
    "    'price_2':10,\n",
    "    'Quantity_2':5,\n",
    "    'Taste':'jeera',\n",
    "    'Biscuit_3':'parle',\n",
    "    'price_3':50.0,\n",
    "    'Quantity_3':100,\n",
    "    'Balaji_4':'cream&Onion',\n",
    "    'price_4':10,\n",
    "    'Quantity_4':5,\n",
    "'Biscuit_5':'milkbikies',\n",
    "    'price_5':5.0,\n",
    "    'Quantity_5':5,\n",
    "'Biscuit_6':'monaco',\n",
    "    'price_6':15.0,\n",
    "    'Quantity_6':10,\n",
    "'Balaji_7':'Tomato',\n",
    "    'price_7':10,\n",
    "    'Quantity_7':5,\n",
    "'Balaji_8':'chaskaMaska',\n",
    "    'price_8':10,\n",
    "    'Quantity_8':5,\n",
    "\n",
    "}\n",
    "product"
   ]
  },
  {
   "cell_type": "code",
   "execution_count": 31,
   "id": "13ba2f0a",
   "metadata": {},
   "outputs": [
    {
     "name": "stdout",
     "output_type": "stream",
     "text": [
      "True\n"
     ]
    }
   ],
   "source": [
    "print(\"Biscuit_5\" in product)"
   ]
  },
  {
   "cell_type": "markdown",
   "id": "d452d56d",
   "metadata": {},
   "source": [
    "# dict() function"
   ]
  },
  {
   "cell_type": "code",
   "execution_count": 34,
   "id": "17123940",
   "metadata": {},
   "outputs": [
    {
     "ename": "SyntaxError",
     "evalue": "invalid syntax (Temp/ipykernel_7396/955951431.py, line 1)",
     "output_type": "error",
     "traceback": [
      "\u001b[1;36m  File \u001b[1;32m\"C:\\Users\\ROUSHA~1\\AppData\\Local\\Temp/ipykernel_7396/955951431.py\"\u001b[1;36m, line \u001b[1;32m1\u001b[0m\n\u001b[1;33m    dict_function=(family=\"music\",type='pop',years='2022',name='happy new year')\u001b[0m\n\u001b[1;37m                         ^\u001b[0m\n\u001b[1;31mSyntaxError\u001b[0m\u001b[1;31m:\u001b[0m invalid syntax\n"
     ]
    }
   ],
   "source": [
    "dict_function=(family=\"music\",type='pop',years='2022',name='happy new year')\n",
    "dict_function"
   ]
  },
  {
   "cell_type": "code",
   "execution_count": 35,
   "id": "4fc5b5b5",
   "metadata": {},
   "outputs": [
    {
     "data": {
      "text/plain": [
       "{'family': 'music', 'type': 'pop', 'years': '2022', 'name': 'happy new year'}"
      ]
     },
     "execution_count": 35,
     "metadata": {},
     "output_type": "execute_result"
    }
   ],
   "source": [
    "dict_function=dict(family=\"music\",type='pop',years='2022',name='happy new year')\n",
    "dict_function"
   ]
  },
  {
   "cell_type": "code",
   "execution_count": 36,
   "id": "ed6b563a",
   "metadata": {},
   "outputs": [
    {
     "ename": "KeyError",
     "evalue": "1",
     "output_type": "error",
     "traceback": [
      "\u001b[1;31m---------------------------------------------------------------------------\u001b[0m",
      "\u001b[1;31mKeyError\u001b[0m                                  Traceback (most recent call last)",
      "\u001b[1;32mC:\\Users\\ROUSHA~1\\AppData\\Local\\Temp/ipykernel_7396/3155443444.py\u001b[0m in \u001b[0;36m<module>\u001b[1;34m\u001b[0m\n\u001b[1;32m----> 1\u001b[1;33m \u001b[0mdict_function\u001b[0m\u001b[1;33m[\u001b[0m\u001b[1;36m1\u001b[0m\u001b[1;33m]\u001b[0m\u001b[1;33m\u001b[0m\u001b[1;33m\u001b[0m\u001b[0m\n\u001b[0m",
      "\u001b[1;31mKeyError\u001b[0m: 1"
     ]
    }
   ],
   "source": [
    "dict_function[1]"
   ]
  },
  {
   "cell_type": "code",
   "execution_count": 37,
   "id": "427bb098",
   "metadata": {},
   "outputs": [
    {
     "ename": "SyntaxError",
     "evalue": "invalid syntax (Temp/ipykernel_7396/1404836499.py, line 1)",
     "output_type": "error",
     "traceback": [
      "\u001b[1;36m  File \u001b[1;32m\"C:\\Users\\ROUSHA~1\\AppData\\Local\\Temp/ipykernel_7396/1404836499.py\"\u001b[1;36m, line \u001b[1;32m1\u001b[0m\n\u001b[1;33m    dict_function=(family=\"music\",type='pop',years='2022',name='happy new year')\u001b[0m\n\u001b[1;37m                         ^\u001b[0m\n\u001b[1;31mSyntaxError\u001b[0m\u001b[1;31m:\u001b[0m invalid syntax\n"
     ]
    }
   ],
   "source": [
    "#Clear() Function\n",
    "dict_function=(family=\"music\",type='pop',years='2022',name='happy new year')\n",
    "dict_function.clear()\n",
    "dict_function"
   ]
  },
  {
   "cell_type": "code",
   "execution_count": null,
   "id": "b77e1f1c",
   "metadata": {},
   "outputs": [],
   "source": []
  }
 ],
 "metadata": {
  "kernelspec": {
   "display_name": "Python 3 (ipykernel)",
   "language": "python",
   "name": "python3"
  },
  "language_info": {
   "codemirror_mode": {
    "name": "ipython",
    "version": 3
   },
   "file_extension": ".py",
   "mimetype": "text/x-python",
   "name": "python",
   "nbconvert_exporter": "python",
   "pygments_lexer": "ipython3",
   "version": "3.9.7"
  }
 },
 "nbformat": 4,
 "nbformat_minor": 5
}
