{
 "cells": [
  {
   "cell_type": "markdown",
   "id": "aae657ea",
   "metadata": {},
   "source": [
    "# String_Methods"
   ]
  },
  {
   "cell_type": "code",
   "execution_count": 2,
   "id": "91478d44",
   "metadata": {},
   "outputs": [
    {
     "data": {
      "text/plain": [
       "'My name is Hello World'"
      ]
     },
     "execution_count": 2,
     "metadata": {},
     "output_type": "execute_result"
    }
   ],
   "source": [
    "x=\"My name is Hello World\"\n",
    "x"
   ]
  },
  {
   "cell_type": "code",
   "execution_count": 3,
   "id": "3c66cb16",
   "metadata": {},
   "outputs": [
    {
     "data": {
      "text/plain": [
       "'My name is hello world'"
      ]
     },
     "execution_count": 3,
     "metadata": {},
     "output_type": "execute_result"
    }
   ],
   "source": [
    "x.capitalize()"
   ]
  },
  {
   "cell_type": "code",
   "execution_count": 4,
   "id": "4b327bc1",
   "metadata": {},
   "outputs": [
    {
     "data": {
      "text/plain": [
       "'my name is hello world'"
      ]
     },
     "execution_count": 4,
     "metadata": {},
     "output_type": "execute_result"
    }
   ],
   "source": [
    "x.lower()"
   ]
  },
  {
   "cell_type": "code",
   "execution_count": 5,
   "id": "c96f7235",
   "metadata": {},
   "outputs": [
    {
     "data": {
      "text/plain": [
       "'MY NAME IS HELLO WORLD'"
      ]
     },
     "execution_count": 5,
     "metadata": {},
     "output_type": "execute_result"
    }
   ],
   "source": [
    "x.upper()"
   ]
  },
  {
   "cell_type": "code",
   "execution_count": 14,
   "id": "b8e24448",
   "metadata": {},
   "outputs": [
    {
     "data": {
      "text/plain": [
       "1"
      ]
     },
     "execution_count": 14,
     "metadata": {},
     "output_type": "execute_result"
    }
   ],
   "source": [
    "x.count('H')"
   ]
  },
  {
   "cell_type": "code",
   "execution_count": 15,
   "id": "58ba10f3",
   "metadata": {},
   "outputs": [
    {
     "data": {
      "text/plain": [
       "3"
      ]
     },
     "execution_count": 15,
     "metadata": {},
     "output_type": "execute_result"
    }
   ],
   "source": [
    "x.count('l')"
   ]
  },
  {
   "cell_type": "code",
   "execution_count": 16,
   "id": "8ed703a1",
   "metadata": {},
   "outputs": [
    {
     "data": {
      "text/plain": [
       "1"
      ]
     },
     "execution_count": 16,
     "metadata": {},
     "output_type": "execute_result"
    }
   ],
   "source": [
    "x.count('m')"
   ]
  },
  {
   "cell_type": "code",
   "execution_count": 19,
   "id": "6bcb7ae4",
   "metadata": {},
   "outputs": [
    {
     "data": {
      "text/plain": [
       "11"
      ]
     },
     "execution_count": 19,
     "metadata": {},
     "output_type": "execute_result"
    }
   ],
   "source": [
    "x.index('H')"
   ]
  },
  {
   "cell_type": "code",
   "execution_count": 20,
   "id": "9277a9ea",
   "metadata": {},
   "outputs": [
    {
     "data": {
      "text/plain": [
       "5"
      ]
     },
     "execution_count": 20,
     "metadata": {},
     "output_type": "execute_result"
    }
   ],
   "source": [
    "x.index('m')"
   ]
  },
  {
   "cell_type": "code",
   "execution_count": 21,
   "id": "f2b2ff64",
   "metadata": {},
   "outputs": [
    {
     "data": {
      "text/plain": [
       "11"
      ]
     },
     "execution_count": 21,
     "metadata": {},
     "output_type": "execute_result"
    }
   ],
   "source": [
    "x.find(\"Hello\")"
   ]
  },
  {
   "cell_type": "code",
   "execution_count": 23,
   "id": "198c63c5",
   "metadata": {},
   "outputs": [
    {
     "data": {
      "text/plain": [
       "'08-12-2022'"
      ]
     },
     "execution_count": 23,
     "metadata": {},
     "output_type": "execute_result"
    }
   ],
   "source": [
    "y=\"08-12-2022\"\n",
    "y"
   ]
  },
  {
   "cell_type": "code",
   "execution_count": 25,
   "id": "709d5508",
   "metadata": {},
   "outputs": [
    {
     "data": {
      "text/plain": [
       "'08/12/2022'"
      ]
     },
     "execution_count": 25,
     "metadata": {},
     "output_type": "execute_result"
    }
   ],
   "source": [
    "y.replace('-','/')"
   ]
  },
  {
   "cell_type": "code",
   "execution_count": 28,
   "id": "46a80d3a",
   "metadata": {},
   "outputs": [
    {
     "data": {
      "text/plain": [
       "'31/01/2022'"
      ]
     },
     "execution_count": 28,
     "metadata": {},
     "output_type": "execute_result"
    }
   ],
   "source": [
    "z=\"31/01/2022\"\n",
    "z"
   ]
  },
  {
   "cell_type": "code",
   "execution_count": 30,
   "id": "4fe491ef",
   "metadata": {},
   "outputs": [
    {
     "data": {
      "text/plain": [
       "['31', '01', '2022']"
      ]
     },
     "execution_count": 30,
     "metadata": {},
     "output_type": "execute_result"
    }
   ],
   "source": [
    "z.split('/')"
   ]
  },
  {
   "cell_type": "code",
   "execution_count": 38,
   "id": "17c3f1a9",
   "metadata": {},
   "outputs": [
    {
     "data": {
      "text/plain": [
       "True"
      ]
     },
     "execution_count": 38,
     "metadata": {},
     "output_type": "execute_result"
    }
   ],
   "source": [
    "t=\"123abc\"\n",
    "t.isalnum()"
   ]
  },
  {
   "cell_type": "code",
   "execution_count": 41,
   "id": "82c089c9",
   "metadata": {},
   "outputs": [
    {
     "data": {
      "text/plain": [
       "True"
      ]
     },
     "execution_count": 41,
     "metadata": {},
     "output_type": "execute_result"
    }
   ],
   "source": [
    "b=\"123456\"\n",
    "b.isnumeric()"
   ]
  },
  {
   "cell_type": "code",
   "execution_count": 46,
   "id": "40dcd66d",
   "metadata": {},
   "outputs": [
    {
     "data": {
      "text/plain": [
       "'hello world'"
      ]
     },
     "execution_count": 46,
     "metadata": {},
     "output_type": "execute_result"
    }
   ],
   "source": [
    "w=\"hello world\"\n",
    "w"
   ]
  },
  {
   "cell_type": "code",
   "execution_count": 47,
   "id": "de048b67",
   "metadata": {},
   "outputs": [
    {
     "data": {
      "text/plain": [
       "True"
      ]
     },
     "execution_count": 47,
     "metadata": {},
     "output_type": "execute_result"
    }
   ],
   "source": [
    "w.islower()"
   ]
  },
  {
   "cell_type": "code",
   "execution_count": 48,
   "id": "1ed71392",
   "metadata": {},
   "outputs": [
    {
     "data": {
      "text/plain": [
       "'HELLO WORLD'"
      ]
     },
     "execution_count": 48,
     "metadata": {},
     "output_type": "execute_result"
    }
   ],
   "source": [
    "e=\"HELLO WORLD\"\n",
    "e"
   ]
  },
  {
   "cell_type": "code",
   "execution_count": 49,
   "id": "7b3a94f5",
   "metadata": {},
   "outputs": [
    {
     "data": {
      "text/plain": [
       "True"
      ]
     },
     "execution_count": 49,
     "metadata": {},
     "output_type": "execute_result"
    }
   ],
   "source": [
    "e.isupper()"
   ]
  },
  {
   "cell_type": "code",
   "execution_count": 51,
   "id": "0c966a06",
   "metadata": {},
   "outputs": [
    {
     "name": "stdout",
     "output_type": "stream",
     "text": [
      "Before uppercase: hello python!\n",
      "After uppercase: HELLO PYTHON!\n"
     ]
    }
   ],
   "source": [
    "message=\"hello python!\"\n",
    "print(\"Before uppercase:\",message)\n",
    "\n",
    "#Convert uppercase the elements in a string\n",
    "message_upper=message.upper()\n",
    "print(\"After uppercase:\",message_upper)\n",
    "\n",
    "\n",
    "#Convert lowercase the elements in a string\n"
   ]
  },
  {
   "cell_type": "code",
   "execution_count": 53,
   "id": "e8e65510",
   "metadata": {},
   "outputs": [
    {
     "name": "stdout",
     "output_type": "stream",
     "text": [
      "Hi Python!\n",
      "hello python!\n"
     ]
    }
   ],
   "source": [
    "#replace() method in a string\n",
    "message2=\"Hello Python!\" #Replace \n",
    "message_hi=message2.replace('Hello', 'Hi')\n",
    "message_python=message.replace('Python','World')\n",
    "print(message_hi)\n",
    "print(message_python)"
   ]
  },
  {
   "cell_type": "code",
   "execution_count": 54,
   "id": "bc41e894",
   "metadata": {},
   "outputs": [],
   "source": [
    "#Find() method application in a string\n",
    "message='Hello World'\n",
    "\n",
    "#csdfagh\n"
   ]
  },
  {
   "cell_type": "code",
   "execution_count": 55,
   "id": "dfc1af94",
   "metadata": {},
   "outputs": [
    {
     "data": {
      "text/plain": [
       "10"
      ]
     },
     "execution_count": 55,
     "metadata": {},
     "output_type": "execute_result"
    }
   ],
   "source": [
    "text=\"This is a boy and he is very intelligent.\"\n",
    "text.find('boy')"
   ]
  },
  {
   "cell_type": "code",
   "execution_count": 56,
   "id": "778b9a95",
   "metadata": {},
   "outputs": [
    {
     "data": {
      "text/plain": [
       "'Everybody who is living on this earth is leading his life, but if we talk about the human beings'"
      ]
     },
     "execution_count": 56,
     "metadata": {},
     "output_type": "execute_result"
    }
   ],
   "source": [
    "text2=\"Everybody who is living on this earth is leading his life, but if we talk about the human beings\"\n",
    "text2.capitalize()"
   ]
  },
  {
   "cell_type": "code",
   "execution_count": 57,
   "id": "a259429c",
   "metadata": {},
   "outputs": [
    {
     "data": {
      "text/plain": [
       "4"
      ]
     },
     "execution_count": 57,
     "metadata": {},
     "output_type": "execute_result"
    }
   ],
   "source": [
    "text2.count('is')"
   ]
  },
  {
   "cell_type": "code",
   "execution_count": 58,
   "id": "40b3891d",
   "metadata": {},
   "outputs": [
    {
     "data": {
      "text/plain": [
       "'EVERYBODY WHO IS LIVING ON THIS EARTH IS LEADING HIS LIFE, BUT IF WE TALK ABOUT THE HUMAN BEINGS THEN THEIR LIFE IS NOT THE BED OF ROSES, IT HAS PROBLEMS AND STRUGGLES. BUT THE LIFE HAS SOME BEAUTIFUL ASPECTS ALSO WHICH GIVES HIM A RAY OF HOPE AND POSITIVITY. WE HAVE FAMILY, RELATIVES AND FRIENDS WHO MAKE OUR LIFE SPECIAL AND MAKE US FEEL ABOUT THE SPECIALTY OF OUR LIFE.\\n\\nWE THE HUMAN BEINGS SHOULD TAKE INSPIRATION FROM GREAT PERSONALITIES IN THE SOCIETY AND CAN MAKE THEM OUR ROLE MODEL OF OUR LIFE, IN FACT WE SHOULD ALSO TRY TO BECOME LIKE THEM. LEADING LIFE DEPENDS ON OUR THINKING AND IF WE TAKE THINGS IN A POSITIVE WAY THE LIFE WILL SEEM EASY AND AWAY FROM ALL SORTS OF NEGATIVITY AND ISSUES.'"
      ]
     },
     "execution_count": 58,
     "metadata": {},
     "output_type": "execute_result"
    }
   ],
   "source": [
    "#multiple line comment'''   '''\n",
    "\n",
    "text3='''Everybody who is living on this earth is leading his life, but if we talk about the human beings then their life is not the bed of roses, it has problems and struggles. But the life has some beautiful aspects also which gives him a ray of hope and positivity. We have family, relatives and friends who make our life special and make us feel about the specialty of our life.\n",
    "\n",
    "We the human beings should take inspiration from great personalities in the society and can make them our role model of our life, in fact we should also try to become like them. Leading life depends on our thinking and if we take things in a positive way the life will seem easy and away from all sorts of negativity and issues.'''\n",
    "\n",
    "text3.upper()\n",
    "\n",
    "\n",
    "\n",
    "\n",
    "\n"
   ]
  },
  {
   "cell_type": "markdown",
   "id": "80adca4c",
   "metadata": {},
   "source": [
    "# 3.  List Tutorial"
   ]
  },
  {
   "cell_type": "markdown",
   "id": "5a68815d",
   "metadata": {},
   "source": [
    "* List are ordered.\n",
    "* list elements can be accessed by index number.\n",
    "* \n"
   ]
  },
  {
   "cell_type": "code",
   "execution_count": null,
   "id": "bd51fc5b",
   "metadata": {},
   "outputs": [],
   "source": []
  }
 ],
 "metadata": {
  "kernelspec": {
   "display_name": "Python 3 (ipykernel)",
   "language": "python",
   "name": "python3"
  },
  "language_info": {
   "codemirror_mode": {
    "name": "ipython",
    "version": 3
   },
   "file_extension": ".py",
   "mimetype": "text/x-python",
   "name": "python",
   "nbconvert_exporter": "python",
   "pygments_lexer": "ipython3",
   "version": "3.9.7"
  }
 },
 "nbformat": 4,
 "nbformat_minor": 5
}
