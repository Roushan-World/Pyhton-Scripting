{
 "cells": [
  {
   "cell_type": "markdown",
   "id": "fdfbf012",
   "metadata": {},
   "source": [
    "# 4. Tuples in Python"
   ]
  },
  {
   "cell_type": "markdown",
   "id": "3697e553",
   "metadata": {},
   "source": [
    "* Tuples  are immutable lists and cannnot be changed in any way once it is created.\n",
    "\n",
    "* Tuples are defined in the same ways as lists.\n",
    "* Tuples are also has the same structure were commas separated the values.\n",
    "* Tuples can stores duplicates value.\n",
    "* Tuples allows you to store several data items including string, integers, float in one variables."
   ]
  },
  {
   "cell_type": "code",
   "execution_count": 1,
   "id": "b3b533f3",
   "metadata": {},
   "outputs": [
    {
     "data": {
      "text/plain": [
       "tuple"
      ]
     },
     "execution_count": 1,
     "metadata": {},
     "output_type": "execute_result"
    }
   ],
   "source": [
    "# Take a tuple\n",
    "x=(\"string\",12,3.14,True,False)\n",
    "type(x)"
   ]
  },
  {
   "cell_type": "code",
   "execution_count": 2,
   "id": "8b583abf",
   "metadata": {},
   "outputs": [
    {
     "name": "stdout",
     "output_type": "stream",
     "text": [
      "<class 'tuple'>\n"
     ]
    }
   ],
   "source": [
    "n=(\"Hello\",1,2,3,4,5,6.75,8.37)\n",
    "print (type(n))"
   ]
  },
  {
   "cell_type": "code",
   "execution_count": 6,
   "id": "1bd939c0",
   "metadata": {},
   "outputs": [
    {
     "name": "stdout",
     "output_type": "stream",
     "text": [
      "Hello\n",
      "<class 'str'>\n"
     ]
    }
   ],
   "source": [
    "print(n[0])\n",
    "print(type(n[0]))"
   ]
  },
  {
   "cell_type": "code",
   "execution_count": 4,
   "id": "54cca6b1",
   "metadata": {},
   "outputs": [
    {
     "name": "stdout",
     "output_type": "stream",
     "text": [
      "1\n"
     ]
    }
   ],
   "source": [
    "print(n[1])"
   ]
  },
  {
   "cell_type": "code",
   "execution_count": 9,
   "id": "961259d9",
   "metadata": {},
   "outputs": [
    {
     "name": "stdout",
     "output_type": "stream",
     "text": [
      "Hello World \n",
      "First sentence of any programming\n"
     ]
    }
   ],
   "source": [
    "tuple_1=\"Hello World \\n\"\n",
    "tuple_2=\"First sentence of any programming\"\n",
    "t= tuple_1+tuple_2\n",
    "print(t)"
   ]
  },
  {
   "cell_type": "code",
   "execution_count": 10,
   "id": "c1ae085d",
   "metadata": {},
   "outputs": [
    {
     "data": {
      "text/plain": [
       "(1, 2, 3, 4, 5, 10, 100, 1000, 10000, 1, 2, 3, 4, 5, 10, 100, 1000, 10000)"
      ]
     },
     "execution_count": 10,
     "metadata": {},
     "output_type": "execute_result"
    }
   ],
   "source": [
    "rep=(1,2,3,4,5,10,100,1000,10000)\n",
    "rep*2"
   ]
  },
  {
   "cell_type": "code",
   "execution_count": 11,
   "id": "6018c8b4",
   "metadata": {},
   "outputs": [
    {
     "name": "stdout",
     "output_type": "stream",
     "text": [
      "True\n"
     ]
    }
   ],
   "source": [
    "rep_1=(1,2,3,4,5,10,100,1000,10000)\n",
    "print(2 in rep_1)\n"
   ]
  },
  {
   "cell_type": "markdown",
   "id": "5acdb618",
   "metadata": {},
   "source": [
    "# Nested Tuples"
   ]
  },
  {
   "cell_type": "code",
   "execution_count": 15,
   "id": "6e54ae09",
   "metadata": {},
   "outputs": [
    {
     "data": {
      "text/plain": [
       "('biotechnology', (0, 5), ('fermentation', 'ethenol'), (3.14, 'pi'), 1.681)"
      ]
     },
     "execution_count": 15,
     "metadata": {},
     "output_type": "execute_result"
    }
   ],
   "source": [
    "# Take a nested tuples\n",
    "nested_tuples=(\"biotechnology\",(0,5),('fermentation','ethenol'),(3.14,\"pi\"),(1.681))\n",
    "nested_tuples"
   ]
  },
  {
   "cell_type": "code",
   "execution_count": 22,
   "id": "c5a6752c",
   "metadata": {},
   "outputs": [
    {
     "name": "stdout",
     "output_type": "stream",
     "text": [
      "Item 0 of nested tuples:  biotechnology\n",
      "Item 0 of nested tuples:  (0, 5)\n"
     ]
    }
   ],
   "source": [
    "print(\"Item 0 of nested tuples: \",nested_tuples[0])\n",
    "print(\"Item 0 of nested tuples: \",nested_tuples[1])\n"
   ]
  },
  {
   "cell_type": "code",
   "execution_count": 21,
   "id": "e7730841",
   "metadata": {},
   "outputs": [
    {
     "name": "stdout",
     "output_type": "stream",
     "text": [
      "print item of nested tuple 0  biotechnology\n",
      "print item of nested tuple 1  (0, 5)\n",
      "print item of nested tuple 2  ('fermentation', 'ethenol')\n",
      "print item of nested tuple 3  (3.14, 'pi')\n",
      "print item of nested tuple 4  1.68\n"
     ]
    }
   ],
   "source": [
    "nt=(\"biotechnology\",(0,5),('fermentation',\"ethenol\"),(3.14,\"pi\"),(1.68))\n",
    "print (\"print item of nested tuple 0 \", nt[0])\n",
    "print (\"print item of nested tuple 1 \" , nt[1])\n",
    "print (\"print item of nested tuple 2 \" , nt[2])\n",
    "print (\"print item of nested tuple 3 \" , nt[3])\n",
    "print (\"print item of nested tuple 4 \" , nt[4])"
   ]
  },
  {
   "cell_type": "code",
   "execution_count": 23,
   "id": "9087b226",
   "metadata": {},
   "outputs": [
    {
     "ename": "TypeError",
     "evalue": "'tuple' object does not support item assignment",
     "output_type": "error",
     "traceback": [
      "\u001b[1;31m---------------------------------------------------------------------------\u001b[0m",
      "\u001b[1;31mTypeError\u001b[0m                                 Traceback (most recent call last)",
      "\u001b[1;32mC:\\Users\\ROUSHA~1\\AppData\\Local\\Temp/ipykernel_13516/4197834102.py\u001b[0m in \u001b[0;36m<module>\u001b[1;34m\u001b[0m\n\u001b[0;32m      2\u001b[0m \u001b[1;31m# Take a tuple\u001b[0m\u001b[1;33m\u001b[0m\u001b[1;33m\u001b[0m\u001b[0m\n\u001b[0;32m      3\u001b[0m \u001b[0mtuple_4\u001b[0m\u001b[1;33m=\u001b[0m\u001b[1;33m(\u001b[0m\u001b[1;36m1\u001b[0m\u001b[1;33m,\u001b[0m\u001b[1;36m3\u001b[0m\u001b[1;33m,\u001b[0m\u001b[1;36m5\u001b[0m\u001b[1;33m,\u001b[0m\u001b[1;36m7\u001b[0m\u001b[1;33m,\u001b[0m\u001b[1;36m10\u001b[0m\u001b[1;33m,\u001b[0m\u001b[1;34m\"Hello World\"\u001b[0m\u001b[1;33m)\u001b[0m\u001b[1;33m\u001b[0m\u001b[1;33m\u001b[0m\u001b[0m\n\u001b[1;32m----> 4\u001b[1;33m \u001b[0mtuple_4\u001b[0m\u001b[1;33m[\u001b[0m\u001b[1;36m5\u001b[0m\u001b[1;33m]\u001b[0m\u001b[1;33m=\u001b[0m\u001b[1;34m\"Hi\"\u001b[0m\u001b[1;33m\u001b[0m\u001b[1;33m\u001b[0m\u001b[0m\n\u001b[0m\u001b[0;32m      5\u001b[0m \u001b[0mprint\u001b[0m\u001b[1;33m(\u001b[0m\u001b[0mtuple_4\u001b[0m\u001b[1;33m)\u001b[0m\u001b[1;33m\u001b[0m\u001b[1;33m\u001b[0m\u001b[0m\n",
      "\u001b[1;31mTypeError\u001b[0m: 'tuple' object does not support item assignment"
     ]
    }
   ],
   "source": [
    "# Q. How to check tuple is immutable\n",
    "# Take a tuple\n",
    "tuple_4=(1,3,5,7,10,\"Hello World\")\n",
    "tuple_4[5]=\"Hi\"\n",
    "print(tuple_4)"
   ]
  },
  {
   "cell_type": "markdown",
   "id": "bb5c9e3c",
   "metadata": {},
   "source": [
    "# Delete a tuple"
   ]
  },
  {
   "cell_type": "markdown",
   "id": "c9dd8306",
   "metadata": {},
   "source": [
    "* An element in a tuple can not be deleted since it is immutable\n",
    "* But a whole tuple can be deleted"
   ]
  },
  {
   "cell_type": "code",
   "execution_count": 24,
   "id": "a7a7ca47",
   "metadata": {},
   "outputs": [
    {
     "name": "stdout",
     "output_type": "stream",
     "text": [
      "Before deleting: (1, 3, 5, 7, 10, 'Hello World')\n"
     ]
    },
    {
     "ename": "NameError",
     "evalue": "name 'tuple_5' is not defined",
     "output_type": "error",
     "traceback": [
      "\u001b[1;31m---------------------------------------------------------------------------\u001b[0m",
      "\u001b[1;31mNameError\u001b[0m                                 Traceback (most recent call last)",
      "\u001b[1;32mC:\\Users\\ROUSHA~1\\AppData\\Local\\Temp/ipykernel_13516/4062960624.py\u001b[0m in \u001b[0;36m<module>\u001b[1;34m\u001b[0m\n\u001b[0;32m      2\u001b[0m \u001b[0mprint\u001b[0m\u001b[1;33m(\u001b[0m\u001b[1;34m\"Before deleting:\"\u001b[0m\u001b[1;33m,\u001b[0m\u001b[0mtuple_5\u001b[0m\u001b[1;33m)\u001b[0m\u001b[1;33m\u001b[0m\u001b[1;33m\u001b[0m\u001b[0m\n\u001b[0;32m      3\u001b[0m \u001b[1;32mdel\u001b[0m\u001b[1;33m(\u001b[0m\u001b[0mtuple_5\u001b[0m\u001b[1;33m)\u001b[0m\u001b[1;33m\u001b[0m\u001b[1;33m\u001b[0m\u001b[0m\n\u001b[1;32m----> 4\u001b[1;33m \u001b[0mprint\u001b[0m\u001b[1;33m(\u001b[0m\u001b[1;34m\"After deleting:\"\u001b[0m\u001b[1;33m,\u001b[0m \u001b[0mtuple_5\u001b[0m\u001b[1;33m)\u001b[0m\u001b[1;33m\u001b[0m\u001b[1;33m\u001b[0m\u001b[0m\n\u001b[0m",
      "\u001b[1;31mNameError\u001b[0m: name 'tuple_5' is not defined"
     ]
    }
   ],
   "source": [
    "tuple_5=(1,3,5,7,10,\"Hello World\")\n",
    "print(\"Before deleting:\",tuple_5)\n",
    "del(tuple_5)\n",
    "print(\"After deleting:\", tuple_5)"
   ]
  },
  {
   "cell_type": "markdown",
   "id": "6b4816e1",
   "metadata": {},
   "source": [
    "# Count() method "
   ]
  },
  {
   "cell_type": "code",
   "execution_count": 26,
   "id": "22066f64",
   "metadata": {},
   "outputs": [
    {
     "data": {
      "text/plain": [
       "3"
      ]
     },
     "execution_count": 26,
     "metadata": {},
     "output_type": "execute_result"
    }
   ],
   "source": [
    "tuple_6=(1,1,2,2,2,3,3,3,3,4,4,4,5,5,5,1,10,10,10)\n",
    "tuple_6.count(5)"
   ]
  },
  {
   "cell_type": "code",
   "execution_count": null,
   "id": "69d48ab8",
   "metadata": {},
   "outputs": [],
   "source": []
  }
 ],
 "metadata": {
  "kernelspec": {
   "display_name": "Python 3 (ipykernel)",
   "language": "python",
   "name": "python3"
  },
  "language_info": {
   "codemirror_mode": {
    "name": "ipython",
    "version": 3
   },
   "file_extension": ".py",
   "mimetype": "text/x-python",
   "name": "python",
   "nbconvert_exporter": "python",
   "pygments_lexer": "ipython3",
   "version": "3.9.7"
  }
 },
 "nbformat": 4,
 "nbformat_minor": 5
}
